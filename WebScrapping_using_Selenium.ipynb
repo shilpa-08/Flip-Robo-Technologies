{
 "cells": [
  {
   "cell_type": "markdown",
   "metadata": {},
   "source": [
    "# Assignment Question No 1 "
   ]
  },
  {
   "cell_type": "markdown",
   "metadata": {},
   "source": [
    "Q1: Write a python program to scrape data for “Data Analyst” Job position in “Bangalore” location. You have to scrape the job-title, job-location, company_name, experience_required. You have to scrape first 10 jobs data. This task will be done in following steps: \n",
    "        \n",
    "      1. first get the webpage https://www.naukri.com/ \n",
    "            \n",
    "      2. Enter “Data Analyst” in “Skill,Designations,Companies” field and enter “Bangalore” in “enter the location” field.\n",
    "            \n",
    "      3. Then click the search button.\n",
    "            \n",
    "      4. Then scrape the data for the first 10 jobs results you get. \n",
    "            \n",
    "      5. Finally create a dataframe of the scraped data. "
   ]
  },
  {
   "cell_type": "code",
   "execution_count": 1,
   "metadata": {},
   "outputs": [],
   "source": [
    "# importing necessary webdrivers\n",
    "import selenium\n",
    "import pandas as pd\n",
    "import time\n",
    "from selenium import webdriver"
   ]
  },
  {
   "cell_type": "code",
   "execution_count": 2,
   "metadata": {},
   "outputs": [],
   "source": [
    "# activating the chromedriver\n",
    "driver=webdriver.Chrome(r'chromedriver.exe')"
   ]
  },
  {
   "cell_type": "code",
   "execution_count": 3,
   "metadata": {},
   "outputs": [],
   "source": [
    "#loading the website\n",
    "driver.get('https://www.naukri.com/')"
   ]
  },
  {
   "cell_type": "code",
   "execution_count": 4,
   "metadata": {},
   "outputs": [
    {
     "name": "stdout",
     "output_type": "stream",
     "text": [
      "Enter the Job Title you want to searchData Analyst\n",
      "Enter the Location Banglore\n"
     ]
    }
   ],
   "source": [
    "# asking the user for the data to be searched\n",
    "input1=input(\"Enter the Job Title you want to search\")\n",
    "input2=input(\"Enter the Location \")"
   ]
  },
  {
   "cell_type": "code",
   "execution_count": 5,
   "metadata": {},
   "outputs": [],
   "source": [
    "# entering the job title in skill, designation companies\n",
    "search_bar1=driver.find_element_by_id('qsb-keyword-sugg')\n",
    "search_bar1.clear()\n",
    "search_bar1.send_keys(input1)"
   ]
  },
  {
   "cell_type": "code",
   "execution_count": 6,
   "metadata": {},
   "outputs": [],
   "source": [
    "# entering the location inn enter location columns\n",
    "search_bar2=driver.find_element_by_id('qsb-location-sugg')\n",
    "search_bar2.clear()\n",
    "search_bar2.send_keys(input2)"
   ]
  },
  {
   "cell_type": "code",
   "execution_count": 7,
   "metadata": {},
   "outputs": [],
   "source": [
    "# clicking on the search button\n",
    "search_button=driver.find_element_by_xpath('//div[@class=\"search-btn\"]')\n",
    "search_button.click()"
   ]
  },
  {
   "cell_type": "code",
   "execution_count": 8,
   "metadata": {},
   "outputs": [
    {
     "data": {
      "text/plain": [
       "['Data Scientist / Data Analyst -Business Analyst',\n",
       " 'Hiring For Data Analyst/ MIS Reporting Analyst - Bangalore',\n",
       " 'Data Analyst - Informatica MDM',\n",
       " 'Assistant Vice President - MIS & Reporting ( Business Data Analyst)',\n",
       " 'Data Analyst',\n",
       " 'Data Analyst',\n",
       " 'Data Analyst',\n",
       " 'Data Analyst',\n",
       " 'Data Analyst',\n",
       " 'Data Analyst',\n",
       " 'Senior/Regular Business Analyst / Data Analyst',\n",
       " 'Data Analyst',\n",
       " 'Hiring For Data Analyst @ Flipkart on Contract',\n",
       " 'Senior Data Analyst',\n",
       " 'Data Analyst',\n",
       " 'Cybersecurity Data Analyst',\n",
       " 'Business Data Analyst - MIS & Reporting',\n",
       " 'Data Analyst / Business Analyst -',\n",
       " 'Business Data Analyst',\n",
       " 'Data Analyst']"
      ]
     },
     "execution_count": 8,
     "metadata": {},
     "output_type": "execute_result"
    }
   ],
   "source": [
    "# now we will extract all the job titles by xpath and append it in a list\n",
    "Job_Title=[]\n",
    "for i in driver.find_elements_by_xpath(\"//a[@class='title fw500 ellipsis']\"):\n",
    "    Job_Title.append(i.text)\n",
    "Job_Title"
   ]
  },
  {
   "cell_type": "code",
   "execution_count": 9,
   "metadata": {},
   "outputs": [
    {
     "data": {
      "text/plain": [
       "['0-3 Yrs',\n",
       " '2-4 Yrs',\n",
       " '6-9 Yrs',\n",
       " '12-18 Yrs',\n",
       " '3-6 Yrs',\n",
       " '3-6 Yrs',\n",
       " '4-9 Yrs',\n",
       " '4-8 Yrs',\n",
       " '3-6 Yrs',\n",
       " '1-3 Yrs',\n",
       " '3-6 Yrs',\n",
       " '1-3 Yrs',\n",
       " '2-6 Yrs',\n",
       " '2-5 Yrs',\n",
       " '5-10 Yrs',\n",
       " '5-8 Yrs',\n",
       " '3-8 Yrs',\n",
       " '1-5 Yrs',\n",
       " '5-10 Yrs',\n",
       " '1-6 Yrs']"
      ]
     },
     "execution_count": 9,
     "metadata": {},
     "output_type": "execute_result"
    }
   ],
   "source": [
    "# now we will extract all the experience by xpath and append it in a list\n",
    "Experience=[]\n",
    "for i in driver.find_elements_by_xpath(\"//li[@class='fleft grey-text br2 placeHolderLi experience']//span\"):\n",
    "    Experience.append(i.text)\n",
    "Experience"
   ]
  },
  {
   "cell_type": "code",
   "execution_count": 10,
   "metadata": {},
   "outputs": [
    {
     "data": {
      "text/plain": [
       "['Inflexion Analytix Private Limited',\n",
       " 'PHARMACEUTICAL RESEARCH ASSOCIATES INDIA Pvt Ltd',\n",
       " 'Shell India Markets Private Limited',\n",
       " 'INTERTRUSTVITEOS CORPORATE AND FUND SERVICES PVT. LTD.',\n",
       " 'Myntra Designs Pvt. Ltd.',\n",
       " 'Myntra Designs Pvt. Ltd.',\n",
       " 'Myntra Designs Pvt. Ltd.',\n",
       " 'Myntra Designs Pvt. Ltd.',\n",
       " 'Myntra Designs Pvt. Ltd.',\n",
       " 'SA Tech Software (I) Pvt. Ltd.',\n",
       " 'Luxoft',\n",
       " 'Flipkart Internet Private Limited',\n",
       " 'Flipkart Internet Private Limited',\n",
       " 'Flipkart Internet Private Limited',\n",
       " 'IBM India Pvt. Limited',\n",
       " 'Huawei Technologies India Pvt Ltd',\n",
       " 'INTERTRUST GROUP',\n",
       " 'LatentView Analytics Private Limited',\n",
       " 'ALSTOM India Limited',\n",
       " 'Udaan']"
      ]
     },
     "execution_count": 10,
     "metadata": {},
     "output_type": "execute_result"
    }
   ],
   "source": [
    "# now we will extract all the Company_Name by xpath and append it in a list\n",
    "Company_Name=[]                         # defining an empty list for storing company name\n",
    "temp=''                                  # defining an empty string as company names contains reviews and \\n \n",
    "for i in driver.find_elements_by_xpath('//div[@class=\"mt-7 companyInfo subheading lh16\"]'):\n",
    "    temp=i.text.split('\\n')                # temporary storing the data by spliting it through \\n\n",
    "    Company_Name.append(temp[0])          # appending only company name\n",
    "Company_Name"
   ]
  },
  {
   "cell_type": "code",
   "execution_count": 11,
   "metadata": {},
   "outputs": [
    {
     "data": {
      "text/plain": [
       "['Mumbai, Hyderabad/Secunderabad, Pune, Gurgaon/Gurugram, Chennai, Bangalore/Bengaluru',\n",
       " 'Bangalore/Bengaluru',\n",
       " 'Bangalore/Bengaluru',\n",
       " 'Mumbai, Bangalore/Bengaluru',\n",
       " 'Bangalore/Bengaluru',\n",
       " 'Bangalore/Bengaluru',\n",
       " 'Bangalore/Bengaluru',\n",
       " 'Bangalore/Bengaluru',\n",
       " 'Bangalore/Bengaluru',\n",
       " 'Kolkata, Pune, Chennai, Bangalore/Bengaluru, Delhi / NCR, Mumbai (All Areas)',\n",
       " 'Bangalore/Bengaluru',\n",
       " 'Bangalore/Bengaluru',\n",
       " 'Bangalore/Bengaluru',\n",
       " 'Bangalore/Bengaluru',\n",
       " 'Bangalore/Bengaluru',\n",
       " 'Bangalore/Bengaluru',\n",
       " 'Mumbai, Bangalore/Bengaluru',\n",
       " 'Chennai, Bangalore/Bengaluru',\n",
       " 'Bangalore/Bengaluru',\n",
       " 'Bangalore/Bengaluru']"
      ]
     },
     "execution_count": 11,
     "metadata": {},
     "output_type": "execute_result"
    }
   ],
   "source": [
    "# now we will extract all the Company_Name by xpath and append it in a list\n",
    "Location=[]\n",
    "for i in driver.find_elements_by_xpath('//li[@class=\"fleft grey-text br2 placeHolderLi location\"]'):\n",
    "    Location.append(i.text)\n",
    "Location"
   ]
  },
  {
   "cell_type": "code",
   "execution_count": 12,
   "metadata": {},
   "outputs": [],
   "source": [
    "# saving the information in the DataFrame\n",
    "import pandas as pd\n",
    "Ten_Job_in_Banglore=pd.DataFrame({})\n",
    "Ten_Job_in_Banglore['Job Title']=Job_Title[0:10]\n",
    "Ten_Job_in_Banglore['Company Name']=Company_Name[0:10]\n",
    "Ten_Job_in_Banglore['Experience']=Experience[0:10]\n",
    "Ten_Job_in_Banglore['Location']=Location[0:10]"
   ]
  },
  {
   "cell_type": "code",
   "execution_count": 13,
   "metadata": {},
   "outputs": [
    {
     "data": {
      "text/html": [
       "<div>\n",
       "<style scoped>\n",
       "    .dataframe tbody tr th:only-of-type {\n",
       "        vertical-align: middle;\n",
       "    }\n",
       "\n",
       "    .dataframe tbody tr th {\n",
       "        vertical-align: top;\n",
       "    }\n",
       "\n",
       "    .dataframe thead th {\n",
       "        text-align: right;\n",
       "    }\n",
       "</style>\n",
       "<table border=\"1\" class=\"dataframe\">\n",
       "  <thead>\n",
       "    <tr style=\"text-align: right;\">\n",
       "      <th></th>\n",
       "      <th>Job Title</th>\n",
       "      <th>Company Name</th>\n",
       "      <th>Experience</th>\n",
       "      <th>Location</th>\n",
       "    </tr>\n",
       "  </thead>\n",
       "  <tbody>\n",
       "    <tr>\n",
       "      <th>0</th>\n",
       "      <td>Data Scientist / Data Analyst -Business Analyst</td>\n",
       "      <td>Inflexion Analytix Private Limited</td>\n",
       "      <td>0-3 Yrs</td>\n",
       "      <td>Mumbai, Hyderabad/Secunderabad, Pune, Gurgaon/...</td>\n",
       "    </tr>\n",
       "    <tr>\n",
       "      <th>1</th>\n",
       "      <td>Hiring For Data Analyst/ MIS Reporting Analyst...</td>\n",
       "      <td>PHARMACEUTICAL RESEARCH ASSOCIATES INDIA Pvt Ltd</td>\n",
       "      <td>2-4 Yrs</td>\n",
       "      <td>Bangalore/Bengaluru</td>\n",
       "    </tr>\n",
       "    <tr>\n",
       "      <th>2</th>\n",
       "      <td>Data Analyst - Informatica MDM</td>\n",
       "      <td>Shell India Markets Private Limited</td>\n",
       "      <td>6-9 Yrs</td>\n",
       "      <td>Bangalore/Bengaluru</td>\n",
       "    </tr>\n",
       "    <tr>\n",
       "      <th>3</th>\n",
       "      <td>Assistant Vice President - MIS &amp; Reporting ( B...</td>\n",
       "      <td>INTERTRUSTVITEOS CORPORATE AND FUND SERVICES P...</td>\n",
       "      <td>12-18 Yrs</td>\n",
       "      <td>Mumbai, Bangalore/Bengaluru</td>\n",
       "    </tr>\n",
       "    <tr>\n",
       "      <th>4</th>\n",
       "      <td>Data Analyst</td>\n",
       "      <td>Myntra Designs Pvt. Ltd.</td>\n",
       "      <td>3-6 Yrs</td>\n",
       "      <td>Bangalore/Bengaluru</td>\n",
       "    </tr>\n",
       "    <tr>\n",
       "      <th>5</th>\n",
       "      <td>Data Analyst</td>\n",
       "      <td>Myntra Designs Pvt. Ltd.</td>\n",
       "      <td>3-6 Yrs</td>\n",
       "      <td>Bangalore/Bengaluru</td>\n",
       "    </tr>\n",
       "    <tr>\n",
       "      <th>6</th>\n",
       "      <td>Data Analyst</td>\n",
       "      <td>Myntra Designs Pvt. Ltd.</td>\n",
       "      <td>4-9 Yrs</td>\n",
       "      <td>Bangalore/Bengaluru</td>\n",
       "    </tr>\n",
       "    <tr>\n",
       "      <th>7</th>\n",
       "      <td>Data Analyst</td>\n",
       "      <td>Myntra Designs Pvt. Ltd.</td>\n",
       "      <td>4-8 Yrs</td>\n",
       "      <td>Bangalore/Bengaluru</td>\n",
       "    </tr>\n",
       "    <tr>\n",
       "      <th>8</th>\n",
       "      <td>Data Analyst</td>\n",
       "      <td>Myntra Designs Pvt. Ltd.</td>\n",
       "      <td>3-6 Yrs</td>\n",
       "      <td>Bangalore/Bengaluru</td>\n",
       "    </tr>\n",
       "    <tr>\n",
       "      <th>9</th>\n",
       "      <td>Data Analyst</td>\n",
       "      <td>SA Tech Software (I) Pvt. Ltd.</td>\n",
       "      <td>1-3 Yrs</td>\n",
       "      <td>Kolkata, Pune, Chennai, Bangalore/Bengaluru, D...</td>\n",
       "    </tr>\n",
       "  </tbody>\n",
       "</table>\n",
       "</div>"
      ],
      "text/plain": [
       "                                           Job Title  \\\n",
       "0    Data Scientist / Data Analyst -Business Analyst   \n",
       "1  Hiring For Data Analyst/ MIS Reporting Analyst...   \n",
       "2                     Data Analyst - Informatica MDM   \n",
       "3  Assistant Vice President - MIS & Reporting ( B...   \n",
       "4                                       Data Analyst   \n",
       "5                                       Data Analyst   \n",
       "6                                       Data Analyst   \n",
       "7                                       Data Analyst   \n",
       "8                                       Data Analyst   \n",
       "9                                       Data Analyst   \n",
       "\n",
       "                                        Company Name Experience  \\\n",
       "0                 Inflexion Analytix Private Limited    0-3 Yrs   \n",
       "1   PHARMACEUTICAL RESEARCH ASSOCIATES INDIA Pvt Ltd    2-4 Yrs   \n",
       "2                Shell India Markets Private Limited    6-9 Yrs   \n",
       "3  INTERTRUSTVITEOS CORPORATE AND FUND SERVICES P...  12-18 Yrs   \n",
       "4                           Myntra Designs Pvt. Ltd.    3-6 Yrs   \n",
       "5                           Myntra Designs Pvt. Ltd.    3-6 Yrs   \n",
       "6                           Myntra Designs Pvt. Ltd.    4-9 Yrs   \n",
       "7                           Myntra Designs Pvt. Ltd.    4-8 Yrs   \n",
       "8                           Myntra Designs Pvt. Ltd.    3-6 Yrs   \n",
       "9                     SA Tech Software (I) Pvt. Ltd.    1-3 Yrs   \n",
       "\n",
       "                                            Location  \n",
       "0  Mumbai, Hyderabad/Secunderabad, Pune, Gurgaon/...  \n",
       "1                                Bangalore/Bengaluru  \n",
       "2                                Bangalore/Bengaluru  \n",
       "3                        Mumbai, Bangalore/Bengaluru  \n",
       "4                                Bangalore/Bengaluru  \n",
       "5                                Bangalore/Bengaluru  \n",
       "6                                Bangalore/Bengaluru  \n",
       "7                                Bangalore/Bengaluru  \n",
       "8                                Bangalore/Bengaluru  \n",
       "9  Kolkata, Pune, Chennai, Bangalore/Bengaluru, D...  "
      ]
     },
     "execution_count": 13,
     "metadata": {},
     "output_type": "execute_result"
    }
   ],
   "source": [
    "Ten_Job_in_Banglore"
   ]
  },
  {
   "cell_type": "code",
   "execution_count": 14,
   "metadata": {},
   "outputs": [],
   "source": [
    "# closing the google chrome\n",
    "driver.close()"
   ]
  },
  {
   "cell_type": "markdown",
   "metadata": {},
   "source": [
    "# Assignment Question No 2"
   ]
  },
  {
   "cell_type": "markdown",
   "metadata": {},
   "source": [
    "Q2: Write a python program to scrape data for “Data Scientist” Job position in “Bangalore” location. You have to scrape the job-title, job-location, company_name, full job-description. You have to scrape first 10 jobs data. This task will be done in following steps: \n",
    "        \n",
    "        1. first get the webpage https://www.naukri.com/\n",
    "            \n",
    "      2. Enter “Data Scientist” in “Skill,Designations,Companies” field and enter “Bangalore” in “enter the location” field.\n",
    "            \n",
    "       3. Then click the search button. \n",
    "            \n",
    "        4. Then scrape the data for the first 10 jobs results you get. \n",
    "          \n",
    "        5. Finally create a dataframe of the scraped data. "
   ]
  },
  {
   "cell_type": "code",
   "execution_count": 15,
   "metadata": {},
   "outputs": [],
   "source": [
    "# importing necessary libraries\n",
    "\n",
    "import pandas as pd\n",
    "import selenium\n",
    "import time\n",
    "from selenium import webdriver"
   ]
  },
  {
   "cell_type": "code",
   "execution_count": 16,
   "metadata": {},
   "outputs": [],
   "source": [
    "# activating the chrome driver\n",
    "driver=webdriver.Chrome(r'Chromedriver.exe')"
   ]
  },
  {
   "cell_type": "code",
   "execution_count": 17,
   "metadata": {},
   "outputs": [],
   "source": [
    "# loading the website\n",
    "driver.get('https://www.naukri.com/')"
   ]
  },
  {
   "cell_type": "code",
   "execution_count": 18,
   "metadata": {},
   "outputs": [
    {
     "name": "stdout",
     "output_type": "stream",
     "text": [
      "Enter the job title you want to searchData Scientist\n",
      "Enter the locationBanglore\n"
     ]
    }
   ],
   "source": [
    "# seeking input from user\n",
    "input1=input(\"Enter the job title you want to search\")\n",
    "input2=input('Enter the location')"
   ]
  },
  {
   "cell_type": "code",
   "execution_count": 19,
   "metadata": {},
   "outputs": [],
   "source": [
    "# sending the inputs to the seacrh bar\n",
    "search_bar1=driver.find_element_by_id('qsb-keyword-sugg')\n",
    "search_bar1.clear()\n",
    "search_bar1.send_keys(input1)"
   ]
  },
  {
   "cell_type": "code",
   "execution_count": 20,
   "metadata": {},
   "outputs": [],
   "source": [
    "# sending the inputs to the seacrh bar\n",
    "search_bar2=driver.find_element_by_id('qsb-location-sugg')\n",
    "search_bar2.clear()\n",
    "search_bar2.send_keys(input2)"
   ]
  },
  {
   "cell_type": "code",
   "execution_count": 21,
   "metadata": {},
   "outputs": [],
   "source": [
    "# clickng the search button\n",
    "search_button=driver.find_element_by_xpath('//div[@class=\"search-btn\"]')\n",
    "search_button.click()\n",
    "time.sleep(10)"
   ]
  },
  {
   "cell_type": "code",
   "execution_count": 22,
   "metadata": {},
   "outputs": [
    {
     "data": {
      "text/plain": [
       "['Data Scientist / Data Analyst -Business Analyst',\n",
       " 'Senior Data Scientist, Modeling',\n",
       " 'Data Scientist - IBM Garage',\n",
       " 'Big Data - Data Scientist',\n",
       " 'Specialist I - Data Scientist',\n",
       " 'Lead Data Scientist',\n",
       " 'SDE Lead Data Scientist-L3',\n",
       " 'Computational Design Lead Data Scientist-L3',\n",
       " 'Hiring For DATA Scientist - ON Contract Basis (3-6 Months)',\n",
       " 'Senior Data Scientist - Chatbot & NLP',\n",
       " 'Senior Data Scientist - Chatbot & NLP',\n",
       " 'Sr. Data Scientist',\n",
       " 'Senior Data Scientist',\n",
       " 'Senior Data Scientist - Kinara Capital',\n",
       " 'Senior Data Scientist, Marketing Analytics',\n",
       " 'Data Scientist',\n",
       " 'Hiring For Lead data Scientist For Bangalore location',\n",
       " 'Principal Data Scientist',\n",
       " 'we are hiring For the role of data engineer\\\\data scientist',\n",
       " 'Data Scientist']"
      ]
     },
     "execution_count": 22,
     "metadata": {},
     "output_type": "execute_result"
    }
   ],
   "source": [
    "# now we will extract all the job titles and job description simultaneously by xpath and append it in a list\n",
    "Job_Title=[]           #empty list\n",
    "job_description_url=[]           #empty list\n",
    "for i in driver.find_elements_by_xpath(\"//a[@class='title fw500 ellipsis']\"):\n",
    "    Job_Title.append(i.text)             #appending data\n",
    "    job_description_url.append(i.get_attribute('href'))          #appending data\n",
    "Job_Title"
   ]
  },
  {
   "cell_type": "code",
   "execution_count": 23,
   "metadata": {},
   "outputs": [
    {
     "data": {
      "text/plain": [
       "['https://www.naukri.com/job-listings-data-scientist-data-analyst-business-analyst-inflexion-analytix-private-limited-mumbai-hyderabad-secunderabad-pune-gurgaon-gurugram-chennai-bangalore-bengaluru-0-to-3-years-100521000368?src=jobsearchDesk&sid=16214112556287288&xp=1&px=1',\n",
       " 'https://www.naukri.com/job-listings-senior-data-scientist-modeling-nielsen-kolkata-gurgaon-gurugram-bangalore-bengaluru-vadodara-baroda-mumbai-all-areas-3-to-7-years-280421003878?src=jobsearchDesk&sid=16214112556287288&xp=2&px=1',\n",
       " 'https://www.naukri.com/job-listings-data-scientist-ibm-garage-ibm-india-pvt-limited-noida-hyderabad-secunderabad-bangalore-bengaluru-5-to-8-years-040521900448?src=jobsearchDesk&sid=16214112556287288&xp=3&px=1',\n",
       " 'https://www.naukri.com/job-listings-big-data-data-scientist-xoriant-solutions-pvt-ltd-kochi-cochin-indore-hyderabad-secunderabad-pune-ahmedabad-bangalore-bengaluru-mumbai-all-areas-1-to-3-years-130521005018?src=jobsearchDesk&sid=16214112556287288&xp=4&px=1',\n",
       " 'https://www.naukri.com/job-listings-specialist-i-data-scientist-philips-india-limited-bangalore-bengaluru-4-to-7-years-170521500993?src=jobsearchDesk&sid=16214112556287288&xp=5&px=1',\n",
       " 'https://www.naukri.com/job-listings-lead-data-scientist-intel-technology-india-pvt-ltd-bangalore-bengaluru-6-to-10-years-070521500578?src=jobsearchDesk&sid=16214112556287288&xp=6&px=1',\n",
       " 'https://www.naukri.com/job-listings-sde-lead-data-scientist-l3-huawei-technologies-india-pvt-ltd-bangalore-bengaluru-5-to-8-years-120521901434?src=jobsearchDesk&sid=16214112556287288&xp=7&px=1',\n",
       " 'https://www.naukri.com/job-listings-computational-design-lead-data-scientist-l3-huawei-technologies-india-pvt-ltd-bangalore-bengaluru-5-to-8-years-120521901329?src=jobsearchDesk&sid=16214112556287288&xp=8&px=1',\n",
       " 'https://www.naukri.com/job-listings-hiring-for-data-scientist-on-contract-basis-3-6-months-globaledx-learning-and-technology-solution-pvt-ltd-hyderabad-secunderabad-bangalore-bengaluru-mumbai-all-areas-3-to-8-years-170521003581?src=jobsearchDesk&sid=16214112556287288&xp=9&px=1',\n",
       " 'https://www.naukri.com/job-listings-senior-data-scientist-chatbot-nlp-gojek-tech-bangalore-bengaluru-3-to-7-years-060521500524?src=jobsearchDesk&sid=16214112556287288&xp=10&px=1',\n",
       " 'https://www.naukri.com/job-listings-senior-data-scientist-chatbot-nlp-go-jek-india-bangalore-bengaluru-5-to-10-years-050521500478?src=jobsearchDesk&sid=16214112556287288&xp=11&px=1',\n",
       " 'https://www.naukri.com/job-listings-sr-data-scientist-valiance-analytics-private-limited-bangalore-bengaluru-delhi-ncr-6-to-8-years-180521006944?src=jobsearchDesk&sid=16214112556287288&xp=12&px=1',\n",
       " 'https://www.naukri.com/job-listings-senior-data-scientist-kinara-financial-private-limited-bangalore-bengaluru-5-to-10-years-100521500393?src=jobsearchDesk&sid=16214112556287288&xp=13&px=1',\n",
       " 'https://www.naukri.com/job-listings-senior-data-scientist-kinara-capital-kinara-financial-private-limited-bangalore-bengaluru-5-to-10-years-060521500976?src=jobsearchDesk&sid=16214112556287288&xp=14&px=1',\n",
       " 'https://www.naukri.com/job-listings-senior-data-scientist-marketing-analytics-hudsons-bay-company-bangalore-bengaluru-2-to-4-years-140521501771?src=jobsearchDesk&sid=16214112556287288&xp=15&px=1',\n",
       " 'https://www.naukri.com/job-listings-data-scientist-applied-materials-india-private-limited-bangalore-bengaluru-2-to-4-years-070521901521?src=jobsearchDesk&sid=16214112556287288&xp=16&px=1',\n",
       " 'https://www.naukri.com/job-listings-hiring-for-lead-data-scientist-for-bangalore-location-societe-generale-global-solution-centre-pvt-ltd-bangalore-bengaluru-5-to-9-years-130521000901?src=jobsearchDesk&sid=16214112556287288&xp=17&px=1',\n",
       " 'https://www.naukri.com/job-listings-principal-data-scientist-netapp-india-private-limited-bangalore-bengaluru-10-to-15-years-070521906988?src=jobsearchDesk&sid=16214112556287288&xp=18&px=1',\n",
       " 'https://www.naukri.com/job-listings-we-are-hiring-for-the-role-of-data-engineer-data-scientist-collabera-technologies-private-limited-bangalore-bengaluru-5-to-8-years-170521006288?src=jobsearchDesk&sid=16214112556287288&xp=19&px=1',\n",
       " 'https://www.naukri.com/job-listings-data-scientist-techknowledgey-pte-ltd-bangalore-bengaluru-0-to-2-years-070521003138?src=jobsearchDesk&sid=16214112556287288&xp=20&px=1']"
      ]
     },
     "execution_count": 23,
     "metadata": {},
     "output_type": "execute_result"
    }
   ],
   "source": [
    "job_description_url"
   ]
  },
  {
   "cell_type": "code",
   "execution_count": 24,
   "metadata": {},
   "outputs": [
    {
     "data": {
      "text/plain": [
       "['Inflexion Analytix Private Limited',\n",
       " 'Nielsen',\n",
       " 'IBM India Pvt. Limited',\n",
       " 'Xoriant Solutions Pvt Ltd',\n",
       " 'Philips India Limited',\n",
       " 'Intel Technology India Pvt Ltd',\n",
       " 'Huawei Technologies India Pvt Ltd',\n",
       " 'Huawei Technologies India Pvt Ltd',\n",
       " 'GlobalEdx Learning and Technology Solution Pvt Ltd',\n",
       " 'Gojek Tech',\n",
       " 'GO-JEK India',\n",
       " 'VALIANCE ANALYTICS PRIVATE LIMITED',\n",
       " 'Kinara Financial Private Limited',\n",
       " 'Kinara Financial Private Limited',\n",
       " 'Hudsons Bay Company',\n",
       " 'Applied Materials',\n",
       " 'Societe Generale',\n",
       " 'NetApp',\n",
       " 'COLLABERA',\n",
       " 'TechKnowledgey Pte Ltd']"
      ]
     },
     "execution_count": 24,
     "metadata": {},
     "output_type": "execute_result"
    }
   ],
   "source": [
    "# now we will extract all the Company_Name by xpath and append it in a list\n",
    "Company_Name=[]                         # defining an empty list for storing company name\n",
    "temp=''                                  # defining an empty string as company names contains reviews and \\n \n",
    "for i in driver.find_elements_by_xpath('//div[@class=\"mt-7 companyInfo subheading lh16\"]'):\n",
    "    temp=i.text.split('\\n')                # temporary storing the data by spliting it through \\n\n",
    "    Company_Name.append(temp[0])          # appending only company name\n",
    "Company_Name"
   ]
  },
  {
   "cell_type": "code",
   "execution_count": 25,
   "metadata": {},
   "outputs": [
    {
     "data": {
      "text/plain": [
       "['Mumbai, Hyderabad/Secunderabad, Pune, Gurgaon/Gurugram, Chennai, Bangalore/Bengaluru',\n",
       " 'Kolkata, Gurgaon/Gurugram, Bangalore/Bengaluru, Vadodara, Mumbai (All Areas)',\n",
       " 'Noida, Hyderabad/Secunderabad, Bangalore/Bengaluru',\n",
       " 'Kochi/Cochin, Indore, Hyderabad/Secunderabad, Pune, Ahmedabad, Bangalore/Bengaluru, Mumbai (All Areas)',\n",
       " 'Bangalore/Bengaluru',\n",
       " 'Bangalore/Bengaluru',\n",
       " 'Bangalore/Bengaluru',\n",
       " 'Bangalore/Bengaluru',\n",
       " 'Hyderabad/Secunderabad, Bangalore/Bengaluru, Mumbai (All Areas)',\n",
       " 'Bangalore/Bengaluru',\n",
       " 'Bangalore/Bengaluru',\n",
       " 'Bangalore/Bengaluru, Delhi / NCR',\n",
       " 'Bangalore/Bengaluru',\n",
       " 'Bangalore/Bengaluru',\n",
       " 'Bangalore/Bengaluru',\n",
       " 'Bangalore/Bengaluru',\n",
       " 'Bangalore/Bengaluru',\n",
       " 'Bangalore/Bengaluru',\n",
       " 'Bangalore/Bengaluru',\n",
       " 'Bangalore/Bengaluru']"
      ]
     },
     "execution_count": 25,
     "metadata": {},
     "output_type": "execute_result"
    }
   ],
   "source": [
    "# now we will extract all the Location by xpath and append it in a list\n",
    "Location=[]\n",
    "for i in driver.find_elements_by_xpath('//li[@class=\"fleft grey-text br2 placeHolderLi location\"]'):\n",
    "    Location.append(i.text)\n",
    "Location"
   ]
  },
  {
   "cell_type": "code",
   "execution_count": 26,
   "metadata": {},
   "outputs": [],
   "source": [
    "# importing Exception\n",
    "from selenium.common.exceptions import NoSuchElementException"
   ]
  },
  {
   "cell_type": "markdown",
   "metadata": {},
   "source": [
    "###### retrieving job description from url links"
   ]
  },
  {
   "cell_type": "code",
   "execution_count": 27,
   "metadata": {},
   "outputs": [],
   "source": [
    "import numpy as np\n",
    "job_descript=[]                        # defining an empty list for storing the description\n",
    "\n",
    "for i in job_description_url[0:10]:\n",
    "    driver.get(i)                         # getting each url individually \n",
    "    time.sleep(3)\n",
    "    try:\n",
    "        job_descr= driver.find_element_by_xpath(\"//section[@class='job-desc']\")\n",
    "        job_descript.append(job_descr.text.replace('\\n',' '))\n",
    "    except NoSuchElementException :            # using exceptions to append - on empty job description\n",
    "        job_descript.append('-')\n",
    "        \n",
    "            "
   ]
  },
  {
   "cell_type": "code",
   "execution_count": 28,
   "metadata": {},
   "outputs": [
    {
     "data": {
      "text/plain": [
       "10"
      ]
     },
     "execution_count": 28,
     "metadata": {},
     "output_type": "execute_result"
    }
   ],
   "source": [
    "len(job_descript)"
   ]
  },
  {
   "cell_type": "code",
   "execution_count": 29,
   "metadata": {},
   "outputs": [],
   "source": [
    "# storing data in a DataFrame\n",
    "import pandas as pd\n",
    "Job_in_Banglore=pd.DataFrame({})\n",
    "Job_in_Banglore['Job-title']=Job_Title[0:10]\n",
    "Job_in_Banglore['job-location']=Location[0:10]\n",
    "Job_in_Banglore['Company Name']=Company_Name[0:10]\n",
    "Job_in_Banglore['full-job-description']=job_descript\n"
   ]
  },
  {
   "cell_type": "code",
   "execution_count": 30,
   "metadata": {},
   "outputs": [
    {
     "data": {
      "text/html": [
       "<div>\n",
       "<style scoped>\n",
       "    .dataframe tbody tr th:only-of-type {\n",
       "        vertical-align: middle;\n",
       "    }\n",
       "\n",
       "    .dataframe tbody tr th {\n",
       "        vertical-align: top;\n",
       "    }\n",
       "\n",
       "    .dataframe thead th {\n",
       "        text-align: right;\n",
       "    }\n",
       "</style>\n",
       "<table border=\"1\" class=\"dataframe\">\n",
       "  <thead>\n",
       "    <tr style=\"text-align: right;\">\n",
       "      <th></th>\n",
       "      <th>Job-title</th>\n",
       "      <th>job-location</th>\n",
       "      <th>Company Name</th>\n",
       "      <th>full-job-description</th>\n",
       "    </tr>\n",
       "  </thead>\n",
       "  <tbody>\n",
       "    <tr>\n",
       "      <th>0</th>\n",
       "      <td>Data Scientist / Data Analyst -Business Analyst</td>\n",
       "      <td>Mumbai, Hyderabad/Secunderabad, Pune, Gurgaon/...</td>\n",
       "      <td>Inflexion Analytix Private Limited</td>\n",
       "      <td>Job description Job Role : Data Scientist/Data...</td>\n",
       "    </tr>\n",
       "    <tr>\n",
       "      <th>1</th>\n",
       "      <td>Senior Data Scientist, Modeling</td>\n",
       "      <td>Kolkata, Gurgaon/Gurugram, Bangalore/Bengaluru...</td>\n",
       "      <td>Nielsen</td>\n",
       "      <td>Job description We wont say we can predict the...</td>\n",
       "    </tr>\n",
       "    <tr>\n",
       "      <th>2</th>\n",
       "      <td>Data Scientist - IBM Garage</td>\n",
       "      <td>Noida, Hyderabad/Secunderabad, Bangalore/Benga...</td>\n",
       "      <td>IBM India Pvt. Limited</td>\n",
       "      <td>-</td>\n",
       "    </tr>\n",
       "    <tr>\n",
       "      <th>3</th>\n",
       "      <td>Big Data - Data Scientist</td>\n",
       "      <td>Kochi/Cochin, Indore, Hyderabad/Secunderabad, ...</td>\n",
       "      <td>Xoriant Solutions Pvt Ltd</td>\n",
       "      <td>-</td>\n",
       "    </tr>\n",
       "    <tr>\n",
       "      <th>4</th>\n",
       "      <td>Specialist I - Data Scientist</td>\n",
       "      <td>Bangalore/Bengaluru</td>\n",
       "      <td>Philips India Limited</td>\n",
       "      <td>Job description Responsibilities and Key Resul...</td>\n",
       "    </tr>\n",
       "    <tr>\n",
       "      <th>5</th>\n",
       "      <td>Lead Data Scientist</td>\n",
       "      <td>Bangalore/Bengaluru</td>\n",
       "      <td>Intel Technology India Pvt Ltd</td>\n",
       "      <td>Job description   We are seeking an outstandin...</td>\n",
       "    </tr>\n",
       "    <tr>\n",
       "      <th>6</th>\n",
       "      <td>SDE Lead Data Scientist-L3</td>\n",
       "      <td>Bangalore/Bengaluru</td>\n",
       "      <td>Huawei Technologies India Pvt Ltd</td>\n",
       "      <td>Job description Business &amp; Team overview: Foun...</td>\n",
       "    </tr>\n",
       "    <tr>\n",
       "      <th>7</th>\n",
       "      <td>Computational Design Lead Data Scientist-L3</td>\n",
       "      <td>Bangalore/Bengaluru</td>\n",
       "      <td>Huawei Technologies India Pvt Ltd</td>\n",
       "      <td>Job description Business &amp; Team overview: Foun...</td>\n",
       "    </tr>\n",
       "    <tr>\n",
       "      <th>8</th>\n",
       "      <td>Hiring For DATA Scientist - ON Contract Basis ...</td>\n",
       "      <td>Hyderabad/Secunderabad, Bangalore/Bengaluru, M...</td>\n",
       "      <td>GlobalEdx Learning and Technology Solution Pvt...</td>\n",
       "      <td>Job description Dear Aspirant,  Greetings from...</td>\n",
       "    </tr>\n",
       "    <tr>\n",
       "      <th>9</th>\n",
       "      <td>Senior Data Scientist - Chatbot &amp; NLP</td>\n",
       "      <td>Bangalore/Bengaluru</td>\n",
       "      <td>Gojek Tech</td>\n",
       "      <td>Job description What You Will Do Work with Dat...</td>\n",
       "    </tr>\n",
       "  </tbody>\n",
       "</table>\n",
       "</div>"
      ],
      "text/plain": [
       "                                           Job-title  \\\n",
       "0    Data Scientist / Data Analyst -Business Analyst   \n",
       "1                    Senior Data Scientist, Modeling   \n",
       "2                        Data Scientist - IBM Garage   \n",
       "3                          Big Data - Data Scientist   \n",
       "4                      Specialist I - Data Scientist   \n",
       "5                                Lead Data Scientist   \n",
       "6                         SDE Lead Data Scientist-L3   \n",
       "7        Computational Design Lead Data Scientist-L3   \n",
       "8  Hiring For DATA Scientist - ON Contract Basis ...   \n",
       "9              Senior Data Scientist - Chatbot & NLP   \n",
       "\n",
       "                                        job-location  \\\n",
       "0  Mumbai, Hyderabad/Secunderabad, Pune, Gurgaon/...   \n",
       "1  Kolkata, Gurgaon/Gurugram, Bangalore/Bengaluru...   \n",
       "2  Noida, Hyderabad/Secunderabad, Bangalore/Benga...   \n",
       "3  Kochi/Cochin, Indore, Hyderabad/Secunderabad, ...   \n",
       "4                                Bangalore/Bengaluru   \n",
       "5                                Bangalore/Bengaluru   \n",
       "6                                Bangalore/Bengaluru   \n",
       "7                                Bangalore/Bengaluru   \n",
       "8  Hyderabad/Secunderabad, Bangalore/Bengaluru, M...   \n",
       "9                                Bangalore/Bengaluru   \n",
       "\n",
       "                                        Company Name  \\\n",
       "0                 Inflexion Analytix Private Limited   \n",
       "1                                            Nielsen   \n",
       "2                             IBM India Pvt. Limited   \n",
       "3                          Xoriant Solutions Pvt Ltd   \n",
       "4                              Philips India Limited   \n",
       "5                     Intel Technology India Pvt Ltd   \n",
       "6                  Huawei Technologies India Pvt Ltd   \n",
       "7                  Huawei Technologies India Pvt Ltd   \n",
       "8  GlobalEdx Learning and Technology Solution Pvt...   \n",
       "9                                         Gojek Tech   \n",
       "\n",
       "                                full-job-description  \n",
       "0  Job description Job Role : Data Scientist/Data...  \n",
       "1  Job description We wont say we can predict the...  \n",
       "2                                                  -  \n",
       "3                                                  -  \n",
       "4  Job description Responsibilities and Key Resul...  \n",
       "5  Job description   We are seeking an outstandin...  \n",
       "6  Job description Business & Team overview: Foun...  \n",
       "7  Job description Business & Team overview: Foun...  \n",
       "8  Job description Dear Aspirant,  Greetings from...  \n",
       "9  Job description What You Will Do Work with Dat...  "
      ]
     },
     "execution_count": 30,
     "metadata": {},
     "output_type": "execute_result"
    }
   ],
   "source": [
    "Job_in_Banglore"
   ]
  },
  {
   "cell_type": "code",
   "execution_count": null,
   "metadata": {},
   "outputs": [],
   "source": [
    "driver.close()             # closing the google chrome"
   ]
  },
  {
   "cell_type": "markdown",
   "metadata": {},
   "source": [
    "# Assignment Question No 3"
   ]
  },
  {
   "cell_type": "markdown",
   "metadata": {},
   "source": [
    " In this question you have to scrape data using the filters available on the webpage as shown below: "
   ]
  },
  {
   "cell_type": "markdown",
   "metadata": {},
   "source": [
    "You have to use the location and salary filter. You have to scrape data for “Data Scientist” designation for first 10 job results. You have to scrape the job-title, job-location, company_name, experience_required.\n",
    "\n",
    "The location filter to be used is “Delhi/NCR” The salary filter to be used is “3-6” lakhs \n",
    "\n",
    "The task will be done as shown in the below steps:\n",
    "    \n",
    "    1. first get the webpage https://www.naukri.com/\n",
    "        \n",
    "    2. Enter “Data Scientist” in “Skill,Designations,Companies” field . \n",
    "    \n",
    "    3. Then click the search button. 4. Then apply the location filter and salary filter by checking the respective boxes \n",
    "    \n",
    "    4. Then scrape the data for the first 10 jobs results you get.\n",
    "        \n",
    "    5. Finally create a dataframe of the scraped data.\n",
    " "
   ]
  },
  {
   "cell_type": "code",
   "execution_count": 33,
   "metadata": {},
   "outputs": [],
   "source": [
    "# importing necessary libraries\n",
    "\n",
    "import pandas as pd\n",
    "import selenium\n",
    "import time\n",
    "from selenium import webdriver"
   ]
  },
  {
   "cell_type": "code",
   "execution_count": 34,
   "metadata": {},
   "outputs": [],
   "source": [
    "# activating the chromedriver\n",
    "driver=webdriver.Chrome(r'chromedriver.exe')"
   ]
  },
  {
   "cell_type": "code",
   "execution_count": 35,
   "metadata": {},
   "outputs": [],
   "source": [
    "#loading the website\n",
    "driver.get('https://www.naukri.com/')"
   ]
  },
  {
   "cell_type": "code",
   "execution_count": 36,
   "metadata": {},
   "outputs": [
    {
     "name": "stdout",
     "output_type": "stream",
     "text": [
      "Enter the Job Title you want to searchData Scientist\n"
     ]
    }
   ],
   "source": [
    "# asking the user for the data to be searched\n",
    "input1=input(\"Enter the Job Title you want to search\")"
   ]
  },
  {
   "cell_type": "code",
   "execution_count": 37,
   "metadata": {},
   "outputs": [],
   "source": [
    "# sending input to \n",
    "search_bar1=driver.find_element_by_id('qsb-keyword-sugg')\n",
    "search_bar1.clear()\n",
    "search_bar1.send_keys(input1)"
   ]
  },
  {
   "cell_type": "code",
   "execution_count": 38,
   "metadata": {},
   "outputs": [],
   "source": [
    "# clicking on search button to search data scientist job in delhi\n",
    "search_button=driver.find_element_by_xpath('//div[@class=\"search-btn\"]')\n",
    "search_button.click()"
   ]
  },
  {
   "cell_type": "code",
   "execution_count": 40,
   "metadata": {},
   "outputs": [],
   "source": [
    "# clicking on :\"Delhi /NCR \" location filter\n",
    "select_delhi=driver.find_element_by_xpath('//span[@title=\"Delhi / NCR\"]')\n",
    "select_delhi.click()"
   ]
  },
  {
   "cell_type": "code",
   "execution_count": 41,
   "metadata": {},
   "outputs": [],
   "source": [
    "# clicking on :\"0-3 lakhs \" salary filter\n",
    "select_salary=driver.find_element_by_xpath('//span[@title=\"0-3 Lakhs\"]')\n",
    "select_salary.click()"
   ]
  },
  {
   "cell_type": "code",
   "execution_count": 42,
   "metadata": {},
   "outputs": [
    {
     "data": {
      "text/plain": [
       "['Excellent opportunity For Data Scientist',\n",
       " 'Senior Manager - Data Scientist',\n",
       " 'Data Scientist - Machine Learning/ NLP',\n",
       " 'GCP Presales AIML Architect & Data Scientist (Solution Expert / Archit',\n",
       " 'Data Scientist',\n",
       " 'Data Scientist Intern',\n",
       " 'Senior Marketing Data Analyst',\n",
       " 'Developers, Data Scientists, Web Designers, Android Developers',\n",
       " 'Need Fresher For Data Analyst Role-Delhi',\n",
       " 'Need Fresher For Data Analyst Role-Delhi',\n",
       " 'Data Science Intern',\n",
       " 'Data Science Intern',\n",
       " 'Data Analyst',\n",
       " 'Junior Data Analyst',\n",
       " 'Data Science Intern - DataTrained',\n",
       " 'Data Science Trainee',\n",
       " 'Data Analyst',\n",
       " 'MIS Executive / Data Analyst',\n",
       " 'Data Analyst',\n",
       " 'Data Analyst']"
      ]
     },
     "execution_count": 42,
     "metadata": {},
     "output_type": "execute_result"
    }
   ],
   "source": [
    "# now we will extract all the job titles by xpath and append it in a list\n",
    "Job_Title=[]\n",
    "for i in driver.find_elements_by_xpath(\"//a[@class='title fw500 ellipsis']\"):\n",
    "    Job_Title.append(i.text)\n",
    "Job_Title"
   ]
  },
  {
   "cell_type": "code",
   "execution_count": 43,
   "metadata": {},
   "outputs": [
    {
     "data": {
      "text/plain": [
       "['Noida, Bangalore/Bengaluru',\n",
       " 'Delhi / NCR',\n",
       " 'Gurgaon/Gurugram',\n",
       " 'Noida',\n",
       " 'Noida',\n",
       " 'Noida',\n",
       " 'Gurgaon/Gurugram',\n",
       " 'Noida',\n",
       " 'Kolkata, Pune, Ahmedabad, Delhi / NCR, Mumbai (All Areas)',\n",
       " 'Kolkata, Pune, Ahmedabad, Delhi / NCR, Mumbai (All Areas)',\n",
       " 'Noida, Bangalore/Bengaluru',\n",
       " 'Noida, Bangalore/Bengaluru',\n",
       " 'New Delhi, Gurgaon/Gurugram',\n",
       " 'Delhi',\n",
       " 'Noida, Bangalore/Bengaluru, Delhi / NCR',\n",
       " 'Kolkata, Thane, Hyderabad/Secunderabad, Pune, Chennai, Ahmedabad, Delhi / NCR, Bangalore/Bengaluru, Mumbai (All Areas)',\n",
       " 'Gurgaon',\n",
       " 'Gurgaon, haryana',\n",
       " 'Noida, Greater Noida',\n",
       " 'Delhi / NCR']"
      ]
     },
     "execution_count": 43,
     "metadata": {},
     "output_type": "execute_result"
    }
   ],
   "source": [
    "# now we will extract all the Location by xpath and append it in a list\n",
    "Location=[]\n",
    "for i in driver.find_elements_by_xpath('//li[@class=\"fleft grey-text br2 placeHolderLi location\"]'):\n",
    "    Location.append(i.text)\n",
    "Location"
   ]
  },
  {
   "cell_type": "code",
   "execution_count": 44,
   "metadata": {},
   "outputs": [
    {
     "data": {
      "text/plain": [
       "['NEC CORPORATION INDIA PRIVATE LIMITED',\n",
       " 'Sunshine Teahouse Pvt. Ltd.',\n",
       " 'TalPro',\n",
       " 'Lecan Solutions Pvt Ltd',\n",
       " 'Gauge Data Solutions Pvt Ltd',\n",
       " 'Salasar New Age Technologies',\n",
       " 'Tide Software',\n",
       " 'Cogmac Technologies',\n",
       " 'MNC',\n",
       " 'MNC',\n",
       " 'DataTrained',\n",
       " 'DataTrained',\n",
       " 'Right Step Consulting',\n",
       " 'SiCureMi Healthcare Technologies',\n",
       " 'Data Trained Education',\n",
       " 'QuickXpert Infotech',\n",
       " 'Netomi',\n",
       " 'Stark Industries',\n",
       " 'Imperial Training & Consulting',\n",
       " 'Unlimited Unnati Pvt. Ltd.']"
      ]
     },
     "execution_count": 44,
     "metadata": {},
     "output_type": "execute_result"
    }
   ],
   "source": [
    "# now we will extract all the Company_Name by xpath and append it in a list\n",
    "Company_Name=[]                         # defining an empty list for storing company name\n",
    "temp=''                                  # defining an empty string as company names contains reviews and \\n \n",
    "for i in driver.find_elements_by_xpath('//div[@class=\"mt-7 companyInfo subheading lh16\"]'):\n",
    "    temp=i.text.split('\\n')                # temporary storing the data by spliting it through \\n\n",
    "    Company_Name.append(temp[0])          # appending only company name\n",
    "Company_Name"
   ]
  },
  {
   "cell_type": "code",
   "execution_count": 45,
   "metadata": {},
   "outputs": [
    {
     "data": {
      "text/plain": [
       "['3-7 Yrs',\n",
       " '6-8 Yrs',\n",
       " '2-6 Yrs',\n",
       " '6-11 Yrs',\n",
       " '2-7 Yrs',\n",
       " '0-2 Yrs',\n",
       " '0-4 Yrs',\n",
       " '1-5 Yrs',\n",
       " '0-1 Yrs',\n",
       " '0-1 Yrs',\n",
       " '0-2 Yrs',\n",
       " '0-2 Yrs',\n",
       " '0-5 Yrs',\n",
       " '0-2 Yrs',\n",
       " '0-1 Yrs',\n",
       " '0-5 Yrs',\n",
       " '0-1 Yrs',\n",
       " '0-3 Yrs',\n",
       " '0-2 Yrs',\n",
       " '0-1 Yrs']"
      ]
     },
     "execution_count": 45,
     "metadata": {},
     "output_type": "execute_result"
    }
   ],
   "source": [
    "# now we will extract all the experience by xpath and append it in a list\n",
    "Experience=[]\n",
    "for i in driver.find_elements_by_xpath(\"//li[@class='fleft grey-text br2 placeHolderLi experience']//span\"):\n",
    "    Experience.append(i.text)\n",
    "Experience"
   ]
  },
  {
   "cell_type": "code",
   "execution_count": 46,
   "metadata": {},
   "outputs": [
    {
     "name": "stdout",
     "output_type": "stream",
     "text": [
      "20 20 20 20\n"
     ]
    }
   ],
   "source": [
    "print(len(Job_Title),len(Company_Name),len(Location),len(Experience))"
   ]
  },
  {
   "cell_type": "code",
   "execution_count": 47,
   "metadata": {},
   "outputs": [],
   "source": [
    "# creating the DataFrane\n",
    "import pandas as pd\n",
    "Jobs=pd.DataFrame({})\n",
    "Jobs['Job-title']=Job_Title[0:10]\n",
    "Jobs['job-location']=Location[0:10]\n",
    "Jobs['Company Name']=Company_Name[0:10]\n",
    "Jobs['Experience_required']=Experience[0:10]"
   ]
  },
  {
   "cell_type": "code",
   "execution_count": 48,
   "metadata": {},
   "outputs": [
    {
     "data": {
      "text/html": [
       "<div>\n",
       "<style scoped>\n",
       "    .dataframe tbody tr th:only-of-type {\n",
       "        vertical-align: middle;\n",
       "    }\n",
       "\n",
       "    .dataframe tbody tr th {\n",
       "        vertical-align: top;\n",
       "    }\n",
       "\n",
       "    .dataframe thead th {\n",
       "        text-align: right;\n",
       "    }\n",
       "</style>\n",
       "<table border=\"1\" class=\"dataframe\">\n",
       "  <thead>\n",
       "    <tr style=\"text-align: right;\">\n",
       "      <th></th>\n",
       "      <th>Job-title</th>\n",
       "      <th>job-location</th>\n",
       "      <th>Company Name</th>\n",
       "      <th>Experience_required</th>\n",
       "    </tr>\n",
       "  </thead>\n",
       "  <tbody>\n",
       "    <tr>\n",
       "      <th>0</th>\n",
       "      <td>Excellent opportunity For Data Scientist</td>\n",
       "      <td>Noida, Bangalore/Bengaluru</td>\n",
       "      <td>NEC CORPORATION INDIA PRIVATE LIMITED</td>\n",
       "      <td>3-7 Yrs</td>\n",
       "    </tr>\n",
       "    <tr>\n",
       "      <th>1</th>\n",
       "      <td>Senior Manager - Data Scientist</td>\n",
       "      <td>Delhi / NCR</td>\n",
       "      <td>Sunshine Teahouse Pvt. Ltd.</td>\n",
       "      <td>6-8 Yrs</td>\n",
       "    </tr>\n",
       "    <tr>\n",
       "      <th>2</th>\n",
       "      <td>Data Scientist - Machine Learning/ NLP</td>\n",
       "      <td>Gurgaon/Gurugram</td>\n",
       "      <td>TalPro</td>\n",
       "      <td>2-6 Yrs</td>\n",
       "    </tr>\n",
       "    <tr>\n",
       "      <th>3</th>\n",
       "      <td>GCP Presales AIML Architect &amp; Data Scientist (...</td>\n",
       "      <td>Noida</td>\n",
       "      <td>Lecan Solutions Pvt Ltd</td>\n",
       "      <td>6-11 Yrs</td>\n",
       "    </tr>\n",
       "    <tr>\n",
       "      <th>4</th>\n",
       "      <td>Data Scientist</td>\n",
       "      <td>Noida</td>\n",
       "      <td>Gauge Data Solutions Pvt Ltd</td>\n",
       "      <td>2-7 Yrs</td>\n",
       "    </tr>\n",
       "    <tr>\n",
       "      <th>5</th>\n",
       "      <td>Data Scientist Intern</td>\n",
       "      <td>Noida</td>\n",
       "      <td>Salasar New Age Technologies</td>\n",
       "      <td>0-2 Yrs</td>\n",
       "    </tr>\n",
       "    <tr>\n",
       "      <th>6</th>\n",
       "      <td>Senior Marketing Data Analyst</td>\n",
       "      <td>Gurgaon/Gurugram</td>\n",
       "      <td>Tide Software</td>\n",
       "      <td>0-4 Yrs</td>\n",
       "    </tr>\n",
       "    <tr>\n",
       "      <th>7</th>\n",
       "      <td>Developers, Data Scientists, Web Designers, An...</td>\n",
       "      <td>Noida</td>\n",
       "      <td>Cogmac Technologies</td>\n",
       "      <td>1-5 Yrs</td>\n",
       "    </tr>\n",
       "    <tr>\n",
       "      <th>8</th>\n",
       "      <td>Need Fresher For Data Analyst Role-Delhi</td>\n",
       "      <td>Kolkata, Pune, Ahmedabad, Delhi / NCR, Mumbai ...</td>\n",
       "      <td>MNC</td>\n",
       "      <td>0-1 Yrs</td>\n",
       "    </tr>\n",
       "    <tr>\n",
       "      <th>9</th>\n",
       "      <td>Need Fresher For Data Analyst Role-Delhi</td>\n",
       "      <td>Kolkata, Pune, Ahmedabad, Delhi / NCR, Mumbai ...</td>\n",
       "      <td>MNC</td>\n",
       "      <td>0-1 Yrs</td>\n",
       "    </tr>\n",
       "  </tbody>\n",
       "</table>\n",
       "</div>"
      ],
      "text/plain": [
       "                                           Job-title  \\\n",
       "0           Excellent opportunity For Data Scientist   \n",
       "1                    Senior Manager - Data Scientist   \n",
       "2             Data Scientist - Machine Learning/ NLP   \n",
       "3  GCP Presales AIML Architect & Data Scientist (...   \n",
       "4                                     Data Scientist   \n",
       "5                              Data Scientist Intern   \n",
       "6                      Senior Marketing Data Analyst   \n",
       "7  Developers, Data Scientists, Web Designers, An...   \n",
       "8           Need Fresher For Data Analyst Role-Delhi   \n",
       "9           Need Fresher For Data Analyst Role-Delhi   \n",
       "\n",
       "                                        job-location  \\\n",
       "0                         Noida, Bangalore/Bengaluru   \n",
       "1                                        Delhi / NCR   \n",
       "2                                   Gurgaon/Gurugram   \n",
       "3                                              Noida   \n",
       "4                                              Noida   \n",
       "5                                              Noida   \n",
       "6                                   Gurgaon/Gurugram   \n",
       "7                                              Noida   \n",
       "8  Kolkata, Pune, Ahmedabad, Delhi / NCR, Mumbai ...   \n",
       "9  Kolkata, Pune, Ahmedabad, Delhi / NCR, Mumbai ...   \n",
       "\n",
       "                            Company Name Experience_required  \n",
       "0  NEC CORPORATION INDIA PRIVATE LIMITED             3-7 Yrs  \n",
       "1            Sunshine Teahouse Pvt. Ltd.             6-8 Yrs  \n",
       "2                                 TalPro             2-6 Yrs  \n",
       "3                Lecan Solutions Pvt Ltd            6-11 Yrs  \n",
       "4           Gauge Data Solutions Pvt Ltd             2-7 Yrs  \n",
       "5           Salasar New Age Technologies             0-2 Yrs  \n",
       "6                          Tide Software             0-4 Yrs  \n",
       "7                    Cogmac Technologies             1-5 Yrs  \n",
       "8                                    MNC             0-1 Yrs  \n",
       "9                                    MNC             0-1 Yrs  "
      ]
     },
     "execution_count": 48,
     "metadata": {},
     "output_type": "execute_result"
    }
   ],
   "source": [
    "Jobs"
   ]
  },
  {
   "cell_type": "code",
   "execution_count": 49,
   "metadata": {},
   "outputs": [],
   "source": [
    "# closing the chrome driver\n",
    "driver.close()"
   ]
  },
  {
   "cell_type": "markdown",
   "metadata": {},
   "source": [
    "# Assignment Question No 4"
   ]
  },
  {
   "cell_type": "markdown",
   "metadata": {},
   "source": [
    "Q4: Write a python program to scrape data for first 10 job results for Data scientist Designation in Noida location. You have to scrape company_name, No. of days ago when job was posted, Rating of the company. \n",
    "    This task will be done in following steps: \n",
    "        \n",
    "    \n",
    "    1. first get the webpage https://www.glassdoor.co.in/index.htm\n",
    "            \n",
    "    2. Enter “Data Scientist” in “Job Title,Keyword,Company” field and enter “Noida” in “location” field. \n",
    "            \n",
    "    3. Then click the search button. \n",
    "    \n",
    "    4. Then scrape the data for the first 10 jobs results you get in the above shown page\n",
    "    \n",
    "    5. Finally create a dataframe of the scraped data\n",
    " \n",
    " "
   ]
  },
  {
   "cell_type": "code",
   "execution_count": 1,
   "metadata": {},
   "outputs": [],
   "source": [
    "# importing necessary libraries\n",
    "\n",
    "import pandas as pd\n",
    "import selenium\n",
    "import time\n",
    "from selenium import webdriver"
   ]
  },
  {
   "cell_type": "code",
   "execution_count": 2,
   "metadata": {},
   "outputs": [],
   "source": [
    "# activating the chromedriver\n",
    "driver=webdriver.Chrome(r'chromedriver.exe')"
   ]
  },
  {
   "cell_type": "code",
   "execution_count": 3,
   "metadata": {},
   "outputs": [],
   "source": [
    "#loading the website\n",
    "#driver.get('https://www.glassdoor.co.in/index.html')\n",
    "# here the website needs a login so I am entering the path after logging in \n",
    "\n",
    "driver.get('https://www.glassdoor.co.in/index.htm')"
   ]
  },
  {
   "cell_type": "code",
   "execution_count": 4,
   "metadata": {},
   "outputs": [
    {
     "name": "stdout",
     "output_type": "stream",
     "text": [
      "Enter the Job Title you want to searchData Scientist\n",
      "Enter the LocationNoida\n"
     ]
    }
   ],
   "source": [
    "# asking the user for the data to be searched\n",
    "\n",
    "input1=input(\"Enter the Job Title you want to search\")\n",
    "input2=input(\"Enter the Location\")"
   ]
  },
  {
   "cell_type": "code",
   "execution_count": 5,
   "metadata": {},
   "outputs": [],
   "source": [
    "# sending input to the website\n",
    "search_bar1=driver.find_element_by_id('sc.keyword')\n",
    "search_bar1.clear()\n",
    "search_bar1.send_keys(input1)"
   ]
  },
  {
   "cell_type": "code",
   "execution_count": 6,
   "metadata": {},
   "outputs": [],
   "source": [
    "# sending input to the website\n",
    "search_bar2=driver.find_element_by_id('sc.location')\n",
    "search_bar2.clear()\n",
    "search_bar2.send_keys(input2)"
   ]
  },
  {
   "cell_type": "code",
   "execution_count": 9,
   "metadata": {},
   "outputs": [],
   "source": [
    "# clicking the search button\n",
    "search_button=driver.find_element_by_xpath('//button[@data-test=\"search-bar-submit\"]')\n",
    "search_button.click()\n",
    "time.sleep(3)"
   ]
  },
  {
   "cell_type": "code",
   "execution_count": 10,
   "metadata": {},
   "outputs": [
    {
     "data": {
      "text/plain": [
       "['Bechtel',\n",
       " 'Boston Consulting Group',\n",
       " 'Ericsson',\n",
       " 'Lantern Digital Services',\n",
       " 'Sparkbpl',\n",
       " 'Priority Vendor',\n",
       " 'Biz2Credit Inc',\n",
       " 'xtLytics',\n",
       " 'Mansha Solutions',\n",
       " 'Skyjobs hr services',\n",
       " 'Gauge Data Solutions',\n",
       " 'Techlive',\n",
       " 'MasterCard',\n",
       " 'SearchUrCollege',\n",
       " 'WishFin',\n",
       " 'NatWest Group',\n",
       " 'Siemens Technology and Services Private Limited',\n",
       " 'Salasar New Age Technologies',\n",
       " 'Webhelp',\n",
       " 'Team Computers',\n",
       " 'Mahajan Imaging',\n",
       " 'Fitfyles',\n",
       " 'Ank Aha',\n",
       " 'Analytics Vidhya',\n",
       " 'Profisor Services',\n",
       " 'Saffron Consultancy Services',\n",
       " 'Sentieo',\n",
       " 'Nihilent',\n",
       " 'Futures and Careers',\n",
       " 'Transorg Analytics',\n",
       " 'Axslogic']"
      ]
     },
     "execution_count": 10,
     "metadata": {},
     "output_type": "execute_result"
    }
   ],
   "source": [
    "# now we will extract all the Company Name by xpath and append it in a list\n",
    "Company_Name=[]\n",
    "for i in driver.find_elements_by_xpath('//div[@class=\"d-flex justify-content-between align-items-start\"]'):\n",
    "    Company_Name.append(i.text)\n",
    "Company_Name"
   ]
  },
  {
   "cell_type": "code",
   "execution_count": 11,
   "metadata": {},
   "outputs": [
    {
     "data": {
      "text/plain": [
       "['16d',\n",
       " '24h',\n",
       " '24h',\n",
       " '7d',\n",
       " '14d',\n",
       " '13d',\n",
       " '22d',\n",
       " '24h',\n",
       " '9d',\n",
       " '7d',\n",
       " '13d',\n",
       " '20d',\n",
       " '22d',\n",
       " '13d',\n",
       " '25d',\n",
       " '2d',\n",
       " '1d',\n",
       " '26d',\n",
       " '7d',\n",
       " '1d',\n",
       " '13d',\n",
       " '13d',\n",
       " '13d',\n",
       " '13d',\n",
       " '13d',\n",
       " '13d',\n",
       " '15d',\n",
       " '22d',\n",
       " '25d',\n",
       " '2d',\n",
       " '12d']"
      ]
     },
     "execution_count": 11,
     "metadata": {},
     "output_type": "execute_result"
    }
   ],
   "source": [
    "No_of_days=[]\n",
    "for i in driver.find_elements_by_xpath('//div[@class=\"d-flex align-items-end pl-std css-mi55ob\"]'):\n",
    "    No_of_days.append(i.text)\n",
    "    \n",
    "No_of_days"
   ]
  },
  {
   "cell_type": "code",
   "execution_count": 12,
   "metadata": {},
   "outputs": [
    {
     "name": "stdout",
     "output_type": "stream",
     "text": [
      "31 31\n"
     ]
    }
   ],
   "source": [
    "print(len(No_of_days),len(Company_Name))"
   ]
  },
  {
   "cell_type": "code",
   "execution_count": 13,
   "metadata": {},
   "outputs": [],
   "source": [
    "#it was observed that not all the columns were having rating so its necessary to add '-' character where there is no rating\n",
    "\n",
    "rating=driver.find_elements_by_xpath('//div[@class=\"d-flex flex-column css-x75kgh e1rrn5ka3\"]')"
   ]
  },
  {
   "cell_type": "code",
   "execution_count": 14,
   "metadata": {},
   "outputs": [
    {
     "data": {
      "text/plain": [
       "[<selenium.webdriver.remote.webelement.WebElement (session=\"3178fcb1f4cac0578a6c28563fd86e61\", element=\"8211e22e-bbc1-4f52-8440-9142e3a0f669\")>,\n",
       " <selenium.webdriver.remote.webelement.WebElement (session=\"3178fcb1f4cac0578a6c28563fd86e61\", element=\"e565d4b9-b3cf-4ca0-b74d-533c6174074a\")>,\n",
       " <selenium.webdriver.remote.webelement.WebElement (session=\"3178fcb1f4cac0578a6c28563fd86e61\", element=\"a5045396-fdab-4d07-af08-04f63d85d6b4\")>,\n",
       " <selenium.webdriver.remote.webelement.WebElement (session=\"3178fcb1f4cac0578a6c28563fd86e61\", element=\"34ef56e7-2a3b-43a0-8b82-a37b970b569a\")>,\n",
       " <selenium.webdriver.remote.webelement.WebElement (session=\"3178fcb1f4cac0578a6c28563fd86e61\", element=\"a6dcad9c-77f9-4019-99fe-675a3b6eae04\")>,\n",
       " <selenium.webdriver.remote.webelement.WebElement (session=\"3178fcb1f4cac0578a6c28563fd86e61\", element=\"ae455eff-8ef8-40e2-aa75-fde18744a41f\")>,\n",
       " <selenium.webdriver.remote.webelement.WebElement (session=\"3178fcb1f4cac0578a6c28563fd86e61\", element=\"06f029ce-0096-4ba0-9050-e93d62e8cadc\")>,\n",
       " <selenium.webdriver.remote.webelement.WebElement (session=\"3178fcb1f4cac0578a6c28563fd86e61\", element=\"6746abc9-8a13-4242-aad2-c32ae5f16665\")>,\n",
       " <selenium.webdriver.remote.webelement.WebElement (session=\"3178fcb1f4cac0578a6c28563fd86e61\", element=\"03f3e85d-8837-4324-9abc-b3dfe205bb31\")>,\n",
       " <selenium.webdriver.remote.webelement.WebElement (session=\"3178fcb1f4cac0578a6c28563fd86e61\", element=\"1abe3e89-76d5-4b32-aaa6-3235b668645c\")>,\n",
       " <selenium.webdriver.remote.webelement.WebElement (session=\"3178fcb1f4cac0578a6c28563fd86e61\", element=\"84e4cf10-74fc-468c-a5fb-19c61f143005\")>,\n",
       " <selenium.webdriver.remote.webelement.WebElement (session=\"3178fcb1f4cac0578a6c28563fd86e61\", element=\"59198e11-303b-459c-babe-b3ee1f96760d\")>,\n",
       " <selenium.webdriver.remote.webelement.WebElement (session=\"3178fcb1f4cac0578a6c28563fd86e61\", element=\"952a1e46-764b-4317-8bfc-7ee139c37e9d\")>,\n",
       " <selenium.webdriver.remote.webelement.WebElement (session=\"3178fcb1f4cac0578a6c28563fd86e61\", element=\"d5d6a221-8efb-4b02-a7be-e588c005f44c\")>,\n",
       " <selenium.webdriver.remote.webelement.WebElement (session=\"3178fcb1f4cac0578a6c28563fd86e61\", element=\"927feefb-852a-4645-b4c0-865968afe6fc\")>,\n",
       " <selenium.webdriver.remote.webelement.WebElement (session=\"3178fcb1f4cac0578a6c28563fd86e61\", element=\"a24ca2b9-36c6-4ec9-a65a-c316af99136f\")>,\n",
       " <selenium.webdriver.remote.webelement.WebElement (session=\"3178fcb1f4cac0578a6c28563fd86e61\", element=\"9d604ce9-671e-4476-89bb-864cf43146ab\")>,\n",
       " <selenium.webdriver.remote.webelement.WebElement (session=\"3178fcb1f4cac0578a6c28563fd86e61\", element=\"c7aada22-c14d-4ac6-a951-87820875d773\")>,\n",
       " <selenium.webdriver.remote.webelement.WebElement (session=\"3178fcb1f4cac0578a6c28563fd86e61\", element=\"3ac01cf1-21ef-4361-8cb3-70fe24c0e1c3\")>,\n",
       " <selenium.webdriver.remote.webelement.WebElement (session=\"3178fcb1f4cac0578a6c28563fd86e61\", element=\"65f9d7b5-7ab7-4bc0-8b51-a4ee4527adf2\")>,\n",
       " <selenium.webdriver.remote.webelement.WebElement (session=\"3178fcb1f4cac0578a6c28563fd86e61\", element=\"b4d0f60d-297c-498b-acb9-ce5d43d9c9d9\")>,\n",
       " <selenium.webdriver.remote.webelement.WebElement (session=\"3178fcb1f4cac0578a6c28563fd86e61\", element=\"435ea144-547c-4f56-b972-89b9ed62d786\")>,\n",
       " <selenium.webdriver.remote.webelement.WebElement (session=\"3178fcb1f4cac0578a6c28563fd86e61\", element=\"79f7974c-6155-42f8-9178-bd77aac70065\")>,\n",
       " <selenium.webdriver.remote.webelement.WebElement (session=\"3178fcb1f4cac0578a6c28563fd86e61\", element=\"038509ba-c428-4e82-9ed8-2bf2befa6f91\")>,\n",
       " <selenium.webdriver.remote.webelement.WebElement (session=\"3178fcb1f4cac0578a6c28563fd86e61\", element=\"143fe825-3345-4af5-bc0f-70e955bc840c\")>,\n",
       " <selenium.webdriver.remote.webelement.WebElement (session=\"3178fcb1f4cac0578a6c28563fd86e61\", element=\"c81f2c2b-93fc-466b-88ba-15a1c327766a\")>,\n",
       " <selenium.webdriver.remote.webelement.WebElement (session=\"3178fcb1f4cac0578a6c28563fd86e61\", element=\"22eed064-2784-41ec-b214-752a6ea9ffc1\")>,\n",
       " <selenium.webdriver.remote.webelement.WebElement (session=\"3178fcb1f4cac0578a6c28563fd86e61\", element=\"ab113dbc-0299-4ae6-8913-3de2b9b393f4\")>,\n",
       " <selenium.webdriver.remote.webelement.WebElement (session=\"3178fcb1f4cac0578a6c28563fd86e61\", element=\"cd065b70-5259-4527-bdb5-4aff07042211\")>,\n",
       " <selenium.webdriver.remote.webelement.WebElement (session=\"3178fcb1f4cac0578a6c28563fd86e61\", element=\"401eb695-08c2-4301-854d-38d0a7378172\")>,\n",
       " <selenium.webdriver.remote.webelement.WebElement (session=\"3178fcb1f4cac0578a6c28563fd86e61\", element=\"549f8ba2-8901-4432-8801-32255df992c2\")>]"
      ]
     },
     "execution_count": 14,
     "metadata": {},
     "output_type": "execute_result"
    }
   ],
   "source": [
    "\n",
    "rating"
   ]
  },
  {
   "cell_type": "code",
   "execution_count": 19,
   "metadata": {},
   "outputs": [],
   "source": [
    "ratings=[]\n",
    "for i in rating:\n",
    "    try:\n",
    "        ratings.append(i.text)\n",
    "    except NoSuchElementException:\n",
    "        ratings.append('--')"
   ]
  },
  {
   "cell_type": "code",
   "execution_count": 20,
   "metadata": {},
   "outputs": [
    {
     "data": {
      "text/plain": [
       "['4.0',\n",
       " '4.1',\n",
       " '4.1',\n",
       " '',\n",
       " '',\n",
       " '3.7',\n",
       " '3.8',\n",
       " '',\n",
       " '',\n",
       " '',\n",
       " '3.1',\n",
       " '5.0',\n",
       " '',\n",
       " '',\n",
       " '3.8',\n",
       " '',\n",
       " '4.1',\n",
       " '',\n",
       " '',\n",
       " '4.1',\n",
       " '4.0',\n",
       " '',\n",
       " '4.0',\n",
       " '3.7',\n",
       " '4.5',\n",
       " '',\n",
       " '',\n",
       " '3.6',\n",
       " '',\n",
       " '2.3',\n",
       " '4.3']"
      ]
     },
     "execution_count": 20,
     "metadata": {},
     "output_type": "execute_result"
    }
   ],
   "source": [
    "ratings"
   ]
  },
  {
   "cell_type": "code",
   "execution_count": 21,
   "metadata": {},
   "outputs": [],
   "source": [
    "#creating dataframe\n",
    "Job_In_Noida=pd.DataFrame({})\n",
    "Job_In_Noida['Company Name']=Company_Name[0:10]\n",
    "Job_In_Noida['No_of_days_ago_job_was_posted']=No_of_days[0:10]\n",
    "Job_In_Noida['Ratings']=ratings[0:10]"
   ]
  },
  {
   "cell_type": "code",
   "execution_count": 22,
   "metadata": {},
   "outputs": [
    {
     "data": {
      "text/html": [
       "<div>\n",
       "<style scoped>\n",
       "    .dataframe tbody tr th:only-of-type {\n",
       "        vertical-align: middle;\n",
       "    }\n",
       "\n",
       "    .dataframe tbody tr th {\n",
       "        vertical-align: top;\n",
       "    }\n",
       "\n",
       "    .dataframe thead th {\n",
       "        text-align: right;\n",
       "    }\n",
       "</style>\n",
       "<table border=\"1\" class=\"dataframe\">\n",
       "  <thead>\n",
       "    <tr style=\"text-align: right;\">\n",
       "      <th></th>\n",
       "      <th>Company Name</th>\n",
       "      <th>No_of_days_ago_job_was_posted</th>\n",
       "      <th>Ratings</th>\n",
       "    </tr>\n",
       "  </thead>\n",
       "  <tbody>\n",
       "    <tr>\n",
       "      <th>0</th>\n",
       "      <td>Bechtel</td>\n",
       "      <td>16d</td>\n",
       "      <td>4.0</td>\n",
       "    </tr>\n",
       "    <tr>\n",
       "      <th>1</th>\n",
       "      <td>Boston Consulting Group</td>\n",
       "      <td>24h</td>\n",
       "      <td>4.1</td>\n",
       "    </tr>\n",
       "    <tr>\n",
       "      <th>2</th>\n",
       "      <td>Ericsson</td>\n",
       "      <td>24h</td>\n",
       "      <td>4.1</td>\n",
       "    </tr>\n",
       "    <tr>\n",
       "      <th>3</th>\n",
       "      <td>Lantern Digital Services</td>\n",
       "      <td>7d</td>\n",
       "      <td></td>\n",
       "    </tr>\n",
       "    <tr>\n",
       "      <th>4</th>\n",
       "      <td>Sparkbpl</td>\n",
       "      <td>14d</td>\n",
       "      <td></td>\n",
       "    </tr>\n",
       "    <tr>\n",
       "      <th>5</th>\n",
       "      <td>Priority Vendor</td>\n",
       "      <td>13d</td>\n",
       "      <td>3.7</td>\n",
       "    </tr>\n",
       "    <tr>\n",
       "      <th>6</th>\n",
       "      <td>Biz2Credit Inc</td>\n",
       "      <td>22d</td>\n",
       "      <td>3.8</td>\n",
       "    </tr>\n",
       "    <tr>\n",
       "      <th>7</th>\n",
       "      <td>xtLytics</td>\n",
       "      <td>24h</td>\n",
       "      <td></td>\n",
       "    </tr>\n",
       "    <tr>\n",
       "      <th>8</th>\n",
       "      <td>Mansha Solutions</td>\n",
       "      <td>9d</td>\n",
       "      <td></td>\n",
       "    </tr>\n",
       "    <tr>\n",
       "      <th>9</th>\n",
       "      <td>Skyjobs hr services</td>\n",
       "      <td>7d</td>\n",
       "      <td></td>\n",
       "    </tr>\n",
       "  </tbody>\n",
       "</table>\n",
       "</div>"
      ],
      "text/plain": [
       "               Company Name No_of_days_ago_job_was_posted Ratings\n",
       "0                   Bechtel                           16d     4.0\n",
       "1   Boston Consulting Group                           24h     4.1\n",
       "2                  Ericsson                           24h     4.1\n",
       "3  Lantern Digital Services                            7d        \n",
       "4                  Sparkbpl                           14d        \n",
       "5           Priority Vendor                           13d     3.7\n",
       "6            Biz2Credit Inc                           22d     3.8\n",
       "7                  xtLytics                           24h        \n",
       "8          Mansha Solutions                            9d        \n",
       "9       Skyjobs hr services                            7d        "
      ]
     },
     "execution_count": 22,
     "metadata": {},
     "output_type": "execute_result"
    }
   ],
   "source": [
    "Job_In_Noida"
   ]
  },
  {
   "cell_type": "code",
   "execution_count": 23,
   "metadata": {},
   "outputs": [],
   "source": [
    "driver.close()"
   ]
  },
  {
   "cell_type": "markdown",
   "metadata": {},
   "source": [
    "# Assignment Question No 5"
   ]
  },
  {
   "cell_type": "markdown",
   "metadata": {},
   "source": [
    "Q5: Write a python program to scrape the salary data for Data Scientist designation in Noida location.\n",
    "    You have to scrape Company name, Number of salaries, Average salary, Min salary, Max Salary. \n",
    "    \n",
    "    The above task will be, done as shown in the below steps: \n",
    "        \n",
    "            1. first get the webpage https://www.glassdoor.co.in/Salaries/index.htm \n",
    "            \n",
    "            2. Enter “Data Scientist” in Job title field and “Noida” in location field. \n",
    "            \n",
    "            3. Click the search button. \n",
    "            \n",
    "            4. After that you will land on the below page  You have to scrape whole data from this webpage\n",
    "            \n",
    "            5. Scrape data for first 10 companies. Scrape the min salary, max salary, company name, Average salary and rating of the company.\n",
    "            \n",
    "          6.Store the data in a dataframe. Note that all of the above steps have to be done by coding only and not manually\n",
    " "
   ]
  },
  {
   "cell_type": "code",
   "execution_count": 2,
   "metadata": {},
   "outputs": [],
   "source": [
    "# importing necessary libraries\n",
    "\n",
    "import pandas as pd\n",
    "import selenium\n",
    "import time\n",
    "from selenium import webdriver"
   ]
  },
  {
   "cell_type": "code",
   "execution_count": 3,
   "metadata": {},
   "outputs": [],
   "source": [
    "# activating the chromedriver\n",
    "driver=webdriver.Chrome(r'chromedriver.exe')"
   ]
  },
  {
   "cell_type": "code",
   "execution_count": 4,
   "metadata": {},
   "outputs": [],
   "source": [
    "# loading the website\n",
    "driver.get('https://www.glassdoor.co.in/Salaries/index.htm')"
   ]
  },
  {
   "cell_type": "code",
   "execution_count": 5,
   "metadata": {},
   "outputs": [
    {
     "name": "stdout",
     "output_type": "stream",
     "text": [
      "Enter the Job Title you want to searchData Scientist\n",
      "Enter the LocationNoida\n"
     ]
    }
   ],
   "source": [
    "# asking the user for the data to be searched\n",
    "input1=input(\"Enter the Job Title you want to search\")\n",
    "input2=input(\"Enter the Location\")"
   ]
  },
  {
   "cell_type": "code",
   "execution_count": 6,
   "metadata": {},
   "outputs": [],
   "source": [
    "# sending input to the website\n",
    "search_box1=driver.find_element_by_id('KeywordSearch')\n",
    "search_box1.clear()\n",
    "search_box1.send_keys(input1)"
   ]
  },
  {
   "cell_type": "code",
   "execution_count": 7,
   "metadata": {},
   "outputs": [],
   "source": [
    "# sending input to the website\n",
    "search_box2=driver.find_element_by_id('LocationSearch')\n",
    "search_box2.clear()\n",
    "search_box2.send_keys(input2)"
   ]
  },
  {
   "cell_type": "code",
   "execution_count": 8,
   "metadata": {},
   "outputs": [],
   "source": [
    "# clicking the search button\n",
    "search_button=driver.find_element_by_id('HeroSearchButton')\n",
    "search_button.click()\n",
    "time.sleep(10)"
   ]
  },
  {
   "cell_type": "code",
   "execution_count": 9,
   "metadata": {},
   "outputs": [
    {
     "data": {
      "text/plain": [
       "['Tata Consultancy Services',\n",
       " 'Accenture',\n",
       " 'IBM',\n",
       " 'Ericsson-Worldwide',\n",
       " 'Delhivery',\n",
       " 'UnitedHealth Group',\n",
       " 'Valiance Solutions',\n",
       " 'ZS Associates',\n",
       " 'EXL Service',\n",
       " 'Optum Global Solutions',\n",
       " 'Innovaccer',\n",
       " 'Cognizant Technology Solutions',\n",
       " 'Optum',\n",
       " 'Tech Mahindra',\n",
       " 'OYO',\n",
       " 'Nagarro',\n",
       " 'dunnhumby',\n",
       " 'Vidooly Media Tech',\n",
       " 'Algo8.ai',\n",
       " 'Amazon']"
      ]
     },
     "execution_count": 9,
     "metadata": {},
     "output_type": "execute_result"
    }
   ],
   "source": [
    "# now we will extract all the Company Name by xpath and append it in a list\n",
    "Company_Name=[]\n",
    "for i in driver.find_elements_by_xpath('//p[@class=\"m-0 \"]'):\n",
    "    Company_Name.append(i.text)\n",
    "Company_Name"
   ]
  },
  {
   "cell_type": "code",
   "execution_count": 10,
   "metadata": {},
   "outputs": [],
   "source": [
    "# now we will extract all the Minimum salaries and maximum salaries by xpath and append it in a list\n",
    "\n",
    "Min_sal =[]                                                                       # to store minimum salary\n",
    "max_sal=[]                                                                        # to store maximum salary\n",
    "salary=''                                                                         # empty sting \n",
    "for i in driver.find_elements_by_xpath('//div[@class=\"common__RangeBarStyle__values d-flex justify-content-between \"]'):\n",
    "    salary=(i.text.split('\\n'))                                                    # splitting salary in a string\n",
    "    Min_sal.append(salary[0])                                                      # appending salary in minimum salary list\n",
    "    max_sal.append(salary[1])                                                     # appending salary in maximum salary list\n"
   ]
  },
  {
   "cell_type": "code",
   "execution_count": 11,
   "metadata": {},
   "outputs": [
    {
     "name": "stdout",
     "output_type": "stream",
     "text": [
      "['₹343K', '₹577K', '₹586K', '₹355K', '₹450K', '₹1,069K', '₹502K', '₹202K', '₹575K', '₹1,014K', '₹620K', '₹792K', '₹807K', '₹405K', '₹971K', '₹400K', '₹817K', '₹12K', '₹86K', '₹772K']\n"
     ]
    }
   ],
   "source": [
    "print(Min_sal)"
   ]
  },
  {
   "cell_type": "code",
   "execution_count": 12,
   "metadata": {},
   "outputs": [
    {
     "name": "stdout",
     "output_type": "stream",
     "text": [
      "['₹1,095K', '₹2,213K', '₹2,730K', '₹1,613K', '₹11,622K', '₹1,520K', '₹1,465K', '₹1,809K', '₹1,520K', '₹2,149K', '₹1,695K', '₹1,263K', '₹1,986K', '₹1,703K', '₹1,883K', '₹1,124K', '₹2,006K', '₹63K', '₹1,358K', '₹2,091K']\n"
     ]
    }
   ],
   "source": [
    "print(max_sal)"
   ]
  },
  {
   "cell_type": "code",
   "execution_count": 13,
   "metadata": {},
   "outputs": [
    {
     "data": {
      "text/plain": [
       "['₹ 6,11,228 per/yr',\n",
       " '₹ 11,46,533 per/yr',\n",
       " '₹ 8,97,795 per/yr',\n",
       " '₹ 7,38,057 per/yr',\n",
       " '₹ 12,39,781 per/yr',\n",
       " '₹ 13,36,142 per/yr',\n",
       " '₹ 8,15,192 per/yr',\n",
       " '₹ 11,35,221 per/yr',\n",
       " '₹ 11,44,243 per/yr',\n",
       " '₹ 14,13,288 per/yr',\n",
       " '₹ 12,07,110 per/yr',\n",
       " '₹ 10,07,410 per/yr',\n",
       " '₹ 13,18,851 per/yr',\n",
       " '₹ 10,52,718 per/yr',\n",
       " '₹ 14,13,078 per/yr',\n",
       " '₹ 9,61,653 per/yr',\n",
       " '₹ 11,00,000 per/yr',\n",
       " '₹ 15,887 per/mo',\n",
       " '₹ 6,75,000 per/yr',\n",
       " '₹ 15,00,000 per/yr']"
      ]
     },
     "execution_count": 13,
     "metadata": {},
     "output_type": "execute_result"
    }
   ],
   "source": [
    "# now we will extract all the Average Salary  by xpath and append it in a list\n",
    "Average_salary=[]\n",
    "for i in driver.find_elements_by_xpath('//div[@class=\"col-2 d-none d-md-flex flex-row justify-content-end\"]'):\n",
    "    Average_salary.append(i.text.replace('\\n',' per'))\n",
    "Average_salary"
   ]
  },
  {
   "cell_type": "code",
   "execution_count": 14,
   "metadata": {},
   "outputs": [
    {
     "data": {
      "text/plain": [
       "['16 salaries',\n",
       " '14 salaries',\n",
       " '14 salaries',\n",
       " '14 salaries',\n",
       " '14 salaries',\n",
       " '11 salaries',\n",
       " '9 salaries',\n",
       " '8 salaries',\n",
       " '8 salaries',\n",
       " '8 salaries',\n",
       " '8 salaries',\n",
       " '6 salaries',\n",
       " '6 salaries',\n",
       " '5 salaries',\n",
       " '5 salaries',\n",
       " '5 salaries',\n",
       " '5 salaries',\n",
       " '5 salaries',\n",
       " '5 salaries',\n",
       " '4 salaries']"
      ]
     },
     "execution_count": 14,
     "metadata": {},
     "output_type": "execute_result"
    }
   ],
   "source": [
    "# now we will extract all the Average Salary  by xpath and append it in a list\n",
    "Number_of_salary=[]\n",
    "for i in driver.find_elements_by_xpath('//p[@class=\"css-1uyte9r css-1kuy7z7 m-0 \"]'):\n",
    "    Number_of_salary.append(i.text.replace('\\n',' per'))\n",
    "Number_of_salary"
   ]
  },
  {
   "cell_type": "code",
   "execution_count": 15,
   "metadata": {},
   "outputs": [],
   "source": [
    "# creating the dataframe\n",
    "import pandas as pd\n",
    "Salary_data=pd.DataFrame({})\n",
    "Salary_data['Company Name']=Company_Name[0:10]\n",
    "Salary_data['Number of Salaries']=Number_of_salary[0:10]\n",
    "Salary_data['Average Salary']=Average_salary[0:10]\n",
    "Salary_data['Min Salary']=Min_sal[0:10]\n",
    "Salary_data['Max Salary']=max_sal[0:10]"
   ]
  },
  {
   "cell_type": "code",
   "execution_count": 16,
   "metadata": {},
   "outputs": [
    {
     "data": {
      "text/html": [
       "<div>\n",
       "<style scoped>\n",
       "    .dataframe tbody tr th:only-of-type {\n",
       "        vertical-align: middle;\n",
       "    }\n",
       "\n",
       "    .dataframe tbody tr th {\n",
       "        vertical-align: top;\n",
       "    }\n",
       "\n",
       "    .dataframe thead th {\n",
       "        text-align: right;\n",
       "    }\n",
       "</style>\n",
       "<table border=\"1\" class=\"dataframe\">\n",
       "  <thead>\n",
       "    <tr style=\"text-align: right;\">\n",
       "      <th></th>\n",
       "      <th>Company Name</th>\n",
       "      <th>Number of Salaries</th>\n",
       "      <th>Average Salary</th>\n",
       "      <th>Min Salary</th>\n",
       "      <th>Max Salary</th>\n",
       "    </tr>\n",
       "  </thead>\n",
       "  <tbody>\n",
       "    <tr>\n",
       "      <th>0</th>\n",
       "      <td>Tata Consultancy Services</td>\n",
       "      <td>16 salaries</td>\n",
       "      <td>₹ 6,11,228 per/yr</td>\n",
       "      <td>₹343K</td>\n",
       "      <td>₹1,095K</td>\n",
       "    </tr>\n",
       "    <tr>\n",
       "      <th>1</th>\n",
       "      <td>Accenture</td>\n",
       "      <td>14 salaries</td>\n",
       "      <td>₹ 11,46,533 per/yr</td>\n",
       "      <td>₹577K</td>\n",
       "      <td>₹2,213K</td>\n",
       "    </tr>\n",
       "    <tr>\n",
       "      <th>2</th>\n",
       "      <td>IBM</td>\n",
       "      <td>14 salaries</td>\n",
       "      <td>₹ 8,97,795 per/yr</td>\n",
       "      <td>₹586K</td>\n",
       "      <td>₹2,730K</td>\n",
       "    </tr>\n",
       "    <tr>\n",
       "      <th>3</th>\n",
       "      <td>Ericsson-Worldwide</td>\n",
       "      <td>14 salaries</td>\n",
       "      <td>₹ 7,38,057 per/yr</td>\n",
       "      <td>₹355K</td>\n",
       "      <td>₹1,613K</td>\n",
       "    </tr>\n",
       "    <tr>\n",
       "      <th>4</th>\n",
       "      <td>Delhivery</td>\n",
       "      <td>14 salaries</td>\n",
       "      <td>₹ 12,39,781 per/yr</td>\n",
       "      <td>₹450K</td>\n",
       "      <td>₹11,622K</td>\n",
       "    </tr>\n",
       "    <tr>\n",
       "      <th>5</th>\n",
       "      <td>UnitedHealth Group</td>\n",
       "      <td>11 salaries</td>\n",
       "      <td>₹ 13,36,142 per/yr</td>\n",
       "      <td>₹1,069K</td>\n",
       "      <td>₹1,520K</td>\n",
       "    </tr>\n",
       "    <tr>\n",
       "      <th>6</th>\n",
       "      <td>Valiance Solutions</td>\n",
       "      <td>9 salaries</td>\n",
       "      <td>₹ 8,15,192 per/yr</td>\n",
       "      <td>₹502K</td>\n",
       "      <td>₹1,465K</td>\n",
       "    </tr>\n",
       "    <tr>\n",
       "      <th>7</th>\n",
       "      <td>ZS Associates</td>\n",
       "      <td>8 salaries</td>\n",
       "      <td>₹ 11,35,221 per/yr</td>\n",
       "      <td>₹202K</td>\n",
       "      <td>₹1,809K</td>\n",
       "    </tr>\n",
       "    <tr>\n",
       "      <th>8</th>\n",
       "      <td>EXL Service</td>\n",
       "      <td>8 salaries</td>\n",
       "      <td>₹ 11,44,243 per/yr</td>\n",
       "      <td>₹575K</td>\n",
       "      <td>₹1,520K</td>\n",
       "    </tr>\n",
       "    <tr>\n",
       "      <th>9</th>\n",
       "      <td>Optum Global Solutions</td>\n",
       "      <td>8 salaries</td>\n",
       "      <td>₹ 14,13,288 per/yr</td>\n",
       "      <td>₹1,014K</td>\n",
       "      <td>₹2,149K</td>\n",
       "    </tr>\n",
       "  </tbody>\n",
       "</table>\n",
       "</div>"
      ],
      "text/plain": [
       "                Company Name Number of Salaries      Average Salary  \\\n",
       "0  Tata Consultancy Services        16 salaries   ₹ 6,11,228 per/yr   \n",
       "1                  Accenture        14 salaries  ₹ 11,46,533 per/yr   \n",
       "2                        IBM        14 salaries   ₹ 8,97,795 per/yr   \n",
       "3         Ericsson-Worldwide        14 salaries   ₹ 7,38,057 per/yr   \n",
       "4                  Delhivery        14 salaries  ₹ 12,39,781 per/yr   \n",
       "5         UnitedHealth Group        11 salaries  ₹ 13,36,142 per/yr   \n",
       "6         Valiance Solutions         9 salaries   ₹ 8,15,192 per/yr   \n",
       "7              ZS Associates         8 salaries  ₹ 11,35,221 per/yr   \n",
       "8                EXL Service         8 salaries  ₹ 11,44,243 per/yr   \n",
       "9     Optum Global Solutions         8 salaries  ₹ 14,13,288 per/yr   \n",
       "\n",
       "  Min Salary Max Salary  \n",
       "0      ₹343K    ₹1,095K  \n",
       "1      ₹577K    ₹2,213K  \n",
       "2      ₹586K    ₹2,730K  \n",
       "3      ₹355K    ₹1,613K  \n",
       "4      ₹450K   ₹11,622K  \n",
       "5    ₹1,069K    ₹1,520K  \n",
       "6      ₹502K    ₹1,465K  \n",
       "7      ₹202K    ₹1,809K  \n",
       "8      ₹575K    ₹1,520K  \n",
       "9    ₹1,014K    ₹2,149K  "
      ]
     },
     "execution_count": 16,
     "metadata": {},
     "output_type": "execute_result"
    }
   ],
   "source": [
    "Salary_data"
   ]
  },
  {
   "cell_type": "code",
   "execution_count": 17,
   "metadata": {},
   "outputs": [],
   "source": [
    "# closing the chrome\n",
    "driver.close()"
   ]
  },
  {
   "cell_type": "markdown",
   "metadata": {},
   "source": [
    "# Assignment Question No 6"
   ]
  },
  {
   "cell_type": "markdown",
   "metadata": {},
   "source": [
    "Q6 : Scrape data of first 100 sunglasses listings on flipkart.com. You have to scrape four attributes: \n",
    "        \n",
    "        1. Brand\n",
    "        \n",
    "        2. Product Description\n",
    "        \n",
    "        3. Price\n",
    "        \n",
    "        4. Discount % \n",
    "        \n",
    "       "
   ]
  },
  {
   "cell_type": "markdown",
   "metadata": {},
   "source": [
    " To scrape the data you have to go through following steps:\n",
    "            \n",
    "         1. Go to flipkart webpage by url   https://www.flipkart.com/ \n",
    "                \n",
    "                \n",
    "        2. Enter “sunglasses” in the search field where “search for products, brands and more” is written and click the search icon\n",
    "                \n",
    "                \n",
    "        3. after that you will reach to a webpage having a lot of sunglasses. From this page you can scrap the required data as usual. \n",
    "                \n",
    "         4. after scraping data from the first page, go to the “Next” Button at the bottom of the page , then click on it \n",
    "                \n",
    "                \n",
    "         5. Now scrape data from this page as usual \n",
    "\n",
    "            \n",
    "        6. repeat this until you get data for 100 sunglasses"
   ]
  },
  {
   "cell_type": "code",
   "execution_count": 1,
   "metadata": {},
   "outputs": [],
   "source": [
    "# importing necessary libraries\n",
    "\n",
    "import pandas as pd\n",
    "import selenium\n",
    "import time\n",
    "from selenium import webdriver"
   ]
  },
  {
   "cell_type": "code",
   "execution_count": 2,
   "metadata": {},
   "outputs": [],
   "source": [
    "# activating the chromedriver\n",
    "driver=webdriver.Chrome(r'chromedriver.exe')"
   ]
  },
  {
   "cell_type": "code",
   "execution_count": 3,
   "metadata": {},
   "outputs": [],
   "source": [
    "# loading the website\n",
    "driver.get('  https://www.flipkart.com/ ')"
   ]
  },
  {
   "cell_type": "code",
   "execution_count": 4,
   "metadata": {},
   "outputs": [
    {
     "name": "stdout",
     "output_type": "stream",
     "text": [
      "Enter the name of product that you want to buySunglasses\n"
     ]
    }
   ],
   "source": [
    "# asking the user for the data to be searched\n",
    "input1=input(\"Enter the name of product that you want to buy\")"
   ]
  },
  {
   "cell_type": "code",
   "execution_count": 5,
   "metadata": {},
   "outputs": [],
   "source": [
    "# inserting the text in the search box and clicking on the search button\n",
    "\n",
    "search_box1=driver.find_element_by_xpath('//input[@class=\"_3704LK\"]')\n",
    "search_box1.clear()\n",
    "search_box1.send_keys(input1)"
   ]
  },
  {
   "cell_type": "code",
   "execution_count": 6,
   "metadata": {},
   "outputs": [],
   "source": [
    "search_button=driver.find_element_by_xpath('//button[@type=\"submit\"]')\n",
    "search_button.click()"
   ]
  },
  {
   "cell_type": "code",
   "execution_count": 9,
   "metadata": {},
   "outputs": [],
   "source": [
    " #Importing Exception\n",
    "from selenium.common.exceptions import NoSuchElementException"
   ]
  },
  {
   "cell_type": "code",
   "execution_count": 12,
   "metadata": {},
   "outputs": [],
   "source": [
    "# now we will extract all the details of sunglasses by xpath and append it in a list by splitting the information\n",
    " \n",
    "Brand=[]                                                  # empty list for saving brand name\n",
    "Product_Description=[]                                    # empty list for saving product description\n",
    "price=[]                                                  # empty list for saving price\n",
    "for j in range(0,3):\n",
    "    for i in driver.find_elements_by_xpath('//div[@class=\"_2B099V\"]'):\n",
    "        sunglass=(i.text.split('\\n'))\n",
    "        Brand.append(sunglass[0])\n",
    "        Product_Description.append(sunglass[1])\n",
    "        price.append(sunglass[2])\n",
    "    try:\n",
    "        driver.find_element_by_xpath('//a[@class=\"_1LKTO3\"][2]').click()          # xpath of next button\n",
    "        time.sleep(4)\n",
    "    except:\n",
    "        driver.find_element_by_xpath('//a[@class=\"_1LKTO3\"]').click()\n",
    "        time.sleep(4)\n",
    "        \n",
    "                                "
   ]
  },
  {
   "cell_type": "code",
   "execution_count": 13,
   "metadata": {},
   "outputs": [
    {
     "name": "stdout",
     "output_type": "stream",
     "text": [
      "120\n"
     ]
    },
    {
     "data": {
      "text/plain": [
       "['kingsunglasses',\n",
       " 'NuVew',\n",
       " 'Fastrack',\n",
       " 'ROZZETTA CRAFT',\n",
       " 'Fastrack',\n",
       " 'PHENOMENAL',\n",
       " 'Fastrack',\n",
       " 'Fastrack',\n",
       " 'PIRASO',\n",
       " 'DEIXELS',\n",
       " 'ROZZETTA CRAFT',\n",
       " 'HIPPON',\n",
       " 'PHENOMENAL',\n",
       " 'Villain',\n",
       " 'NuVew',\n",
       " 'Fastrack',\n",
       " 'Singco India',\n",
       " 'DEIXELS',\n",
       " 'Singco India',\n",
       " 'ROYAL SON',\n",
       " 'Fastrack',\n",
       " 'Fastrack',\n",
       " 'ROZZETTA CRAFT',\n",
       " 'LIZA ANGEL',\n",
       " 'ROZZETTA CRAFT',\n",
       " 'Fastrack',\n",
       " 'GANSTA',\n",
       " 'Fastrack',\n",
       " 'Fastrack',\n",
       " 'Royaltail',\n",
       " 'Singco India',\n",
       " 'PHENOMENAL',\n",
       " 'hipe',\n",
       " 'Spexra',\n",
       " 'ROZZETTA CRAFT',\n",
       " 'elegante',\n",
       " 'Silver Kartz',\n",
       " 'ROYAL SON',\n",
       " 'ROZZETTA CRAFT',\n",
       " 'LIZA ANGEL',\n",
       " 'ROZZETTA CRAFT',\n",
       " 'Fastrack',\n",
       " 'Singco India',\n",
       " 'LIZA ANGEL',\n",
       " 'ROYAL SON',\n",
       " 'hipe',\n",
       " 'PIRASO',\n",
       " 'hipe',\n",
       " 'PHENOMENAL',\n",
       " 'AISLIN',\n",
       " 'Fastrack',\n",
       " 'SRPM',\n",
       " 'ROYAL SON',\n",
       " 'AISLIN',\n",
       " 'elegante',\n",
       " 'ROYAL SON',\n",
       " 'hipe',\n",
       " 'Flizz',\n",
       " 'ROZZETTA CRAFT',\n",
       " 'ROYAL SON',\n",
       " 'Fastrack',\n",
       " 'PHENOMENAL',\n",
       " 'GANSTA',\n",
       " 'AISLIN',\n",
       " 'ROYAL SON',\n",
       " 'elegante',\n",
       " 'ROZZETTA CRAFT',\n",
       " 'hipe',\n",
       " 'Fastrack',\n",
       " 'AISLIN',\n",
       " 'ROZZETTA CRAFT',\n",
       " 'Fastrack',\n",
       " 'Fastrack',\n",
       " 'NuVew',\n",
       " 'Villain',\n",
       " 'DEIXELS',\n",
       " 'ROYAL SON',\n",
       " 'hipe',\n",
       " 'GANSTA',\n",
       " 'AISLIN',\n",
       " 'ROZZETTA CRAFT',\n",
       " 'shah collections',\n",
       " 'Fastrack',\n",
       " 'EYEWEARLABS',\n",
       " 'DEIXELS',\n",
       " 'GANSTA',\n",
       " 'GANSTA',\n",
       " 'Crackers',\n",
       " 'Fravy',\n",
       " 'EYEWEARLABS',\n",
       " 'Fastrack',\n",
       " 'Fastrack',\n",
       " 'elegante',\n",
       " 'EYEWEARLABS',\n",
       " 'ROYAL SON',\n",
       " 'Fastrack',\n",
       " 'PHENOMENAL',\n",
       " 'AISLIN',\n",
       " 'hipe',\n",
       " 'EYEWEARLABS',\n",
       " 'ROZZETTA CRAFT',\n",
       " 'Flizz',\n",
       " 'AISLIN',\n",
       " 'EYEWEARLABS',\n",
       " 'Badfella',\n",
       " 'GANSTA',\n",
       " 'ROYAL SON',\n",
       " 'Fastrack',\n",
       " 'Fastrack',\n",
       " 'EYEWEARLABS',\n",
       " 'PHENOMENAL',\n",
       " 'DEIXELS',\n",
       " 'ROYAL SON',\n",
       " 'EYEWEARLABS',\n",
       " 'ROYAL SON',\n",
       " 'hipe',\n",
       " 'Fastrack',\n",
       " 'GANSTA',\n",
       " 'Singco',\n",
       " 'EYEWEARLABS']"
      ]
     },
     "execution_count": 13,
     "metadata": {},
     "output_type": "execute_result"
    }
   ],
   "source": [
    "print(len(Brand))\n",
    "Brand"
   ]
  },
  {
   "cell_type": "code",
   "execution_count": 14,
   "metadata": {},
   "outputs": [
    {
     "name": "stdout",
     "output_type": "stream",
     "text": [
      "120\n"
     ]
    },
    {
     "data": {
      "text/plain": [
       "['Mirrored, UV Protection Wayfarer, Wayfarer, Wayfarer, W...',\n",
       " 'UV Protection, Gradient Cat-eye Sunglasses (63)',\n",
       " 'UV Protection Rectangular Sunglasses (Free Size)',\n",
       " 'UV Protection Retro Square Sunglasses (Free Size)',\n",
       " 'UV Protection Wayfarer Sunglasses (Free Size)',\n",
       " 'UV Protection Retro Square Sunglasses (Free Size)',\n",
       " 'UV Protection Wayfarer Sunglasses (Free Size)',\n",
       " 'Gradient, UV Protection Wayfarer Sunglasses (Free Size)',\n",
       " 'UV Protection Aviator Sunglasses (Free Size)',\n",
       " 'UV Protection Aviator, Wayfarer Sunglasses (Free Size)',\n",
       " 'UV Protection, Gradient Rectangular Sunglasses (Free Si...',\n",
       " 'UV Protection Wayfarer Sunglasses (55)',\n",
       " 'UV Protection, Mirrored Retro Square Sunglasses (53)',\n",
       " 'Others Retro Square Sunglasses (Free Size)',\n",
       " 'UV Protection Aviator Sunglasses (58)',\n",
       " 'UV Protection Aviator Sunglasses (Free Size)',\n",
       " 'UV Protection, Riding Glasses, Others Aviator, Wayfarer...',\n",
       " 'UV Protection Round Sunglasses (Free Size)',\n",
       " 'UV Protection Aviator Sunglasses (Free Size)',\n",
       " 'UV Protection Retro Square Sunglasses (49)',\n",
       " 'UV Protection Wayfarer Sunglasses (Free Size)',\n",
       " 'Gradient, UV Protection Wayfarer Sunglasses (Free Size)',\n",
       " 'UV Protection Retro Square Sunglasses (Free Size)',\n",
       " 'UV Protection, Others, UV Protection, Polarized Wayfare...',\n",
       " 'UV Protection, Riding Glasses Rectangular Sunglasses (F...',\n",
       " 'UV Protection Wayfarer Sunglasses (56)',\n",
       " 'UV Protection Aviator Sunglasses (57)',\n",
       " 'UV Protection Aviator Sunglasses (58)',\n",
       " 'UV Protection Aviator Sunglasses (58)',\n",
       " 'UV Protection Aviator Sunglasses (Free Size)',\n",
       " 'Mirrored, Riding Glasses, Others Sports Sunglasses (50)',\n",
       " 'UV Protection, Mirrored Retro Square Sunglasses (Free S...',\n",
       " 'UV Protection, Mirrored Round Sunglasses (Free Size)',\n",
       " 'UV Protection, Polarized Round Sunglasses (50)',\n",
       " 'Gradient, UV Protection Round Sunglasses (Free Size)',\n",
       " 'UV Protection Wrap-around Sunglasses (Free Size)',\n",
       " 'UV Protection Oval Sunglasses (56)',\n",
       " 'UV Protection Wayfarer Sunglasses (55)',\n",
       " 'UV Protection Shield Sunglasses (54)',\n",
       " 'UV Protection, Mirrored, Riding Glasses Retro Square Su...',\n",
       " 'UV Protection Shield Sunglasses (54)',\n",
       " 'UV Protection Aviator Sunglasses (58)',\n",
       " 'UV Protection Round Sunglasses (Free Size)',\n",
       " 'Gradient, Riding Glasses, Night Vision Round, Wayfarer,...',\n",
       " 'Mirrored Aviator Sunglasses (55)',\n",
       " 'UV Protection, Mirrored Aviator Sunglasses (Free Size)',\n",
       " 'UV Protection Aviator Sunglasses (54)',\n",
       " 'Mirrored Wayfarer Sunglasses (55)',\n",
       " 'UV Protection Clubmaster Sunglasses (Free Size)',\n",
       " 'UV Protection Shield, Wayfarer Sunglasses (61)',\n",
       " 'UV Protection Shield Sunglasses (Free Size)',\n",
       " 'UV Protection Round Sunglasses (53)',\n",
       " 'UV Protection, Gradient Wayfarer Sunglasses (55)',\n",
       " 'UV Protection, Mirrored Shield, Wayfarer Sunglasses (61...',\n",
       " 'UV Protection Wrap-around Sunglasses (Free Size)',\n",
       " 'Polarized Sports Sunglasses (68)',\n",
       " 'Mirrored, UV Protection, Gradient Round Sunglasses (55)',\n",
       " 'UV Protection Retro Square Sunglasses (Free Size)',\n",
       " 'UV Protection, Gradient Rectangular Sunglasses (Free Si...',\n",
       " 'Mirrored Aviator Sunglasses (Free Size)',\n",
       " 'UV Protection Wayfarer Sunglasses (57)',\n",
       " 'UV Protection, Mirrored Clubmaster Sunglasses (Free Siz...',\n",
       " 'Night Vision, Riding Glasses Wayfarer Sunglasses (53)',\n",
       " 'UV Protection, Gradient Aviator Sunglasses (61)',\n",
       " 'UV Protection Rectangular Sunglasses (58)',\n",
       " 'UV Protection Round Sunglasses (Free Size)',\n",
       " 'Mirrored, UV Protection Round Sunglasses (Free Size)',\n",
       " 'UV Protection, Night Vision, Gradient, Mirrored Round, ...',\n",
       " 'UV Protection Wayfarer Sunglasses (Free Size)',\n",
       " 'UV Protection, Gradient Oval Sunglasses (58)',\n",
       " 'Polarized, UV Protection Aviator Sunglasses (Free Size)',\n",
       " 'Mirrored Aviator Sunglasses (Free Size)',\n",
       " 'UV Protection Wayfarer Sunglasses (Free Size)',\n",
       " 'UV Protection, Mirrored Cat-eye Sunglasses (68)',\n",
       " 'Others Retro Square Sunglasses (Free Size)',\n",
       " 'UV Protection Wayfarer Sunglasses (Free Size)',\n",
       " 'UV Protection Retro Square Sunglasses (58)',\n",
       " 'UV Protection Sports Sunglasses (Free Size)',\n",
       " 'UV Protection, Gradient Wayfarer Sunglasses (53)',\n",
       " 'UV Protection, Others Aviator Sunglasses (58)',\n",
       " 'UV Protection, Gradient Round Sunglasses (Free Size)',\n",
       " 'UV Protection Round Sunglasses (Free Size)',\n",
       " 'UV Protection Aviator Sunglasses (Free Size)',\n",
       " 'Polarized Rectangular Sunglasses (70)',\n",
       " 'UV Protection Rectangular Sunglasses (Free Size)',\n",
       " 'UV Protection Aviator Sunglasses (57)',\n",
       " 'UV Protection, Gradient Wayfarer Sunglasses (53)',\n",
       " 'UV Protection Aviator Sunglasses (55)',\n",
       " 'UV Protection Retro Square Sunglasses (Free Size)',\n",
       " 'Polarized Wayfarer Sunglasses (55)',\n",
       " 'Gradient, UV Protection Wayfarer Sunglasses (Free Size)',\n",
       " 'UV Protection Shield Sunglasses (Free Size)',\n",
       " 'UV Protection Wayfarer Sunglasses (Free Size)',\n",
       " 'Polarized, UV Protection Aviator Sunglasses (60)',\n",
       " 'Polarized, UV Protection Aviator Sunglasses (58)',\n",
       " 'UV Protection Aviator Sunglasses (58)',\n",
       " 'UV Protection, Mirrored, Gradient Retro Square Sunglass...',\n",
       " 'UV Protection, Gradient Cat-eye Sunglasses (58)',\n",
       " 'Gradient, UV Protection Round Sunglasses (Free Size)',\n",
       " 'Polarized Retro Square Sunglasses (52)',\n",
       " 'UV Protection, Gradient Retro Square Sunglasses (62)',\n",
       " 'UV Protection, Polarized Rectangular Sunglasses (Free S...',\n",
       " 'UV Protection, Gradient Oval Sunglasses (58)',\n",
       " 'Polarized Retro Square Sunglasses (57)',\n",
       " 'Polarized, UV Protection Retro Square Sunglasses (53)',\n",
       " 'UV Protection, Night Vision, Riding Glasses Aviator Sun...',\n",
       " 'Polarized, UV Protection Round Sunglasses (49)',\n",
       " 'Mirrored, UV Protection Wayfarer Sunglasses (Free Size)',\n",
       " 'UV Protection, Polarized Wayfarer Sunglasses (56)',\n",
       " 'Polarized Aviator Sunglasses (56)',\n",
       " 'UV Protection, Mirrored Retro Square Sunglasses (53)',\n",
       " 'Polarized, UV Protection, Riding Glasses Wayfarer Sungl...',\n",
       " 'Mirrored Aviator Sunglasses (58)',\n",
       " 'Polarized Rectangular Sunglasses (54)',\n",
       " 'Mirrored Aviator Sunglasses (Free Size)',\n",
       " 'UV Protection, Night Vision, Riding Glasses, Gradient, ...',\n",
       " 'UV Protection Round Sunglasses (52)',\n",
       " 'UV Protection, Mirrored, Gradient Wayfarer Sunglasses (...',\n",
       " 'UV Protection, Others Aviator Sunglasses (32)',\n",
       " 'Polarized Retro Square Sunglasses (54)']"
      ]
     },
     "execution_count": 14,
     "metadata": {},
     "output_type": "execute_result"
    }
   ],
   "source": [
    "print(len(Product_Description))\n",
    "Product_Description"
   ]
  },
  {
   "cell_type": "code",
   "execution_count": 15,
   "metadata": {},
   "outputs": [
    {
     "data": {
      "text/plain": [
       "['₹299₹1,49980% off',\n",
       " '₹375₹1,54575% off',\n",
       " '₹630₹79921% off',\n",
       " '₹499₹2,22577% off',\n",
       " '₹758₹89915% off',\n",
       " '₹399₹1,99980% off',\n",
       " '₹733₹89918% off',\n",
       " '₹621₹79922% off',\n",
       " '₹349₹1,59978% off',\n",
       " '₹213₹1,19982% off',\n",
       " '₹404₹1,99979% off',\n",
       " '₹251₹1,19979% off',\n",
       " '₹399₹1,99980% off',\n",
       " '₹599₹75020% off',\n",
       " '₹215₹78572% off',\n",
       " '₹674₹89925% off',\n",
       " '₹209₹69970% off',\n",
       " '₹209₹79973% off',\n",
       " '₹339₹1,19971% off',\n",
       " '₹664₹1,99966% off',\n",
       " '₹837₹8996% off',\n",
       " '₹638₹79920% off',\n",
       " '₹499₹2,25277% off',\n",
       " '₹209₹99979% off',\n",
       " '₹449₹2,22579% off',\n",
       " '₹759₹89915% off',\n",
       " '₹281₹1,99985% off',\n",
       " '₹1,085₹1,29916% off',\n",
       " '₹1,123₹1,29913% off',\n",
       " '₹699₹1,59956% off',\n",
       " '₹249₹1,49983% off',\n",
       " '₹399₹1,99980% off',\n",
       " '₹219₹1,59886% off',\n",
       " '₹198₹79074% off',\n",
       " '₹449₹1,99577% off',\n",
       " '₹499₹1,49966% off',\n",
       " '₹284₹1,19976% off',\n",
       " '₹265₹1,29979% off',\n",
       " '₹499₹2,55580% off',\n",
       " '₹259₹79967% off',\n",
       " '₹499₹2,55580% off',\n",
       " '₹1,115₹1,29914% off',\n",
       " '₹205₹99979% off',\n",
       " '₹199₹49960% off',\n",
       " '₹379₹1,49974% off',\n",
       " '₹199₹99980% off',\n",
       " '₹250₹1,59984% off',\n",
       " '₹219₹99978% off',\n",
       " '₹319₹1,99884% off',\n",
       " '₹445₹1,87576% off',\n",
       " '₹759₹89915% off',\n",
       " '₹189₹49962% off',\n",
       " '₹217₹99978% off',\n",
       " '₹445₹1,87576% off',\n",
       " '₹499₹1,49966% off',\n",
       " '₹1,234₹2,49950% off',\n",
       " '₹210₹1,46685% off',\n",
       " '₹399₹2,19981% off',\n",
       " '₹499₹2,25677% off',\n",
       " '₹399₹1,49973% off',\n",
       " '₹559₹79930% off',\n",
       " '₹319₹1,99884% off',\n",
       " '₹207₹1,79988% off',\n",
       " '₹625₹2,15070% off',\n",
       " '₹474₹1,49968% off',\n",
       " '₹199₹99980% off',\n",
       " '₹399₹1,44672% off',\n",
       " '₹210₹99978% off',\n",
       " '₹758₹89915% off',\n",
       " '₹495₹1,52567% off',\n",
       " '₹449₹1,99977% off',\n",
       " '₹1,780₹1,99910% off',\n",
       " '₹576₹79927% off',\n",
       " '₹345₹1,54577% off',\n",
       " '₹599₹75020% off',\n",
       " '₹200₹49959% off',\n",
       " '₹499₹1,49966% off',\n",
       " '₹319₹1,89983% off',\n",
       " '₹263₹1,99986% off',\n",
       " '₹1,045₹3,69971% off',\n",
       " '₹449₹2,66583% off',\n",
       " '₹331₹1,69980% off',\n",
       " '₹759₹89915% off',\n",
       " '₹1,598₹2,49936% off',\n",
       " '₹200₹1,19983% off',\n",
       " '₹337₹1,99983% off',\n",
       " '₹328₹1,99983% off',\n",
       " '₹170₹99982% off',\n",
       " '₹289₹1,49980% off',\n",
       " '₹1,598₹2,49936% off',\n",
       " '₹777₹99922% off',\n",
       " '₹761₹89915% off',\n",
       " '₹449₹1,49970% off',\n",
       " '₹1,698₹3,49951% off',\n",
       " '₹711₹1,99964% off',\n",
       " '₹1,148₹1,29911% off',\n",
       " '₹259₹1,99887% off',\n",
       " '₹485₹1,52568% off',\n",
       " '₹219₹1,29883% off',\n",
       " '₹1,598₹2,49936% off',\n",
       " '₹499₹1,99975% off',\n",
       " '₹279₹1,49981% off',\n",
       " '₹475₹1,52568% off',\n",
       " '₹1,498₹3,49957% off',\n",
       " '₹269₹99973% off',\n",
       " '₹292₹1,99985% off',\n",
       " '₹664₹1,99966% off',\n",
       " '₹777₹99922% off',\n",
       " '₹759₹89915% off',\n",
       " '₹1,698₹3,49951% off',\n",
       " '₹399₹1,99980% off',\n",
       " '₹236₹59960% off',\n",
       " '₹399₹1,49973% off',\n",
       " '₹1,598₹2,49936% off',\n",
       " '₹399₹1,49973% off',\n",
       " '₹210₹1,29883% off',\n",
       " '₹1,232₹1,2995% off',\n",
       " '₹281₹1,99985% off',\n",
       " '₹349₹1,99982% off',\n",
       " '₹1,598₹2,49936% off']"
      ]
     },
     "execution_count": 15,
     "metadata": {},
     "output_type": "execute_result"
    }
   ],
   "source": [
    "price  \n",
    "# in price column the original price , the discounted price and the price offered all are included so we will use split\n",
    "#function to split the information we want"
   ]
  },
  {
   "cell_type": "code",
   "execution_count": 16,
   "metadata": {},
   "outputs": [],
   "source": [
    "# separating the price and discount% from the price list\n",
    " \n",
    "Price=[]                             # empty list for  appending the price\n",
    "discount=[]                          # empty list for appending the discount\n",
    "for i in price:\n",
    "    pr=i.split('₹')                  # temporary string to save the prices\n",
    "    ds=i[-7:]                        # slicing the string to save the discount in ds variable\n",
    "    Price.append(pr[1])              # appending the pr in list\n",
    "    discount.append(ds)              # appending the ds in list"
   ]
  },
  {
   "cell_type": "code",
   "execution_count": 17,
   "metadata": {},
   "outputs": [
    {
     "name": "stdout",
     "output_type": "stream",
     "text": [
      "120\n"
     ]
    },
    {
     "data": {
      "text/plain": [
       "['299',\n",
       " '375',\n",
       " '630',\n",
       " '499',\n",
       " '758',\n",
       " '399',\n",
       " '733',\n",
       " '621',\n",
       " '349',\n",
       " '213',\n",
       " '404',\n",
       " '251',\n",
       " '399',\n",
       " '599',\n",
       " '215',\n",
       " '674',\n",
       " '209',\n",
       " '209',\n",
       " '339',\n",
       " '664',\n",
       " '837',\n",
       " '638',\n",
       " '499',\n",
       " '209',\n",
       " '449',\n",
       " '759',\n",
       " '281',\n",
       " '1,085',\n",
       " '1,123',\n",
       " '699',\n",
       " '249',\n",
       " '399',\n",
       " '219',\n",
       " '198',\n",
       " '449',\n",
       " '499',\n",
       " '284',\n",
       " '265',\n",
       " '499',\n",
       " '259',\n",
       " '499',\n",
       " '1,115',\n",
       " '205',\n",
       " '199',\n",
       " '379',\n",
       " '199',\n",
       " '250',\n",
       " '219',\n",
       " '319',\n",
       " '445',\n",
       " '759',\n",
       " '189',\n",
       " '217',\n",
       " '445',\n",
       " '499',\n",
       " '1,234',\n",
       " '210',\n",
       " '399',\n",
       " '499',\n",
       " '399',\n",
       " '559',\n",
       " '319',\n",
       " '207',\n",
       " '625',\n",
       " '474',\n",
       " '199',\n",
       " '399',\n",
       " '210',\n",
       " '758',\n",
       " '495',\n",
       " '449',\n",
       " '1,780',\n",
       " '576',\n",
       " '345',\n",
       " '599',\n",
       " '200',\n",
       " '499',\n",
       " '319',\n",
       " '263',\n",
       " '1,045',\n",
       " '449',\n",
       " '331',\n",
       " '759',\n",
       " '1,598',\n",
       " '200',\n",
       " '337',\n",
       " '328',\n",
       " '170',\n",
       " '289',\n",
       " '1,598',\n",
       " '777',\n",
       " '761',\n",
       " '449',\n",
       " '1,698',\n",
       " '711',\n",
       " '1,148',\n",
       " '259',\n",
       " '485',\n",
       " '219',\n",
       " '1,598',\n",
       " '499',\n",
       " '279',\n",
       " '475',\n",
       " '1,498',\n",
       " '269',\n",
       " '292',\n",
       " '664',\n",
       " '777',\n",
       " '759',\n",
       " '1,698',\n",
       " '399',\n",
       " '236',\n",
       " '399',\n",
       " '1,598',\n",
       " '399',\n",
       " '210',\n",
       " '1,232',\n",
       " '281',\n",
       " '349',\n",
       " '1,598']"
      ]
     },
     "execution_count": 17,
     "metadata": {},
     "output_type": "execute_result"
    }
   ],
   "source": [
    "print(len(Price))\n",
    "Price"
   ]
  },
  {
   "cell_type": "code",
   "execution_count": 18,
   "metadata": {},
   "outputs": [
    {
     "name": "stdout",
     "output_type": "stream",
     "text": [
      "120\n"
     ]
    },
    {
     "data": {
      "text/plain": [
       "['80% off',\n",
       " '75% off',\n",
       " '21% off',\n",
       " '77% off',\n",
       " '15% off',\n",
       " '80% off',\n",
       " '18% off',\n",
       " '22% off',\n",
       " '78% off',\n",
       " '82% off',\n",
       " '79% off',\n",
       " '79% off',\n",
       " '80% off',\n",
       " '20% off',\n",
       " '72% off',\n",
       " '25% off',\n",
       " '70% off',\n",
       " '73% off',\n",
       " '71% off',\n",
       " '66% off',\n",
       " '96% off',\n",
       " '20% off',\n",
       " '77% off',\n",
       " '79% off',\n",
       " '79% off',\n",
       " '15% off',\n",
       " '85% off',\n",
       " '16% off',\n",
       " '13% off',\n",
       " '56% off',\n",
       " '83% off',\n",
       " '80% off',\n",
       " '86% off',\n",
       " '74% off',\n",
       " '77% off',\n",
       " '66% off',\n",
       " '76% off',\n",
       " '79% off',\n",
       " '80% off',\n",
       " '67% off',\n",
       " '80% off',\n",
       " '14% off',\n",
       " '79% off',\n",
       " '60% off',\n",
       " '74% off',\n",
       " '80% off',\n",
       " '84% off',\n",
       " '78% off',\n",
       " '84% off',\n",
       " '76% off',\n",
       " '15% off',\n",
       " '62% off',\n",
       " '78% off',\n",
       " '76% off',\n",
       " '66% off',\n",
       " '50% off',\n",
       " '85% off',\n",
       " '81% off',\n",
       " '77% off',\n",
       " '73% off',\n",
       " '30% off',\n",
       " '84% off',\n",
       " '88% off',\n",
       " '70% off',\n",
       " '68% off',\n",
       " '80% off',\n",
       " '72% off',\n",
       " '78% off',\n",
       " '15% off',\n",
       " '67% off',\n",
       " '77% off',\n",
       " '10% off',\n",
       " '27% off',\n",
       " '77% off',\n",
       " '20% off',\n",
       " '59% off',\n",
       " '66% off',\n",
       " '83% off',\n",
       " '86% off',\n",
       " '71% off',\n",
       " '83% off',\n",
       " '80% off',\n",
       " '15% off',\n",
       " '36% off',\n",
       " '83% off',\n",
       " '83% off',\n",
       " '83% off',\n",
       " '82% off',\n",
       " '80% off',\n",
       " '36% off',\n",
       " '22% off',\n",
       " '15% off',\n",
       " '70% off',\n",
       " '51% off',\n",
       " '64% off',\n",
       " '11% off',\n",
       " '87% off',\n",
       " '68% off',\n",
       " '83% off',\n",
       " '36% off',\n",
       " '75% off',\n",
       " '81% off',\n",
       " '68% off',\n",
       " '57% off',\n",
       " '73% off',\n",
       " '85% off',\n",
       " '66% off',\n",
       " '22% off',\n",
       " '15% off',\n",
       " '51% off',\n",
       " '80% off',\n",
       " '60% off',\n",
       " '73% off',\n",
       " '36% off',\n",
       " '73% off',\n",
       " '83% off',\n",
       " '95% off',\n",
       " '85% off',\n",
       " '82% off',\n",
       " '36% off']"
      ]
     },
     "execution_count": 18,
     "metadata": {},
     "output_type": "execute_result"
    }
   ],
   "source": [
    "print(len(discount))\n",
    "discount"
   ]
  },
  {
   "cell_type": "code",
   "execution_count": 19,
   "metadata": {},
   "outputs": [],
   "source": [
    "import pandas as pd\n",
    "Sunglasses=pd.DataFrame({})\n",
    "Sunglasses['Brand_Name']=Brand[0:100]\n",
    "Sunglasses['Product_Description']=Product_Description[0:100]\n",
    "Sunglasses['Price']=Price[0:100]\n",
    "Sunglasses['Discount%']=discount[0:100]"
   ]
  },
  {
   "cell_type": "code",
   "execution_count": 20,
   "metadata": {},
   "outputs": [
    {
     "data": {
      "text/html": [
       "<div>\n",
       "<style scoped>\n",
       "    .dataframe tbody tr th:only-of-type {\n",
       "        vertical-align: middle;\n",
       "    }\n",
       "\n",
       "    .dataframe tbody tr th {\n",
       "        vertical-align: top;\n",
       "    }\n",
       "\n",
       "    .dataframe thead th {\n",
       "        text-align: right;\n",
       "    }\n",
       "</style>\n",
       "<table border=\"1\" class=\"dataframe\">\n",
       "  <thead>\n",
       "    <tr style=\"text-align: right;\">\n",
       "      <th></th>\n",
       "      <th>Brand_Name</th>\n",
       "      <th>Product_Description</th>\n",
       "      <th>Price</th>\n",
       "      <th>Discount%</th>\n",
       "    </tr>\n",
       "  </thead>\n",
       "  <tbody>\n",
       "    <tr>\n",
       "      <th>0</th>\n",
       "      <td>kingsunglasses</td>\n",
       "      <td>Mirrored, UV Protection Wayfarer, Wayfarer, Wa...</td>\n",
       "      <td>299</td>\n",
       "      <td>80% off</td>\n",
       "    </tr>\n",
       "    <tr>\n",
       "      <th>1</th>\n",
       "      <td>NuVew</td>\n",
       "      <td>UV Protection, Gradient Cat-eye Sunglasses (63)</td>\n",
       "      <td>375</td>\n",
       "      <td>75% off</td>\n",
       "    </tr>\n",
       "    <tr>\n",
       "      <th>2</th>\n",
       "      <td>Fastrack</td>\n",
       "      <td>UV Protection Rectangular Sunglasses (Free Size)</td>\n",
       "      <td>630</td>\n",
       "      <td>21% off</td>\n",
       "    </tr>\n",
       "    <tr>\n",
       "      <th>3</th>\n",
       "      <td>ROZZETTA CRAFT</td>\n",
       "      <td>UV Protection Retro Square Sunglasses (Free Size)</td>\n",
       "      <td>499</td>\n",
       "      <td>77% off</td>\n",
       "    </tr>\n",
       "    <tr>\n",
       "      <th>4</th>\n",
       "      <td>Fastrack</td>\n",
       "      <td>UV Protection Wayfarer Sunglasses (Free Size)</td>\n",
       "      <td>758</td>\n",
       "      <td>15% off</td>\n",
       "    </tr>\n",
       "    <tr>\n",
       "      <th>...</th>\n",
       "      <td>...</td>\n",
       "      <td>...</td>\n",
       "      <td>...</td>\n",
       "      <td>...</td>\n",
       "    </tr>\n",
       "    <tr>\n",
       "      <th>95</th>\n",
       "      <td>Fastrack</td>\n",
       "      <td>UV Protection Aviator Sunglasses (58)</td>\n",
       "      <td>1,148</td>\n",
       "      <td>11% off</td>\n",
       "    </tr>\n",
       "    <tr>\n",
       "      <th>96</th>\n",
       "      <td>PHENOMENAL</td>\n",
       "      <td>UV Protection, Mirrored, Gradient Retro Square...</td>\n",
       "      <td>259</td>\n",
       "      <td>87% off</td>\n",
       "    </tr>\n",
       "    <tr>\n",
       "      <th>97</th>\n",
       "      <td>AISLIN</td>\n",
       "      <td>UV Protection, Gradient Cat-eye Sunglasses (58)</td>\n",
       "      <td>485</td>\n",
       "      <td>68% off</td>\n",
       "    </tr>\n",
       "    <tr>\n",
       "      <th>98</th>\n",
       "      <td>hipe</td>\n",
       "      <td>Gradient, UV Protection Round Sunglasses (Free...</td>\n",
       "      <td>219</td>\n",
       "      <td>83% off</td>\n",
       "    </tr>\n",
       "    <tr>\n",
       "      <th>99</th>\n",
       "      <td>EYEWEARLABS</td>\n",
       "      <td>Polarized Retro Square Sunglasses (52)</td>\n",
       "      <td>1,598</td>\n",
       "      <td>36% off</td>\n",
       "    </tr>\n",
       "  </tbody>\n",
       "</table>\n",
       "<p>100 rows × 4 columns</p>\n",
       "</div>"
      ],
      "text/plain": [
       "        Brand_Name                                Product_Description  Price  \\\n",
       "0   kingsunglasses  Mirrored, UV Protection Wayfarer, Wayfarer, Wa...    299   \n",
       "1            NuVew    UV Protection, Gradient Cat-eye Sunglasses (63)    375   \n",
       "2         Fastrack   UV Protection Rectangular Sunglasses (Free Size)    630   \n",
       "3   ROZZETTA CRAFT  UV Protection Retro Square Sunglasses (Free Size)    499   \n",
       "4         Fastrack      UV Protection Wayfarer Sunglasses (Free Size)    758   \n",
       "..             ...                                                ...    ...   \n",
       "95        Fastrack              UV Protection Aviator Sunglasses (58)  1,148   \n",
       "96      PHENOMENAL  UV Protection, Mirrored, Gradient Retro Square...    259   \n",
       "97          AISLIN    UV Protection, Gradient Cat-eye Sunglasses (58)    485   \n",
       "98            hipe  Gradient, UV Protection Round Sunglasses (Free...    219   \n",
       "99     EYEWEARLABS             Polarized Retro Square Sunglasses (52)  1,598   \n",
       "\n",
       "   Discount%  \n",
       "0    80% off  \n",
       "1    75% off  \n",
       "2    21% off  \n",
       "3    77% off  \n",
       "4    15% off  \n",
       "..       ...  \n",
       "95   11% off  \n",
       "96   87% off  \n",
       "97   68% off  \n",
       "98   83% off  \n",
       "99   36% off  \n",
       "\n",
       "[100 rows x 4 columns]"
      ]
     },
     "execution_count": 20,
     "metadata": {},
     "output_type": "execute_result"
    }
   ],
   "source": [
    "Sunglasses"
   ]
  },
  {
   "cell_type": "code",
   "execution_count": 21,
   "metadata": {},
   "outputs": [],
   "source": [
    "driver.close()"
   ]
  },
  {
   "cell_type": "markdown",
   "metadata": {},
   "source": [
    "# Assignment Question No 7"
   ]
  },
  {
   "cell_type": "markdown",
   "metadata": {},
   "source": [
    "Q7: Scrape 100 reviews data from flipkart.com for iphone11 phone.\n",
    "    \n",
    "    You have to go the link: https://www.flipkart.com/apple-iphone-11-black-64-gb-includesearpods-poweradapter/p/itm0f37c2240b217?pid=MOBFKCTSVZAXUHGR&lid=LSTMOBFKC TSVZAXUHGREPBFGI&marketplace. When you will open the above link you will reach to the below shown webpage. "
   ]
  },
  {
   "cell_type": "markdown",
   "metadata": {},
   "source": [
    "As shown in the above page you have to scrape the tick marked attributes. \n",
    "These are \n",
    "\n",
    "1. Rating  \n",
    "\n",
    "2. Review_summary    \n",
    "\n",
    "3. Full review You have to scrape this data for first 100 reviews"
   ]
  },
  {
   "cell_type": "code",
   "execution_count": 22,
   "metadata": {},
   "outputs": [],
   "source": [
    "# importing necessary libraries\n",
    "\n",
    "import pandas as pd\n",
    "import selenium\n",
    "import time\n",
    "from selenium import webdriver\n"
   ]
  },
  {
   "cell_type": "code",
   "execution_count": 23,
   "metadata": {},
   "outputs": [],
   "source": [
    "# activating the chrome driver\n",
    "driver=webdriver.Chrome(r'Chromedriver.exe')"
   ]
  },
  {
   "cell_type": "code",
   "execution_count": 24,
   "metadata": {},
   "outputs": [],
   "source": [
    "# loading the website\n",
    "driver.get(\"https://www.flipkart.com/apple-iphone-11-black-64-gb-includesearpods-poweradapter/p/itm0f37c2240b217?pid=MOBFKCTSVZAXUHGR&lid=LSTMOBFKC TSVZAXUHGREPBFGI&marketplace\")"
   ]
  },
  {
   "cell_type": "code",
   "execution_count": 25,
   "metadata": {},
   "outputs": [],
   "source": [
    "# clicking on the review button\n",
    "\n",
    "more_reviews=driver.find_element_by_xpath('//div[@class=\"_3UAT2v _16PBlm\"]')\n",
    "more_reviews.click()\n",
    "time.sleep(4)"
   ]
  },
  {
   "cell_type": "code",
   "execution_count": 26,
   "metadata": {},
   "outputs": [],
   "source": [
    "from selenium.common.exceptions import NoSuchElementException"
   ]
  },
  {
   "cell_type": "code",
   "execution_count": 28,
   "metadata": {},
   "outputs": [],
   "source": [
    "# instead of collecting data of each page individually and instead of collecting every elements data individually here I have merged\n",
    "#the all codes in a single code\n",
    "rating=[]\n",
    "revieW_summary=[]\n",
    "full_review=[]\n",
    "p=1\n",
    "\n",
    "for i in range(0,10):\n",
    "    for k in driver.find_elements_by_xpath('//p[@class=\"_2-N8zT\"]'):\n",
    "        revieW_summary.append(k.text)\n",
    "    for l in driver.find_elements_by_xpath('//div[@class=\"t-ZTKy\"]/div'):\n",
    "        full_review.append(l.text.replace(\"\\n\",' '))\n",
    "    try:\n",
    "        driver.find_element_by_xpath('//a[@class=\"_1LKTO3\"][2]').click()          # xpath of next button\n",
    "        time.sleep(4)\n",
    "    except:\n",
    "        driver.find_element_by_xpath('//a[@class=\"_1LKTO3\"]').click()\n",
    "    \n"
   ]
  },
  {
   "cell_type": "code",
   "execution_count": 29,
   "metadata": {},
   "outputs": [],
   "source": [
    "# As we are on 10th page because of above code, now we will again go on first page\n",
    "# loading the website\n",
    "driver.get(\"https://www.flipkart.com/apple-iphone-11-black-64-gb-includesearpods-poweradapter/p/itm0f37c2240b217?pid=MOBFKCTSVZAXUHGR&lid=LSTMOBFKC TSVZAXUHGREPBFGI&marketplace\")"
   ]
  },
  {
   "cell_type": "code",
   "execution_count": 30,
   "metadata": {},
   "outputs": [],
   "source": [
    "# clicking on the review button\n",
    "\n",
    "more_reviews=driver.find_element_by_xpath('//div[@class=\"_3UAT2v _16PBlm\"]')\n",
    "more_reviews.click()\n",
    "time.sleep(4)"
   ]
  },
  {
   "cell_type": "code",
   "execution_count": 31,
   "metadata": {},
   "outputs": [],
   "source": [
    "# using url list to find first 100 ratings\n",
    "from selenium.common.exceptions import NoSuchElementException\n",
    "\n",
    "rating=[]\n",
    "for i in range(0,10):                             # iterating url list\n",
    "\n",
    "    for j in driver.find_elements_by_xpath('//div[@class=\"_3LWZlK _1BLPMq\"]'):\n",
    "        rating.append(j.text)   \n",
    "    for k in driver.find_elements_by_xpath('//div[@class=\"_3LWZlK _1rdVr6 _1BLPMq\"]'):\n",
    "        rating.append(k.text)\n",
    "    try:\n",
    "        driver.find_element_by_xpath('//a[@class=\"_1LKTO3\"][2]').click()          # xpath of next button\n",
    "        time.sleep(4)\n",
    "    except:\n",
    "        driver.find_element_by_xpath('//a[@class=\"_1LKTO3\"]').click()\n",
    "   \n",
    "    time.sleep(5)        "
   ]
  },
  {
   "cell_type": "code",
   "execution_count": 32,
   "metadata": {},
   "outputs": [
    {
     "name": "stdout",
     "output_type": "stream",
     "text": [
      "100 100 100\n"
     ]
    }
   ],
   "source": [
    "print(len(rating),len(revieW_summary),len(full_review))"
   ]
  },
  {
   "cell_type": "code",
   "execution_count": 33,
   "metadata": {},
   "outputs": [],
   "source": [
    "# creating the DataFrame\n",
    "import pandas as pd\n",
    "iphone_review_table=pd.DataFrame({})\n",
    "iphone_review_table['Rating']=rating\n",
    "iphone_review_table['Review_summary']=revieW_summary\n",
    "iphone_review_table['full summary']=full_review"
   ]
  },
  {
   "cell_type": "code",
   "execution_count": 34,
   "metadata": {},
   "outputs": [
    {
     "data": {
      "text/html": [
       "<div>\n",
       "<style scoped>\n",
       "    .dataframe tbody tr th:only-of-type {\n",
       "        vertical-align: middle;\n",
       "    }\n",
       "\n",
       "    .dataframe tbody tr th {\n",
       "        vertical-align: top;\n",
       "    }\n",
       "\n",
       "    .dataframe thead th {\n",
       "        text-align: right;\n",
       "    }\n",
       "</style>\n",
       "<table border=\"1\" class=\"dataframe\">\n",
       "  <thead>\n",
       "    <tr style=\"text-align: right;\">\n",
       "      <th></th>\n",
       "      <th>Rating</th>\n",
       "      <th>Review_summary</th>\n",
       "      <th>full summary</th>\n",
       "    </tr>\n",
       "  </thead>\n",
       "  <tbody>\n",
       "    <tr>\n",
       "      <th>0</th>\n",
       "      <td>5</td>\n",
       "      <td>Perfect product!</td>\n",
       "      <td>Iphone is just awesome.. battery backup is ver...</td>\n",
       "    </tr>\n",
       "    <tr>\n",
       "      <th>1</th>\n",
       "      <td>5</td>\n",
       "      <td>Worth every penny</td>\n",
       "      <td>It’s been almost a month since I have been usi...</td>\n",
       "    </tr>\n",
       "    <tr>\n",
       "      <th>2</th>\n",
       "      <td>5</td>\n",
       "      <td>Terrific</td>\n",
       "      <td>Really worth of money. i just love it. It is t...</td>\n",
       "    </tr>\n",
       "    <tr>\n",
       "      <th>3</th>\n",
       "      <td>5</td>\n",
       "      <td>Simply awesome</td>\n",
       "      <td>Excellent camera, good performance, no lag. Th...</td>\n",
       "    </tr>\n",
       "    <tr>\n",
       "      <th>4</th>\n",
       "      <td>4</td>\n",
       "      <td>Nice product</td>\n",
       "      <td>Awesome Phone. Slightly high price but worth. ...</td>\n",
       "    </tr>\n",
       "    <tr>\n",
       "      <th>...</th>\n",
       "      <td>...</td>\n",
       "      <td>...</td>\n",
       "      <td>...</td>\n",
       "    </tr>\n",
       "    <tr>\n",
       "      <th>95</th>\n",
       "      <td>4</td>\n",
       "      <td>Good quality product</td>\n",
       "      <td>Awesome camera, smooth and fast UI, display is...</td>\n",
       "    </tr>\n",
       "    <tr>\n",
       "      <th>96</th>\n",
       "      <td>5</td>\n",
       "      <td>Classy product</td>\n",
       "      <td>I write this review after using a week this iP...</td>\n",
       "    </tr>\n",
       "    <tr>\n",
       "      <th>97</th>\n",
       "      <td>3</td>\n",
       "      <td>Not recommended at all</td>\n",
       "      <td>They are selling cheep quality items. There is...</td>\n",
       "    </tr>\n",
       "    <tr>\n",
       "      <th>98</th>\n",
       "      <td>5</td>\n",
       "      <td>Does the job</td>\n",
       "      <td>phone is good but in display is 720p lcd in th...</td>\n",
       "    </tr>\n",
       "    <tr>\n",
       "      <th>99</th>\n",
       "      <td>1</td>\n",
       "      <td>Excellent</td>\n",
       "      <td>A perfect phone and a good battery super camer...</td>\n",
       "    </tr>\n",
       "  </tbody>\n",
       "</table>\n",
       "<p>100 rows × 3 columns</p>\n",
       "</div>"
      ],
      "text/plain": [
       "   Rating          Review_summary  \\\n",
       "0       5        Perfect product!   \n",
       "1       5       Worth every penny   \n",
       "2       5                Terrific   \n",
       "3       5          Simply awesome   \n",
       "4       4            Nice product   \n",
       "..    ...                     ...   \n",
       "95      4    Good quality product   \n",
       "96      5          Classy product   \n",
       "97      3  Not recommended at all   \n",
       "98      5            Does the job   \n",
       "99      1               Excellent   \n",
       "\n",
       "                                         full summary  \n",
       "0   Iphone is just awesome.. battery backup is ver...  \n",
       "1   It’s been almost a month since I have been usi...  \n",
       "2   Really worth of money. i just love it. It is t...  \n",
       "3   Excellent camera, good performance, no lag. Th...  \n",
       "4   Awesome Phone. Slightly high price but worth. ...  \n",
       "..                                                ...  \n",
       "95  Awesome camera, smooth and fast UI, display is...  \n",
       "96  I write this review after using a week this iP...  \n",
       "97  They are selling cheep quality items. There is...  \n",
       "98  phone is good but in display is 720p lcd in th...  \n",
       "99  A perfect phone and a good battery super camer...  \n",
       "\n",
       "[100 rows x 3 columns]"
      ]
     },
     "execution_count": 34,
     "metadata": {},
     "output_type": "execute_result"
    }
   ],
   "source": [
    "iphone_review_table"
   ]
  },
  {
   "cell_type": "code",
   "execution_count": 35,
   "metadata": {},
   "outputs": [],
   "source": [
    "# closing the chrome\n",
    "driver.close()"
   ]
  },
  {
   "cell_type": "markdown",
   "metadata": {},
   "source": [
    "# Assignment Question No 8"
   ]
  },
  {
   "cell_type": "markdown",
   "metadata": {},
   "source": [
    "Q8: Scrape data for first 100 sneakers you find when you visit flipkart.com and search for “sneakers” in the search field. \n",
    "    \n",
    "    You have to scrape 4 attributes of each sneaker : \n",
    "        \n",
    "        1. Brand \n",
    "        \n",
    "        2. Product Description \n",
    "        \n",
    "        3. Price\n",
    "        \n",
    "        4. discount % \n",
    "        "
   ]
  },
  {
   "cell_type": "code",
   "execution_count": 47,
   "metadata": {},
   "outputs": [],
   "source": [
    "# importing libraries\n",
    "import selenium\n",
    "import pandas as pd\n",
    "import time\n",
    "\n",
    "#importing selenium webdriver\n",
    "from selenium import webdriver"
   ]
  },
  {
   "cell_type": "code",
   "execution_count": 48,
   "metadata": {},
   "outputs": [],
   "source": [
    "# activating the chrome browser\n",
    "driver=webdriver.Chrome(r'chromedriver.exe')"
   ]
  },
  {
   "cell_type": "code",
   "execution_count": 49,
   "metadata": {},
   "outputs": [],
   "source": [
    "# loading the website\n",
    "driver.get('  https://www.flipkart.com/ ')\n",
    "time.sleep(5)"
   ]
  },
  {
   "cell_type": "code",
   "execution_count": 50,
   "metadata": {},
   "outputs": [],
   "source": [
    "# asking the user for the data to be searched\n",
    "input1='sneakers'"
   ]
  },
  {
   "cell_type": "code",
   "execution_count": 51,
   "metadata": {},
   "outputs": [],
   "source": [
    "# inserting the text in the search box and clicking on the search button\n",
    "\n",
    "search_box1=driver.find_element_by_xpath('//input[@class=\"_3704LK\"]')\n",
    "search_box1.clear()\n",
    "search_box1.send_keys(input1)"
   ]
  },
  {
   "cell_type": "code",
   "execution_count": 52,
   "metadata": {},
   "outputs": [],
   "source": [
    "# clicking on the search button \n",
    "\n",
    "search_button=driver.find_element_by_xpath('//button[@class=\"L0Z3Pu\"]')\n",
    "search_button.click()"
   ]
  },
  {
   "cell_type": "code",
   "execution_count": 53,
   "metadata": {},
   "outputs": [],
   "source": [
    "# now we will extract all the details of sneakers by xpath and append it in a list by splitting the information\n",
    " \n",
    "Brand=[]                                                  # empty list for saving brand name\n",
    "Product_Description=[]                                    # empty list for saving product description\n",
    "price=[]                                                  # empty list for saving price\n",
    "for j in range(0,3):\n",
    "    for i in driver.find_elements_by_xpath('//div[@class=\"_2B099V\"]'):\n",
    "        sneakers=(i.text.split('\\n'))\n",
    "        Brand.append(sneakers[0])\n",
    "        Product_Description.append(sneakers[1])\n",
    "        price.append(sneakers[2])\n",
    "    driver.find_element_by_xpath('//a[@class=\"_1LKTO3\"]').click()          # xpath of next button\n",
    "    time.sleep(4)      "
   ]
  },
  {
   "cell_type": "code",
   "execution_count": 54,
   "metadata": {},
   "outputs": [
    {
     "name": "stdout",
     "output_type": "stream",
     "text": [
      "120\n"
     ]
    },
    {
     "data": {
      "text/plain": [
       "['PEHANOSA',\n",
       " 'bluemaker',\n",
       " 'Robbie jones',\n",
       " 'Numenzo',\n",
       " 'ORICUM',\n",
       " 'Robbie jones',\n",
       " 'Stefano Rads',\n",
       " 'HOTSTYLE',\n",
       " 'Shoes Bank',\n",
       " 'Echor',\n",
       " 'VIPSJAZZY',\n",
       " 'BRUTON',\n",
       " 'aadi',\n",
       " 'SHURAB',\n",
       " 'Birde',\n",
       " '\"trend\"',\n",
       " 'Robbie jones',\n",
       " 'VORII',\n",
       " 'bluemaker',\n",
       " 'Robbie jones',\n",
       " 'SCATCHITE',\n",
       " '3SIX5',\n",
       " 'Numenzo',\n",
       " 'BRUTON',\n",
       " 'restinfoot',\n",
       " 'Magnolia',\n",
       " 'Kraasa',\n",
       " 'T-ROCK',\n",
       " 'Zsyto',\n",
       " 'Rising Wolf',\n",
       " 'World Wear Footwear',\n",
       " 'World Wear Footwear',\n",
       " 'Numenzo',\n",
       " 'BRUTON',\n",
       " 'World Wear Footwear',\n",
       " 'Svpanther',\n",
       " 'SPARX',\n",
       " 'believe',\n",
       " 'SPARX',\n",
       " 'Bucik',\n",
       " 'HOTSTYLE',\n",
       " 'World Wear Footwear',\n",
       " 'PUMA',\n",
       " 'player world',\n",
       " 'SPARX',\n",
       " 'Birde',\n",
       " 'Axter',\n",
       " 'Zorth',\n",
       " 'Ktiz',\n",
       " 'GUSTO',\n",
       " 'Walkstyle',\n",
       " 'T-ROCK',\n",
       " 'Baogi',\n",
       " 'oxpeo',\n",
       " 'SWIGGY',\n",
       " 'D-SNEAKERZ',\n",
       " 'Raftar',\n",
       " 'Kraasa',\n",
       " 'VISTAARA',\n",
       " 'Kizaar',\n",
       " 'Jokatoo',\n",
       " 'SPARX',\n",
       " 'bluemaker',\n",
       " 'ARMADO',\n",
       " 'T-ROCK',\n",
       " 'Robbie jones',\n",
       " 'SPARX',\n",
       " 'ESSENCE',\n",
       " 'LEATHERKRAFT',\n",
       " 'BRUTON',\n",
       " 'GUSTO',\n",
       " 'Imcolus',\n",
       " 'Wen Hawk',\n",
       " 'Clymb',\n",
       " 'TR',\n",
       " 'Zorth',\n",
       " 'PUMA',\n",
       " 'Nilatin',\n",
       " 'ROCKFIELD',\n",
       " 'FAUSTO',\n",
       " 'PEHANOSA',\n",
       " 'bluemaker',\n",
       " 'Robbie jones',\n",
       " 'Numenzo',\n",
       " 'ORICUM',\n",
       " 'Robbie jones',\n",
       " 'Stefano Rads',\n",
       " 'HOTSTYLE',\n",
       " 'Shoes Bank',\n",
       " 'Echor',\n",
       " 'VIPSJAZZY',\n",
       " 'BRUTON',\n",
       " 'aadi',\n",
       " 'SHURAB',\n",
       " 'Birde',\n",
       " '\"trend\"',\n",
       " 'Robbie jones',\n",
       " 'VORII',\n",
       " 'bluemaker',\n",
       " 'well feet',\n",
       " 'SCATCHITE',\n",
       " '3SIX5',\n",
       " 'Numenzo',\n",
       " 'Robbie jones',\n",
       " 'restinfoot',\n",
       " 'Magnolia',\n",
       " 'Kraasa',\n",
       " 'T-ROCK',\n",
       " 'Zsyto',\n",
       " 'BRUTON',\n",
       " 'World Wear Footwear',\n",
       " 'World Wear Footwear',\n",
       " 'Numenzo',\n",
       " 'Rising Wolf',\n",
       " 'World Wear Footwear',\n",
       " 'Svpanther',\n",
       " 'SPARX',\n",
       " 'believe',\n",
       " 'SPARX',\n",
       " 'Bucik']"
      ]
     },
     "execution_count": 54,
     "metadata": {},
     "output_type": "execute_result"
    }
   ],
   "source": [
    "print(len(Brand))\n",
    "Brand"
   ]
  },
  {
   "cell_type": "code",
   "execution_count": 55,
   "metadata": {},
   "outputs": [
    {
     "name": "stdout",
     "output_type": "stream",
     "text": [
      "120\n"
     ]
    },
    {
     "data": {
      "text/plain": [
       "['Sneakers For Men',\n",
       " 'Sneakers For Men',\n",
       " 'Casual Sneakers Shoes For Men Sneakers For Men',\n",
       " 'Sneakers For Men',\n",
       " 'Combo pack of 2 casual sneaker shoes for men Sneakers F...',\n",
       " 'Sneakers For Men',\n",
       " 'Classy Sneakers For Men',\n",
       " 'Sneakers Sneakers For Men',\n",
       " \"White Sneaker For Men's/Boy's Sneakers For Men\",\n",
       " 'shoes for boys Sneakers For Men',\n",
       " 'Sneakers For Men',\n",
       " 'Combo Pack Of 4 Canvas Sneakers For Men',\n",
       " 'Sneakers For Men',\n",
       " 'Latest Stylish Casual sneakers for men | Lace up lightw...',\n",
       " 'Combo Pack of 4 Casual Shoes Sneakers For Men',\n",
       " 'Fashionable casual sneakers shoes for men Sneakers For ...',\n",
       " 'Casual Sneakers Black Shoes For Men Sneakers For Men',\n",
       " 'Latest Stylish Casual sneakers for men | Lace up lightw...',\n",
       " 'casual for men (blue 06) Sneakers For Men',\n",
       " 'Casual Sneakers Shoes For Men Sneakers For Men',\n",
       " 'Sneakers Sneakers For Men',\n",
       " 'ORIFWSH(OR)-1077 Sneakers For Men',\n",
       " 'Casual Sneaker Sneakers For Men',\n",
       " 'Men Sports Sneakers For Men',\n",
       " 'Casual shoes Sneakers For Men',\n",
       " 'White Sneakers Sneakers For Men',\n",
       " 'Series 7 Sneakers For Men',\n",
       " 'Synthetic Leather Casual Partywear Wedding Sneakers Sho...',\n",
       " 'Sneakers For Men',\n",
       " 'Sneakers For Men',\n",
       " 'Men 5014 Latest Collection Stylish Casual Sports Loafer...',\n",
       " 'Sneakers For Men',\n",
       " 'Sneakers For Men',\n",
       " 'Combo Pack of 2 Casual Sneakers For Men',\n",
       " '5011-Latest Collection Stylish Casual Loafer Sneakers S...',\n",
       " '1002 Sneakers For Men',\n",
       " 'SM-439 Sneakers For Men',\n",
       " 'Sneakers for men(black_6) Sneakers For Men',\n",
       " 'SM-482 Sneakers For Men',\n",
       " 'Multicolor Casual Shoes Mesh for Men Sneakers For Men',\n",
       " 'Sneakers Sneakers For Men',\n",
       " 'Combo Pack of 4 Latest Collection Stylish Casual Loafer...',\n",
       " 'Anzarun Lite Sneakers For Men',\n",
       " 'SNEAKERS TYPE CASUEL SHOES Sneakers For Men',\n",
       " 'SD-323 Sneakers For Men',\n",
       " 'Combo Pack of 4 Casual Shoes Sneakers For Men',\n",
       " 'Combo Pack of 2 Latest Collection Stylish Casual Loafer...',\n",
       " 'Sneakers For Men',\n",
       " 'Rockstyle Trending Multicolor Ultralight canvas Sport/ ...',\n",
       " 'Sneakers For Men',\n",
       " 'Sneakers For Men',\n",
       " 'Sneakers For Men',\n",
       " 'Sneakers for man Sneakers For Men',\n",
       " 'Colourblocked Trending Multicolor Ultralight canvas Spo...',\n",
       " 'Casual Loafers, Sneakers Shoes for Men Pack of 5 Combo(...',\n",
       " \"Casual , Partywear Sneakers Shoes For Men's And Boys Wh...\",\n",
       " 'Sneakers For Men',\n",
       " 'Casuals, Canvas, Partywear Sneakers For Men',\n",
       " '489 Black Sneakers For Men',\n",
       " 'Casual Sneakers For Men',\n",
       " 'Sneakers For Men',\n",
       " 'SM-162 Sneakers For Men',\n",
       " 'casual for men (black 08) Sneakers For Men',\n",
       " 'casual shoes For Mens Combo(AR)-1658-1619 ( Multicolor-...',\n",
       " 'Synthetic Leather Casual Sneakers Shoes For Men Sneaker...',\n",
       " 'Casual Sneakers Shoes For Men Sneakers For Men',\n",
       " 'SM-322 Sneakers For Men',\n",
       " 'Sneakers For Men',\n",
       " 'Sneakers For Men',\n",
       " 'Sneakers For Men',\n",
       " 'Sneakers For Men',\n",
       " 'Sneakers For Men',\n",
       " 'Latest Stylish Casual sneakers for men | Lace up lightw...',\n",
       " 'Sneakers For Men',\n",
       " 'Sneakers For Men',\n",
       " 'Sneakers For Men',\n",
       " 'Icon IDP Sneakers For Men',\n",
       " 'White Sneaker for Men Sneakers For Men',\n",
       " 'Sneakers For Men',\n",
       " 'Lace Up Trendy Sneakers For Men',\n",
       " 'Sneakers For Men',\n",
       " 'Sneakers For Men',\n",
       " 'Casual Sneakers Shoes For Men Sneakers For Men',\n",
       " 'Sneakers For Men',\n",
       " 'Combo pack of 2 casual sneaker shoes for men Sneakers F...',\n",
       " 'Sneakers For Men',\n",
       " 'Classy Sneakers For Men',\n",
       " 'Sneakers Sneakers For Men',\n",
       " \"White Sneaker For Men's/Boy's Sneakers For Men\",\n",
       " 'shoes for boys Sneakers For Men',\n",
       " 'Sneakers For Men',\n",
       " 'Combo Pack Of 4 Canvas Sneakers For Men',\n",
       " 'Sneakers For Men',\n",
       " 'Latest Stylish Casual sneakers for men | Lace up lightw...',\n",
       " 'Combo Pack of 4 Casual Shoes Sneakers For Men',\n",
       " 'Fashionable casual sneakers shoes for men Sneakers For ...',\n",
       " 'Casual Sneakers Black Shoes For Men Sneakers For Men',\n",
       " 'Latest Stylish Casual sneakers for men | Lace up lightw...',\n",
       " 'casual for men (blue 06) Sneakers For Men',\n",
       " 'sneaker for mens and boys Sneakers For Men',\n",
       " 'Sneakers Sneakers For Men',\n",
       " 'ORIFWSH(OR)-1077 Sneakers For Men',\n",
       " 'Casual Sneaker Sneakers For Men',\n",
       " 'Casual Sneakers Shoes For Men Sneakers For Men',\n",
       " 'Casual shoes Sneakers For Men',\n",
       " 'White Sneakers Sneakers For Men',\n",
       " 'Series 7 Sneakers For Men',\n",
       " 'Synthetic Leather Casual Partywear Wedding Sneakers Sho...',\n",
       " 'Sneakers For Men',\n",
       " 'Men Sports Sneakers For Men',\n",
       " 'Men 5014 Latest Collection Stylish Casual Sports Loafer...',\n",
       " 'Sneakers For Men',\n",
       " 'Sneakers For Men',\n",
       " 'Sneakers For Men',\n",
       " '5011-Latest Collection Stylish Casual Loafer Sneakers S...',\n",
       " '1002 Sneakers For Men',\n",
       " 'SM-439 Sneakers For Men',\n",
       " 'Sneakers for men(black_6) Sneakers For Men',\n",
       " 'SM-482 Sneakers For Men',\n",
       " 'Multicolor Casual Shoes Mesh for Men Sneakers For Men']"
      ]
     },
     "execution_count": 55,
     "metadata": {},
     "output_type": "execute_result"
    }
   ],
   "source": [
    "print(len(Product_Description))\n",
    "Product_Description"
   ]
  },
  {
   "cell_type": "code",
   "execution_count": 56,
   "metadata": {},
   "outputs": [
    {
     "data": {
      "text/plain": [
       "['₹499₹99950% off',\n",
       " '₹449₹99955% off',\n",
       " '₹379₹99962% off',\n",
       " '₹398₹99960% off',\n",
       " '₹377₹99862% off',\n",
       " '₹474₹99952% off',\n",
       " '₹242₹69965% off',\n",
       " '₹283₹49943% off',\n",
       " '₹331₹99966% off',\n",
       " '₹569₹99943% off',\n",
       " '₹419₹99958% off',\n",
       " '₹499₹3,49985% off',\n",
       " '₹298₹99970% off',\n",
       " '₹399₹99960% off',\n",
       " '₹842₹1,99657% off',\n",
       " '₹426₹1,99978% off',\n",
       " '₹428₹99957% off',\n",
       " '₹379₹99962% off',\n",
       " '₹449₹99955% off',\n",
       " '₹379₹99962% off',\n",
       " '₹398₹99960% off',\n",
       " '₹214₹49957% off',\n",
       " '₹539₹99946% off',\n",
       " '₹299₹1,29976% off',\n",
       " '₹379₹99962% off',\n",
       " '₹305₹99969% off',\n",
       " '₹416₹99958% off',\n",
       " '₹378₹99962% off',\n",
       " '₹328₹1,29974% off',\n",
       " '₹485₹1,99975% off',\n",
       " '₹240₹49951% off',\n",
       " '₹240₹49951% off',\n",
       " '₹429₹99957% off',\n",
       " '₹404₹2,40083% off',\n",
       " '₹240₹49951% off',\n",
       " '₹515₹99948% off',\n",
       " '₹699',\n",
       " '₹446₹99955% off',\n",
       " '₹975₹1,34927% off',\n",
       " '₹568₹1,99971% off',\n",
       " '₹299₹49940% off',\n",
       " '₹499₹2,64081% off',\n",
       " '₹1,975₹2,99934% off',\n",
       " '₹447₹1,10059% off',\n",
       " '₹631₹74915% off',\n",
       " '₹661₹1,99966% off',\n",
       " '₹299₹1,36478% off',\n",
       " '₹599₹99940% off',\n",
       " '₹474₹1,29963% off',\n",
       " '₹389₹99961% off',\n",
       " '₹509₹1,49966% off',\n",
       " '₹449₹99955% off',\n",
       " '₹399₹99960% off',\n",
       " '₹419₹99958% off',\n",
       " '₹719₹2,49571% off',\n",
       " '₹367₹65944% off',\n",
       " '₹368₹99963% off',\n",
       " '₹416₹99958% off',\n",
       " '₹279₹99972% off',\n",
       " '₹499₹99950% off',\n",
       " '₹455₹1,49969% off',\n",
       " '₹730₹94923% off',\n",
       " '₹449₹99955% off',\n",
       " '₹498₹99850% off',\n",
       " '₹449₹99955% off',\n",
       " '₹474₹99952% off',\n",
       " '₹769₹99923% off',\n",
       " '₹442₹99955% off',\n",
       " '₹299₹99970% off',\n",
       " '₹299₹1,29976% off',\n",
       " '₹699₹1,29946% off',\n",
       " '₹464₹99953% off',\n",
       " '₹323₹99967% off',\n",
       " '₹309₹99969% off',\n",
       " '₹599₹1,99970% off',\n",
       " '₹599₹99940% off',\n",
       " '₹1,227₹3,29962% off',\n",
       " '₹407₹1,29968% off',\n",
       " '₹499₹99950% off',\n",
       " '₹999',\n",
       " '₹499₹99950% off',\n",
       " '₹449₹99955% off',\n",
       " '₹379₹99962% off',\n",
       " '₹398₹99960% off',\n",
       " '₹377₹99862% off',\n",
       " '₹474₹99952% off',\n",
       " '₹242₹69965% off',\n",
       " '₹283₹49943% off',\n",
       " '₹331₹99966% off',\n",
       " '₹569₹99943% off',\n",
       " '₹419₹99958% off',\n",
       " '₹499₹3,49985% off',\n",
       " '₹298₹99970% off',\n",
       " '₹399₹99960% off',\n",
       " '₹842₹1,99657% off',\n",
       " '₹426₹1,99978% off',\n",
       " '₹428₹99957% off',\n",
       " '₹379₹99962% off',\n",
       " '₹449₹99955% off',\n",
       " '₹399₹59933% off',\n",
       " '₹398₹99960% off',\n",
       " '₹214₹49957% off',\n",
       " '₹539₹99946% off',\n",
       " '₹379₹99962% off',\n",
       " '₹379₹99962% off',\n",
       " '₹305₹99969% off',\n",
       " '₹416₹99958% off',\n",
       " '₹378₹99962% off',\n",
       " '₹328₹1,29974% off',\n",
       " '₹299₹1,29976% off',\n",
       " '₹240₹49951% off',\n",
       " '₹240₹49951% off',\n",
       " '₹429₹99957% off',\n",
       " '₹485₹1,99975% off',\n",
       " '₹240₹49951% off',\n",
       " '₹515₹99948% off',\n",
       " '₹699',\n",
       " '₹446₹99955% off',\n",
       " '₹975₹1,34927% off',\n",
       " '₹568₹1,99971% off']"
      ]
     },
     "execution_count": 56,
     "metadata": {},
     "output_type": "execute_result"
    }
   ],
   "source": [
    "price  \n",
    "# in price column the original price , the discounted price and the price offered all are included so we will use split\n",
    "#function to split the information we want"
   ]
  },
  {
   "cell_type": "code",
   "execution_count": 57,
   "metadata": {},
   "outputs": [],
   "source": [
    "# separating the price and discount% from the price list\n",
    " \n",
    "Price=[]                             # empty list for  appending the price\n",
    "discount=[]                          # empty list for appending the discount\n",
    "for i in price:\n",
    "    pr=i.split('₹')                  # temporary string to save the prices\n",
    "    ds=i[-7:]                        # slicing the string to save the discount in ds variable\n",
    "    Price.append(pr[1])              # appending the pr in list\n",
    "    discount.append(ds)              # appending the ds in list"
   ]
  },
  {
   "cell_type": "code",
   "execution_count": 58,
   "metadata": {},
   "outputs": [
    {
     "name": "stdout",
     "output_type": "stream",
     "text": [
      "120\n"
     ]
    },
    {
     "data": {
      "text/plain": [
       "['50% off',\n",
       " '55% off',\n",
       " '62% off',\n",
       " '60% off',\n",
       " '62% off',\n",
       " '52% off',\n",
       " '65% off',\n",
       " '43% off',\n",
       " '66% off',\n",
       " '43% off',\n",
       " '58% off',\n",
       " '85% off',\n",
       " '70% off',\n",
       " '60% off',\n",
       " '57% off',\n",
       " '78% off',\n",
       " '57% off',\n",
       " '62% off',\n",
       " '55% off',\n",
       " '62% off',\n",
       " '60% off',\n",
       " '57% off',\n",
       " '46% off',\n",
       " '76% off',\n",
       " '62% off',\n",
       " '69% off',\n",
       " '58% off',\n",
       " '62% off',\n",
       " '74% off',\n",
       " '75% off',\n",
       " '51% off',\n",
       " '51% off',\n",
       " '57% off',\n",
       " '83% off',\n",
       " '51% off',\n",
       " '48% off',\n",
       " '₹699',\n",
       " '55% off',\n",
       " '27% off',\n",
       " '71% off',\n",
       " '40% off',\n",
       " '81% off',\n",
       " '34% off',\n",
       " '59% off',\n",
       " '15% off',\n",
       " '66% off',\n",
       " '78% off',\n",
       " '40% off',\n",
       " '63% off',\n",
       " '61% off',\n",
       " '66% off',\n",
       " '55% off',\n",
       " '60% off',\n",
       " '58% off',\n",
       " '71% off',\n",
       " '44% off',\n",
       " '63% off',\n",
       " '58% off',\n",
       " '72% off',\n",
       " '50% off',\n",
       " '69% off',\n",
       " '23% off',\n",
       " '55% off',\n",
       " '50% off',\n",
       " '55% off',\n",
       " '52% off',\n",
       " '23% off',\n",
       " '55% off',\n",
       " '70% off',\n",
       " '76% off',\n",
       " '46% off',\n",
       " '53% off',\n",
       " '67% off',\n",
       " '69% off',\n",
       " '70% off',\n",
       " '40% off',\n",
       " '62% off',\n",
       " '68% off',\n",
       " '50% off',\n",
       " '₹999',\n",
       " '50% off',\n",
       " '55% off',\n",
       " '62% off',\n",
       " '60% off',\n",
       " '62% off',\n",
       " '52% off',\n",
       " '65% off',\n",
       " '43% off',\n",
       " '66% off',\n",
       " '43% off',\n",
       " '58% off',\n",
       " '85% off',\n",
       " '70% off',\n",
       " '60% off',\n",
       " '57% off',\n",
       " '78% off',\n",
       " '57% off',\n",
       " '62% off',\n",
       " '55% off',\n",
       " '33% off',\n",
       " '60% off',\n",
       " '57% off',\n",
       " '46% off',\n",
       " '62% off',\n",
       " '62% off',\n",
       " '69% off',\n",
       " '58% off',\n",
       " '62% off',\n",
       " '74% off',\n",
       " '76% off',\n",
       " '51% off',\n",
       " '51% off',\n",
       " '57% off',\n",
       " '75% off',\n",
       " '51% off',\n",
       " '48% off',\n",
       " '₹699',\n",
       " '55% off',\n",
       " '27% off',\n",
       " '71% off']"
      ]
     },
     "execution_count": 58,
     "metadata": {},
     "output_type": "execute_result"
    }
   ],
   "source": [
    "print(len(discount))\n",
    "discount"
   ]
  },
  {
   "cell_type": "code",
   "execution_count": 59,
   "metadata": {},
   "outputs": [
    {
     "name": "stdout",
     "output_type": "stream",
     "text": [
      "120\n"
     ]
    },
    {
     "data": {
      "text/plain": [
       "['499',\n",
       " '449',\n",
       " '379',\n",
       " '398',\n",
       " '377',\n",
       " '474',\n",
       " '242',\n",
       " '283',\n",
       " '331',\n",
       " '569',\n",
       " '419',\n",
       " '499',\n",
       " '298',\n",
       " '399',\n",
       " '842',\n",
       " '426',\n",
       " '428',\n",
       " '379',\n",
       " '449',\n",
       " '379',\n",
       " '398',\n",
       " '214',\n",
       " '539',\n",
       " '299',\n",
       " '379',\n",
       " '305',\n",
       " '416',\n",
       " '378',\n",
       " '328',\n",
       " '485',\n",
       " '240',\n",
       " '240',\n",
       " '429',\n",
       " '404',\n",
       " '240',\n",
       " '515',\n",
       " '699',\n",
       " '446',\n",
       " '975',\n",
       " '568',\n",
       " '299',\n",
       " '499',\n",
       " '1,975',\n",
       " '447',\n",
       " '631',\n",
       " '661',\n",
       " '299',\n",
       " '599',\n",
       " '474',\n",
       " '389',\n",
       " '509',\n",
       " '449',\n",
       " '399',\n",
       " '419',\n",
       " '719',\n",
       " '367',\n",
       " '368',\n",
       " '416',\n",
       " '279',\n",
       " '499',\n",
       " '455',\n",
       " '730',\n",
       " '449',\n",
       " '498',\n",
       " '449',\n",
       " '474',\n",
       " '769',\n",
       " '442',\n",
       " '299',\n",
       " '299',\n",
       " '699',\n",
       " '464',\n",
       " '323',\n",
       " '309',\n",
       " '599',\n",
       " '599',\n",
       " '1,227',\n",
       " '407',\n",
       " '499',\n",
       " '999',\n",
       " '499',\n",
       " '449',\n",
       " '379',\n",
       " '398',\n",
       " '377',\n",
       " '474',\n",
       " '242',\n",
       " '283',\n",
       " '331',\n",
       " '569',\n",
       " '419',\n",
       " '499',\n",
       " '298',\n",
       " '399',\n",
       " '842',\n",
       " '426',\n",
       " '428',\n",
       " '379',\n",
       " '449',\n",
       " '399',\n",
       " '398',\n",
       " '214',\n",
       " '539',\n",
       " '379',\n",
       " '379',\n",
       " '305',\n",
       " '416',\n",
       " '378',\n",
       " '328',\n",
       " '299',\n",
       " '240',\n",
       " '240',\n",
       " '429',\n",
       " '485',\n",
       " '240',\n",
       " '515',\n",
       " '699',\n",
       " '446',\n",
       " '975',\n",
       " '568']"
      ]
     },
     "execution_count": 59,
     "metadata": {},
     "output_type": "execute_result"
    }
   ],
   "source": [
    "print(len(Price))\n",
    "Price"
   ]
  },
  {
   "cell_type": "code",
   "execution_count": 60,
   "metadata": {},
   "outputs": [],
   "source": [
    "import pandas as pd\n",
    "Sneakers=pd.DataFrame({})\n",
    "Sneakers['Brand_Name']=Brand[0:100]\n",
    "Sneakers['Product_Description']=Product_Description[0:100]\n",
    "Sneakers['Price']=Price[0:100]\n",
    "Sneakers['Discount%']=discount[0:100]"
   ]
  },
  {
   "cell_type": "code",
   "execution_count": 61,
   "metadata": {},
   "outputs": [
    {
     "data": {
      "text/html": [
       "<div>\n",
       "<style scoped>\n",
       "    .dataframe tbody tr th:only-of-type {\n",
       "        vertical-align: middle;\n",
       "    }\n",
       "\n",
       "    .dataframe tbody tr th {\n",
       "        vertical-align: top;\n",
       "    }\n",
       "\n",
       "    .dataframe thead th {\n",
       "        text-align: right;\n",
       "    }\n",
       "</style>\n",
       "<table border=\"1\" class=\"dataframe\">\n",
       "  <thead>\n",
       "    <tr style=\"text-align: right;\">\n",
       "      <th></th>\n",
       "      <th>Brand_Name</th>\n",
       "      <th>Product_Description</th>\n",
       "      <th>Price</th>\n",
       "      <th>Discount%</th>\n",
       "    </tr>\n",
       "  </thead>\n",
       "  <tbody>\n",
       "    <tr>\n",
       "      <th>0</th>\n",
       "      <td>PEHANOSA</td>\n",
       "      <td>Sneakers For Men</td>\n",
       "      <td>499</td>\n",
       "      <td>50% off</td>\n",
       "    </tr>\n",
       "    <tr>\n",
       "      <th>1</th>\n",
       "      <td>bluemaker</td>\n",
       "      <td>Sneakers For Men</td>\n",
       "      <td>449</td>\n",
       "      <td>55% off</td>\n",
       "    </tr>\n",
       "    <tr>\n",
       "      <th>2</th>\n",
       "      <td>Robbie jones</td>\n",
       "      <td>Casual Sneakers Shoes For Men Sneakers For Men</td>\n",
       "      <td>379</td>\n",
       "      <td>62% off</td>\n",
       "    </tr>\n",
       "    <tr>\n",
       "      <th>3</th>\n",
       "      <td>Numenzo</td>\n",
       "      <td>Sneakers For Men</td>\n",
       "      <td>398</td>\n",
       "      <td>60% off</td>\n",
       "    </tr>\n",
       "    <tr>\n",
       "      <th>4</th>\n",
       "      <td>ORICUM</td>\n",
       "      <td>Combo pack of 2 casual sneaker shoes for men S...</td>\n",
       "      <td>377</td>\n",
       "      <td>62% off</td>\n",
       "    </tr>\n",
       "    <tr>\n",
       "      <th>...</th>\n",
       "      <td>...</td>\n",
       "      <td>...</td>\n",
       "      <td>...</td>\n",
       "      <td>...</td>\n",
       "    </tr>\n",
       "    <tr>\n",
       "      <th>95</th>\n",
       "      <td>\"trend\"</td>\n",
       "      <td>Fashionable casual sneakers shoes for men Snea...</td>\n",
       "      <td>426</td>\n",
       "      <td>78% off</td>\n",
       "    </tr>\n",
       "    <tr>\n",
       "      <th>96</th>\n",
       "      <td>Robbie jones</td>\n",
       "      <td>Casual Sneakers Black Shoes For Men Sneakers F...</td>\n",
       "      <td>428</td>\n",
       "      <td>57% off</td>\n",
       "    </tr>\n",
       "    <tr>\n",
       "      <th>97</th>\n",
       "      <td>VORII</td>\n",
       "      <td>Latest Stylish Casual sneakers for men | Lace ...</td>\n",
       "      <td>379</td>\n",
       "      <td>62% off</td>\n",
       "    </tr>\n",
       "    <tr>\n",
       "      <th>98</th>\n",
       "      <td>bluemaker</td>\n",
       "      <td>casual for men (blue 06) Sneakers For Men</td>\n",
       "      <td>449</td>\n",
       "      <td>55% off</td>\n",
       "    </tr>\n",
       "    <tr>\n",
       "      <th>99</th>\n",
       "      <td>well feet</td>\n",
       "      <td>sneaker for mens and boys Sneakers For Men</td>\n",
       "      <td>399</td>\n",
       "      <td>33% off</td>\n",
       "    </tr>\n",
       "  </tbody>\n",
       "</table>\n",
       "<p>100 rows × 4 columns</p>\n",
       "</div>"
      ],
      "text/plain": [
       "      Brand_Name                                Product_Description Price  \\\n",
       "0       PEHANOSA                                   Sneakers For Men   499   \n",
       "1      bluemaker                                   Sneakers For Men   449   \n",
       "2   Robbie jones     Casual Sneakers Shoes For Men Sneakers For Men   379   \n",
       "3        Numenzo                                   Sneakers For Men   398   \n",
       "4         ORICUM  Combo pack of 2 casual sneaker shoes for men S...   377   \n",
       "..           ...                                                ...   ...   \n",
       "95       \"trend\"  Fashionable casual sneakers shoes for men Snea...   426   \n",
       "96  Robbie jones  Casual Sneakers Black Shoes For Men Sneakers F...   428   \n",
       "97         VORII  Latest Stylish Casual sneakers for men | Lace ...   379   \n",
       "98     bluemaker          casual for men (blue 06) Sneakers For Men   449   \n",
       "99     well feet         sneaker for mens and boys Sneakers For Men   399   \n",
       "\n",
       "   Discount%  \n",
       "0    50% off  \n",
       "1    55% off  \n",
       "2    62% off  \n",
       "3    60% off  \n",
       "4    62% off  \n",
       "..       ...  \n",
       "95   78% off  \n",
       "96   57% off  \n",
       "97   62% off  \n",
       "98   55% off  \n",
       "99   33% off  \n",
       "\n",
       "[100 rows x 4 columns]"
      ]
     },
     "execution_count": 61,
     "metadata": {},
     "output_type": "execute_result"
    }
   ],
   "source": [
    "Sneakers"
   ]
  },
  {
   "cell_type": "code",
   "execution_count": 62,
   "metadata": {},
   "outputs": [],
   "source": [
    "driver.close()"
   ]
  },
  {
   "cell_type": "markdown",
   "metadata": {},
   "source": [
    "# Assignment Question no 9"
   ]
  },
  {
   "cell_type": "markdown",
   "metadata": {},
   "source": [
    "Q9: Go to the link - https://www.myntra.com/shoes \n",
    "        \n",
    "Set Price filter to “Rs. 6649 to Rs. 13099” , Color filter to “Black”, as shown in the below image \n",
    "\n",
    "And then scrape First 100 shoes data you get. \n",
    "\n",
    "The data should include “Brand” of the shoes , Short Shoe description, price of the shoe as shown in the below image\n",
    "    "
   ]
  },
  {
   "cell_type": "code",
   "execution_count": 63,
   "metadata": {},
   "outputs": [],
   "source": [
    "# importing necessary libraries\n",
    "\n",
    "import pandas as pd\n",
    "import selenium\n",
    "import time\n",
    "from selenium import webdriver\n"
   ]
  },
  {
   "cell_type": "code",
   "execution_count": 64,
   "metadata": {},
   "outputs": [],
   "source": [
    "# activating the chrome driver\n",
    "driver=webdriver.Chrome(r'Chromedriver.exe')"
   ]
  },
  {
   "cell_type": "code",
   "execution_count": 65,
   "metadata": {},
   "outputs": [],
   "source": [
    "# loading the website\n",
    "driver.get('https://www.myntra.com/shoes ')"
   ]
  },
  {
   "cell_type": "code",
   "execution_count": 66,
   "metadata": {},
   "outputs": [],
   "source": [
    "# clicking on the filter Rs 6649 to Rs 13099\n",
    "\n",
    "driver.find_element_by_xpath(\"//ul[@class='price-list']//li[2]\").click(); "
   ]
  },
  {
   "cell_type": "code",
   "execution_count": 67,
   "metadata": {},
   "outputs": [],
   "source": [
    "# clicking on the color filter \"black\" \n",
    "\n",
    "driver.find_element_by_xpath(\"//li[@class='colour-listItem']//label\").click(); "
   ]
  },
  {
   "cell_type": "code",
   "execution_count": 68,
   "metadata": {},
   "outputs": [],
   "source": [
    "# now we will extract all the details of sneakers by xpath and append it in a list by splitting the information\n",
    " \n",
    "Brand=[]                                                  # empty list for saving brand name\n",
    "Product_Description=[]                                    # empty list for saving product description\n",
    "price=[]                                                  # empty list for saving price\n",
    "for j in range(0,3):\n",
    "    for i in driver.find_elements_by_xpath('//div[@class=\"product-productMetaInfo\"]'):\n",
    "        sneakers=(i.text.split('\\n'))\n",
    "        Brand.append(sneakers[0])\n",
    "        Product_Description.append(sneakers[1])\n",
    "        price.append(sneakers[2])\n",
    "    driver.find_element_by_xpath('//li[@class=\"pagination-next\"]').click()          # xpath of next button\n",
    "    time.sleep(4)                                                        \n",
    "    "
   ]
  },
  {
   "cell_type": "code",
   "execution_count": 69,
   "metadata": {},
   "outputs": [
    {
     "name": "stdout",
     "output_type": "stream",
     "text": [
      "150\n"
     ]
    },
    {
     "data": {
      "text/plain": [
       "['Nike',\n",
       " 'Nike',\n",
       " 'Puma',\n",
       " 'PUMA Motorsport',\n",
       " 'Nike',\n",
       " 'Nike',\n",
       " 'Nike',\n",
       " 'Puma',\n",
       " 'Nike',\n",
       " 'Nike',\n",
       " 'Nike',\n",
       " 'UNDER ARMOUR',\n",
       " 'Puma',\n",
       " 'Saint G',\n",
       " 'Puma',\n",
       " 'UNDER ARMOUR',\n",
       " 'UNDER ARMOUR',\n",
       " 'UNDER ARMOUR',\n",
       " 'Puma',\n",
       " 'ADIDAS Originals',\n",
       " 'Hush Puppies',\n",
       " 'UNDER ARMOUR',\n",
       " 'FILA',\n",
       " 'Puma',\n",
       " 'Puma',\n",
       " 'Skechers',\n",
       " 'Saint G',\n",
       " 'Hush Puppies',\n",
       " 'Ruosh',\n",
       " 'Heel & Buckle London',\n",
       " 'Puma',\n",
       " 'UNDER ARMOUR',\n",
       " 'UNDER ARMOUR',\n",
       " 'Geox',\n",
       " 'UNDER ARMOUR',\n",
       " 'Reebok',\n",
       " 'UNDER ARMOUR',\n",
       " 'Cole Haan',\n",
       " 'Cole Haan',\n",
       " 'Puma',\n",
       " 'Cole Haan',\n",
       " 'Cole Haan',\n",
       " 'one8 x PUMA',\n",
       " 'Cole Haan',\n",
       " 'Nike',\n",
       " 'Nike',\n",
       " 'Nike',\n",
       " 'Geox',\n",
       " 'UNDER ARMOUR',\n",
       " 'Geox',\n",
       " 'Geox',\n",
       " 'UNDER ARMOUR',\n",
       " 'Geox',\n",
       " 'Reebok',\n",
       " 'Cole Haan',\n",
       " 'ALDO',\n",
       " 'ADIDAS',\n",
       " 'Saint G',\n",
       " 'Cole Haan',\n",
       " 'Ruosh',\n",
       " 'Nike',\n",
       " 'Geox',\n",
       " 'ADIDAS',\n",
       " 'UNDER ARMOUR',\n",
       " 'Nike',\n",
       " 'Geox',\n",
       " 'Nike',\n",
       " 'Puma',\n",
       " 'Geox',\n",
       " 'Geox',\n",
       " 'Nike',\n",
       " 'ADIDAS',\n",
       " 'Cole Haan',\n",
       " 'Kenneth Cole',\n",
       " 'Saint G',\n",
       " 'UNDER ARMOUR',\n",
       " 'ALDO',\n",
       " 'UNDER ARMOUR',\n",
       " 'Bugatti',\n",
       " 'Heel & Buckle London',\n",
       " 'Cole Haan',\n",
       " 'Nike',\n",
       " 'Nike',\n",
       " 'Puma',\n",
       " 'ALDO',\n",
       " 'ADIDAS',\n",
       " 'ALDO',\n",
       " 'ASICS',\n",
       " 'ROSSO BRUNELLO',\n",
       " 'PUMA Motorsport',\n",
       " 'Puma',\n",
       " 'ALDO',\n",
       " 'UNDER ARMOUR',\n",
       " 'ALDO',\n",
       " 'ADIDAS',\n",
       " 'ADIDAS',\n",
       " 'Onitsuka Tiger',\n",
       " 'ROSSO BRUNELLO',\n",
       " 'ALDO',\n",
       " 'Puma',\n",
       " 'ALDO',\n",
       " 'ROSSO BRUNELLO',\n",
       " 'ALDO',\n",
       " 'ROSSO BRUNELLO',\n",
       " 'ROSSO BRUNELLO',\n",
       " 'Puma',\n",
       " 'UNDER ARMOUR',\n",
       " 'ALDO',\n",
       " 'ALDO',\n",
       " 'DAVINCHI',\n",
       " 'ALDO',\n",
       " 'PUMA Motorsport',\n",
       " 'ROSSO BRUNELLO',\n",
       " 'Saint G',\n",
       " 'ALDO',\n",
       " 'Nike',\n",
       " 'Nike',\n",
       " 'Nike',\n",
       " 'Nike',\n",
       " 'Nike',\n",
       " 'Nike',\n",
       " 'Nike',\n",
       " 'Puma',\n",
       " 'Puma',\n",
       " 'Heel & Buckle London',\n",
       " 'Geox',\n",
       " 'Nike',\n",
       " 'ADIDAS',\n",
       " 'ALDO',\n",
       " 'Cole Haan',\n",
       " 'ADIDAS',\n",
       " 'ADIDAS',\n",
       " 'Saint G',\n",
       " 'ADIDAS',\n",
       " 'ALDO',\n",
       " 'KIPRUN By Decathlon',\n",
       " 'ADIDAS Originals',\n",
       " 'UNDER ARMOUR',\n",
       " 'UNDER ARMOUR',\n",
       " 'Hush Puppies',\n",
       " 'Hush Puppies',\n",
       " 'ALDO',\n",
       " 'UNDER ARMOUR',\n",
       " 'ALDO',\n",
       " 'ADIDAS',\n",
       " 'ALDO',\n",
       " 'J.FONTINI',\n",
       " 'Puma',\n",
       " 'Hush Puppies',\n",
       " 'ROSSO BRUNELLO']"
      ]
     },
     "execution_count": 69,
     "metadata": {},
     "output_type": "execute_result"
    }
   ],
   "source": [
    "print(len(Brand))\n",
    "Brand"
   ]
  },
  {
   "cell_type": "code",
   "execution_count": 70,
   "metadata": {},
   "outputs": [
    {
     "name": "stdout",
     "output_type": "stream",
     "text": [
      "150\n"
     ]
    },
    {
     "data": {
      "text/plain": [
       "['Men KD13 EP Basketball Shoes',\n",
       " 'Men React Infinity Running',\n",
       " 'Men Deviate Nitro Running Shoe',\n",
       " 'Unisex Mercedes Running Shoes',\n",
       " 'Men JORDAN DELTA Basketball',\n",
       " 'Men AIR ZOOM Running Shoes',\n",
       " 'Men JOYRIDE Running Shoes',\n",
       " 'Unisex RS-FAST TECH Sneakers',\n",
       " 'Women REACT Running Shoes',\n",
       " 'Unisex LEBRON XVIII Shoes',\n",
       " 'AIR ZOOM PEGASUS Running Shoes',\n",
       " 'Men Liquify Running Shoes',\n",
       " 'Men UltraRide Running Shoes',\n",
       " 'Men Leather Chelsea Boots',\n",
       " 'Men Velocity Nitro Running',\n",
       " 'HOVR Sonic 3 Running Shoes',\n",
       " 'Charged Rogue 2 Wide 2E Shoes',\n",
       " 'Charged Impulse Running Shoes',\n",
       " 'Women Eternity Nitro Running',\n",
       " 'Men Nite Jogger Fluid Sneakers',\n",
       " 'Men Solid Leather Formal Slip-Ons',\n",
       " 'HOVR Sonic 3 Running Shoes',\n",
       " 'Men Running Shoes',\n",
       " 'Women Liberate Nitro Running',\n",
       " 'Women Provoke XT Training',\n",
       " 'Women UNO Sneakers',\n",
       " 'Men Textured Leather Formal Loafers',\n",
       " 'Men Formal Derbys',\n",
       " 'Men Solid Leather Formal Derbys',\n",
       " 'Men Leather Formal Oxfords',\n",
       " 'Unisex RS-X Pop Sneakers',\n",
       " 'Women HOVR Rise 2 Training',\n",
       " 'Women TriBase Reign 2 Training',\n",
       " 'Men Leather Formal Oxfords',\n",
       " 'HOVR Infinite 2 Running Shoes',\n",
       " 'Forever Floatride Energy 2',\n",
       " 'Unisex SC 3ZER0 IV Basketball',\n",
       " 'Men Wingtip Oxford Sneakers',\n",
       " 'Men GENERATION ZEROGRAND STITCHLITE',\n",
       " 'Men Liberate Nitro Running',\n",
       " 'Men Traveller Leather Penny Loafers',\n",
       " 'Leather Sneakers',\n",
       " 'Men Fuse One8 Training Shoes',\n",
       " 'Men ZEROGRAND GLOBAL SLIP ON',\n",
       " 'Men JORDAN DELTA Sneakers',\n",
       " 'Men AIR ZOOM PEGASUS 38 Run',\n",
       " 'Men AIR ZOOM PEGASUS 38 Run',\n",
       " 'Men Leather Formal Monks',\n",
       " 'Men Charged Bandit 6 Running',\n",
       " 'Women Leather Solid Pumps',\n",
       " 'Men Leather Formal Monks',\n",
       " 'Men Charged Bandit 6 Running',\n",
       " 'Sizes: EURO35, EURO36, EURO37,',\n",
       " 'Unisex Zig Kinetica II Running',\n",
       " 'Women Open Toe Flats',\n",
       " 'Men Leather Pointed Toe Derby Formal Shoes',\n",
       " 'Men Supernova Running Shoes',\n",
       " 'Women Leather Heeled Boots',\n",
       " 'Women Solid Leather Ballerinas',\n",
       " 'Men Textured Derbys',\n",
       " 'Women AIR MAX VIVA Sneakers',\n",
       " 'Women Leather Boat Shoes',\n",
       " 'Men Adizero Ubersonic 4 Tennis',\n",
       " 'Charged RC Sportstyle Sneakers',\n",
       " 'Men REACT INFINITY RUN Shoes',\n",
       " 'Men Leather Formal Derbys',\n",
       " 'Men REACT MILER 2 Running',\n",
       " 'Men Football Shoes',\n",
       " 'Men Leather Formal Slip-Ons',\n",
       " 'Men Leather Formal Oxfords',\n",
       " 'Men REACT MILER 2 Running',\n",
       " 'Men Ultraboost DNA CC_1 Shoes',\n",
       " 'Women Woven Design Sneakers',\n",
       " 'Women Solid Flat Boots',\n",
       " 'Leather Heeled Boots',\n",
       " 'Men Charged Impulse Running',\n",
       " 'Women Black Sneakers',\n",
       " 'Men HOVR Rise 2 Training Shoes',\n",
       " 'Women Black Sneakers',\n",
       " 'Men Solid Leather Formal Penny Loafers',\n",
       " 'Women Leather Sneakers',\n",
       " 'Men REACT MILER PRM Running',\n",
       " 'Men PG 5 EP Basketball Shoes',\n",
       " 'Calibrate Restored Sneakers',\n",
       " 'Men Solid Loafers',\n",
       " 'Men Supernova Running Shoes',\n",
       " 'Men Sneakers',\n",
       " 'Men EvoRide TOKYO Shoes',\n",
       " 'Men Solid Leather Formal Slip-Ons',\n",
       " 'Men Ferrari Race Sneakers',\n",
       " 'Unisex RS-Fast Sneakers',\n",
       " 'Leather Solid Loafers',\n",
       " 'Charged Intake 4 Running Shoes',\n",
       " 'Men Solid Driving Shoes',\n",
       " 'Men X9000L3 Heat.RDY Running',\n",
       " 'Men Supernova Running Shoes',\n",
       " 'Unisex Solid Sneakers',\n",
       " 'Men Solid Leather Formal Loafers',\n",
       " 'Men Leather Driving Shoes',\n",
       " 'Men ONE 1 IL Football Shoes',\n",
       " 'Men Solid Loafers',\n",
       " 'Sizes: UK4, UK5, UK6, UK7, UK8,',\n",
       " 'Women Sneakers',\n",
       " 'Men Solid Leather Formal Loafers',\n",
       " 'Men Solid Leather Formal Oxfords',\n",
       " 'Future Rider Peanuts Sneakers',\n",
       " 'Women HOVR Infinite 2 Running',\n",
       " 'Women Sandals',\n",
       " 'Men Sneakers',\n",
       " 'Men Textured Formal Leather Loafers',\n",
       " 'Women Woven Design Pumps',\n",
       " 'Ferrari Race 2.0 Sneakers',\n",
       " 'Men Solid Leather Formal Loafers',\n",
       " 'Women Leather Heeled Boots',\n",
       " 'Women Textured Slip-On Sneakers',\n",
       " 'Men JORDAN WHY NOT Basketball',\n",
       " \"Men JORDAN ZOOM '92 Shoes\",\n",
       " 'Unisex LEBRON XVIII Basketball',\n",
       " 'Women ZOOM FLY 3 Running Shoes',\n",
       " 'KD TREY 5 Basketball Shoes',\n",
       " 'Men REACT MILER Running Shoes',\n",
       " 'Women AIR ZOOM Running Shoes',\n",
       " 'Women Velocity Nitro Running',\n",
       " 'Unisex Futurverse Sneakers',\n",
       " 'Men Textured Leather Penny Loafers',\n",
       " 'Men Leather Driving Shoes',\n",
       " 'Men AIR ZOOM Running Shoes',\n",
       " 'Men Ultraboost 4.0 DNA Running',\n",
       " 'Women Solid Sneakers',\n",
       " 'Men Textured Derbys',\n",
       " 'Unisex ClimaCool Vento Running',\n",
       " 'Men Edge XT Running Shoes',\n",
       " 'Women Leather Heeled Boots',\n",
       " 'Men X9000L2 Running Shoes',\n",
       " 'Women Sneakers Casual Shoes',\n",
       " 'Men Running Shoes',\n",
       " 'Leather Forum FSH Plus Sneaker',\n",
       " 'Men Charged Escape 3 Evo',\n",
       " 'Men Charged Escape 3 Evo',\n",
       " 'Men Leather Slip-On Sneakers',\n",
       " 'Men Solid Leather Formal Slip-Ons',\n",
       " 'Men Leather Round-Toe Derby Formal Shoes',\n",
       " 'Liquify Rebel Running Shoes',\n",
       " 'Women Sandals',\n",
       " 'Unisex Dame 7 Basketball Shoes',\n",
       " 'Men Solid Leather Loafers',\n",
       " 'Men Solid Loafers',\n",
       " 'casual shoes',\n",
       " 'Men Leather Loafers',\n",
       " 'Men Solid Leather Formal Monks']"
      ]
     },
     "execution_count": 70,
     "metadata": {},
     "output_type": "execute_result"
    }
   ],
   "source": [
    "print(len(Product_Description))\n",
    "Product_Description"
   ]
  },
  {
   "cell_type": "code",
   "execution_count": 71,
   "metadata": {},
   "outputs": [
    {
     "data": {
      "text/plain": [
       "['Rs. 12995',\n",
       " 'Rs. 11621Rs. 15495(25% OFF)',\n",
       " 'Rs. 14999',\n",
       " 'Rs. 7999',\n",
       " 'Rs. 12495',\n",
       " 'Rs. 7721Rs. 10295(25% OFF)',\n",
       " 'Rs. 11246Rs. 14995(25% OFF)',\n",
       " 'Rs. 9999',\n",
       " 'Rs. 8996Rs. 11995(25% OFF)',\n",
       " 'Rs. 14955Rs. 17595(15% OFF)',\n",
       " 'Rs. 11495',\n",
       " 'Rs. 8799Rs. 10999(20% OFF)',\n",
       " 'Rs. 7649Rs. 8999(15% OFF)',\n",
       " 'Rs. 11305Rs. 11900(5% OFF)',\n",
       " 'Rs. 10999',\n",
       " 'Rs. 10999',\n",
       " 'Rs. 7999',\n",
       " 'Rs. 7999',\n",
       " 'Rs. 12999',\n",
       " 'Rs. 8449Rs. 12999(35% OFF)',\n",
       " 'Rs. 8999',\n",
       " 'Rs. 8799Rs. 10999(20% OFF)',\n",
       " 'Rs. 8499',\n",
       " 'Rs. 7999Rs. 9999(20% OFF)',\n",
       " 'Rs. 7999',\n",
       " 'Rs. 7999',\n",
       " 'Rs. 9975Rs. 10500(5% OFF)',\n",
       " 'Rs. 9999',\n",
       " 'Rs. 8990',\n",
       " 'Rs. 7693Rs. 10990(30% OFF)',\n",
       " 'Rs. 8499Rs. 9999(15% OFF)',\n",
       " 'Rs. 7999Rs. 9999(20% OFF)',\n",
       " 'Rs. 9599Rs. 11999(20% OFF)',\n",
       " 'Rs. 9367Rs. 12490(25% OFF)',\n",
       " 'Rs. 11999',\n",
       " 'Rs. 9999',\n",
       " 'Rs. 8999',\n",
       " 'Rs. 12999',\n",
       " 'Rs. 11999',\n",
       " 'Rs. 9999',\n",
       " 'Rs. 9999Rs. 19999(50% OFF)',\n",
       " 'Rs. 10999',\n",
       " 'Rs. 7999',\n",
       " 'Rs. 14999Rs. 19999(25% OFF)',\n",
       " 'Rs. 10995',\n",
       " 'Rs. 8995Rs. 9995(10% OFF)',\n",
       " 'Rs. 8995Rs. 9995(10% OFF)',\n",
       " 'Rs. 11999Rs. 15999(25% OFF)',\n",
       " 'Rs. 7649Rs. 8999(15% OFF)',\n",
       " 'Rs. 8992Rs. 11990(25% OFF)',\n",
       " 'Rs. 11999Rs. 15999(25% OFF)',\n",
       " 'Rs. 7649Rs. 8999(15% OFF)',\n",
       " 'Rs. 8992Rs. 11990(25% OFF)',\n",
       " 'Rs. 9999',\n",
       " 'Rs. 8999Rs. 11999(25% OFF)',\n",
       " 'Rs. 7799Rs. 12999(40% OFF)',\n",
       " 'Rs. 7999Rs. 9999(20% OFF)',\n",
       " 'Rs. 9900',\n",
       " 'Rs. 10499Rs. 13999(25% OFF)',\n",
       " 'Rs. 8990',\n",
       " 'Rs. 12495',\n",
       " 'Rs. 8990',\n",
       " 'Rs. 11199Rs. 13999(20% OFF)',\n",
       " 'Rs. 8999',\n",
       " 'Rs. 12320Rs. 14495(15% OFF)',\n",
       " 'Rs. 11490',\n",
       " 'Rs. 9770Rs. 11495(15% OFF)',\n",
       " 'Rs. 13599Rs. 16999(20% OFF)',\n",
       " 'Rs. 11242Rs. 14990(25% OFF)',\n",
       " 'Rs. 7867Rs. 10490(25% OFF)',\n",
       " 'Rs. 9770Rs. 11495(15% OFF)',\n",
       " 'Rs. 13599Rs. 16999(20% OFF)',\n",
       " 'Rs. 14999',\n",
       " 'Rs. 9513Rs. 13590(30% OFF)',\n",
       " 'Rs. 11800',\n",
       " 'Rs. 7999',\n",
       " 'Rs. 8999',\n",
       " 'Rs. 9999',\n",
       " 'Rs. 7999',\n",
       " 'Rs. 8792Rs. 10990(20% OFF)',\n",
       " 'Rs. 10999',\n",
       " 'Rs. 9996Rs. 12495(20% OFF)',\n",
       " 'Rs. 7900Rs. 9295(15% OFF)',\n",
       " 'Rs. 11999',\n",
       " 'Rs. 11199Rs. 15999(30% OFF)',\n",
       " 'Rs. 7999Rs. 9999(20% OFF)',\n",
       " 'Rs. 9999',\n",
       " 'Rs. 7999Rs. 9999(20% OFF)',\n",
       " 'Rs. 10799Rs. 11999(10% OFF)',\n",
       " 'Rs. 7999',\n",
       " 'Rs. 9999',\n",
       " 'Rs. 14999',\n",
       " 'Rs. 9999',\n",
       " 'Rs. 14999',\n",
       " 'Rs. 9599Rs. 11999(20% OFF)',\n",
       " 'Rs. 7999Rs. 9999(20% OFF)',\n",
       " 'Rs. 10999',\n",
       " 'Rs. 10799Rs. 11999(10% OFF)',\n",
       " 'Rs. 11999',\n",
       " 'Rs. 14999',\n",
       " 'Rs. 10999',\n",
       " 'Rs. 10349Rs. 11499(10% OFF)',\n",
       " 'Rs. 11999',\n",
       " 'Rs. 10799Rs. 11999(10% OFF)',\n",
       " 'Rs. 10799Rs. 11999(10% OFF)',\n",
       " 'Rs. 8999',\n",
       " 'Rs. 11999',\n",
       " 'Rs. 7999',\n",
       " 'Rs. 9999',\n",
       " 'Rs. 8091Rs. 8990(10% OFF)',\n",
       " 'Rs. 7799Rs. 12999(40% OFF)',\n",
       " 'Rs. 9999',\n",
       " 'Rs. 8999Rs. 9999(10% OFF)',\n",
       " 'Rs. 8500',\n",
       " 'Rs. 9099Rs. 12999(30% OFF)',\n",
       " 'Rs. 11495',\n",
       " 'Rs. 13495',\n",
       " 'Rs. 14076Rs. 17595(20% OFF)',\n",
       " 'Rs. 10496Rs. 13995(25% OFF)',\n",
       " 'Rs. 7995',\n",
       " 'Rs. 8796Rs. 10995(20% OFF)',\n",
       " 'Rs. 8236Rs. 10295(20% OFF)',\n",
       " 'Rs. 10999',\n",
       " 'Rs. 9999',\n",
       " 'Rs. 8792Rs. 10990(20% OFF)',\n",
       " 'Rs. 9499',\n",
       " 'Rs. 10796Rs. 13495(20% OFF)',\n",
       " 'Rs. 12749Rs. 16999(25% OFF)',\n",
       " 'Rs. 7999',\n",
       " 'Rs. 14999',\n",
       " 'Rs. 11199Rs. 13999(20% OFF)',\n",
       " 'Rs. 9599Rs. 11999(20% OFF)',\n",
       " 'Rs. 12500',\n",
       " 'Rs. 7999Rs. 9999(20% OFF)',\n",
       " 'Rs. 8399Rs. 11999(30% OFF)',\n",
       " 'Rs. 7857Rs. 8449(7% OFF)',\n",
       " 'Rs. 8799Rs. 10999(20% OFF)',\n",
       " 'Rs. 8999',\n",
       " 'Rs. 8999',\n",
       " 'Rs. 9999',\n",
       " 'Rs. 9999',\n",
       " 'Rs. 7799Rs. 12999(40% OFF)',\n",
       " 'Rs. 8999',\n",
       " 'Rs. 9999',\n",
       " 'Rs. 8799Rs. 10999(20% OFF)',\n",
       " 'Rs. 13999',\n",
       " 'Rs. 7990',\n",
       " 'Rs. 8999',\n",
       " 'Rs. 9999',\n",
       " 'Rs. 12149Rs. 13499(10% OFF)']"
      ]
     },
     "execution_count": 71,
     "metadata": {},
     "output_type": "execute_result"
    }
   ],
   "source": [
    "price  \n",
    "# in price column the original price , the discounted price and the price offered all are included so we will use split\n",
    "#function to split the information we want"
   ]
  },
  {
   "cell_type": "code",
   "execution_count": 72,
   "metadata": {},
   "outputs": [],
   "source": [
    "# separating the price and discount% from the price list\n",
    " \n",
    "Price=[]                             # empty list for  appending the price\n",
    "for i in price:\n",
    "    pr=i.split('Rs. ')                # temporary string to save the prices\n",
    "   # prr=pr.strip()\n",
    "    Price.append(pr[1])              # appending the pr in list\n",
    "    "
   ]
  },
  {
   "cell_type": "code",
   "execution_count": 73,
   "metadata": {},
   "outputs": [
    {
     "data": {
      "text/plain": [
       "['12995',\n",
       " '11621',\n",
       " '14999',\n",
       " '7999',\n",
       " '12495',\n",
       " '7721',\n",
       " '11246',\n",
       " '9999',\n",
       " '8996',\n",
       " '14955',\n",
       " '11495',\n",
       " '8799',\n",
       " '7649',\n",
       " '11305',\n",
       " '10999',\n",
       " '10999',\n",
       " '7999',\n",
       " '7999',\n",
       " '12999',\n",
       " '8449',\n",
       " '8999',\n",
       " '8799',\n",
       " '8499',\n",
       " '7999',\n",
       " '7999',\n",
       " '7999',\n",
       " '9975',\n",
       " '9999',\n",
       " '8990',\n",
       " '7693',\n",
       " '8499',\n",
       " '7999',\n",
       " '9599',\n",
       " '9367',\n",
       " '11999',\n",
       " '9999',\n",
       " '8999',\n",
       " '12999',\n",
       " '11999',\n",
       " '9999',\n",
       " '9999',\n",
       " '10999',\n",
       " '7999',\n",
       " '14999',\n",
       " '10995',\n",
       " '8995',\n",
       " '8995',\n",
       " '11999',\n",
       " '7649',\n",
       " '8992',\n",
       " '11999',\n",
       " '7649',\n",
       " '8992',\n",
       " '9999',\n",
       " '8999',\n",
       " '7799',\n",
       " '7999',\n",
       " '9900',\n",
       " '10499',\n",
       " '8990',\n",
       " '12495',\n",
       " '8990',\n",
       " '11199',\n",
       " '8999',\n",
       " '12320',\n",
       " '11490',\n",
       " '9770',\n",
       " '13599',\n",
       " '11242',\n",
       " '7867',\n",
       " '9770',\n",
       " '13599',\n",
       " '14999',\n",
       " '9513',\n",
       " '11800',\n",
       " '7999',\n",
       " '8999',\n",
       " '9999',\n",
       " '7999',\n",
       " '8792',\n",
       " '10999',\n",
       " '9996',\n",
       " '7900',\n",
       " '11999',\n",
       " '11199',\n",
       " '7999',\n",
       " '9999',\n",
       " '7999',\n",
       " '10799',\n",
       " '7999',\n",
       " '9999',\n",
       " '14999',\n",
       " '9999',\n",
       " '14999',\n",
       " '9599',\n",
       " '7999',\n",
       " '10999',\n",
       " '10799',\n",
       " '11999',\n",
       " '14999',\n",
       " '10999',\n",
       " '10349',\n",
       " '11999',\n",
       " '10799',\n",
       " '10799',\n",
       " '8999',\n",
       " '11999',\n",
       " '7999',\n",
       " '9999',\n",
       " '8091',\n",
       " '7799',\n",
       " '9999',\n",
       " '8999',\n",
       " '8500',\n",
       " '9099',\n",
       " '11495',\n",
       " '13495',\n",
       " '14076',\n",
       " '10496',\n",
       " '7995',\n",
       " '8796',\n",
       " '8236',\n",
       " '10999',\n",
       " '9999',\n",
       " '8792',\n",
       " '9499',\n",
       " '10796',\n",
       " '12749',\n",
       " '7999',\n",
       " '14999',\n",
       " '11199',\n",
       " '9599',\n",
       " '12500',\n",
       " '7999',\n",
       " '8399',\n",
       " '7857',\n",
       " '8799',\n",
       " '8999',\n",
       " '8999',\n",
       " '9999',\n",
       " '9999',\n",
       " '7799',\n",
       " '8999',\n",
       " '9999',\n",
       " '8799',\n",
       " '13999',\n",
       " '7990',\n",
       " '8999',\n",
       " '9999',\n",
       " '12149']"
      ]
     },
     "execution_count": 73,
     "metadata": {},
     "output_type": "execute_result"
    }
   ],
   "source": [
    "Price"
   ]
  },
  {
   "cell_type": "code",
   "execution_count": 74,
   "metadata": {},
   "outputs": [],
   "source": [
    "import pandas as pd\n",
    "Black_Sneakers=pd.DataFrame({})\n",
    "Black_Sneakers['Brand_Name']=Brand[0:100]\n",
    "Black_Sneakers['Product_Description']=Product_Description[0:100]\n",
    "Black_Sneakers['Price']=Price[0:100]\n"
   ]
  },
  {
   "cell_type": "code",
   "execution_count": 75,
   "metadata": {},
   "outputs": [
    {
     "data": {
      "text/html": [
       "<div>\n",
       "<style scoped>\n",
       "    .dataframe tbody tr th:only-of-type {\n",
       "        vertical-align: middle;\n",
       "    }\n",
       "\n",
       "    .dataframe tbody tr th {\n",
       "        vertical-align: top;\n",
       "    }\n",
       "\n",
       "    .dataframe thead th {\n",
       "        text-align: right;\n",
       "    }\n",
       "</style>\n",
       "<table border=\"1\" class=\"dataframe\">\n",
       "  <thead>\n",
       "    <tr style=\"text-align: right;\">\n",
       "      <th></th>\n",
       "      <th>Brand_Name</th>\n",
       "      <th>Product_Description</th>\n",
       "      <th>Price</th>\n",
       "    </tr>\n",
       "  </thead>\n",
       "  <tbody>\n",
       "    <tr>\n",
       "      <th>0</th>\n",
       "      <td>Nike</td>\n",
       "      <td>Men KD13 EP Basketball Shoes</td>\n",
       "      <td>12995</td>\n",
       "    </tr>\n",
       "    <tr>\n",
       "      <th>1</th>\n",
       "      <td>Nike</td>\n",
       "      <td>Men React Infinity Running</td>\n",
       "      <td>11621</td>\n",
       "    </tr>\n",
       "    <tr>\n",
       "      <th>2</th>\n",
       "      <td>Puma</td>\n",
       "      <td>Men Deviate Nitro Running Shoe</td>\n",
       "      <td>14999</td>\n",
       "    </tr>\n",
       "    <tr>\n",
       "      <th>3</th>\n",
       "      <td>PUMA Motorsport</td>\n",
       "      <td>Unisex Mercedes Running Shoes</td>\n",
       "      <td>7999</td>\n",
       "    </tr>\n",
       "    <tr>\n",
       "      <th>4</th>\n",
       "      <td>Nike</td>\n",
       "      <td>Men JORDAN DELTA Basketball</td>\n",
       "      <td>12495</td>\n",
       "    </tr>\n",
       "    <tr>\n",
       "      <th>...</th>\n",
       "      <td>...</td>\n",
       "      <td>...</td>\n",
       "      <td>...</td>\n",
       "    </tr>\n",
       "    <tr>\n",
       "      <th>95</th>\n",
       "      <td>ADIDAS</td>\n",
       "      <td>Men Supernova Running Shoes</td>\n",
       "      <td>7999</td>\n",
       "    </tr>\n",
       "    <tr>\n",
       "      <th>96</th>\n",
       "      <td>Onitsuka Tiger</td>\n",
       "      <td>Unisex Solid Sneakers</td>\n",
       "      <td>10999</td>\n",
       "    </tr>\n",
       "    <tr>\n",
       "      <th>97</th>\n",
       "      <td>ROSSO BRUNELLO</td>\n",
       "      <td>Men Solid Leather Formal Loafers</td>\n",
       "      <td>10799</td>\n",
       "    </tr>\n",
       "    <tr>\n",
       "      <th>98</th>\n",
       "      <td>ALDO</td>\n",
       "      <td>Men Leather Driving Shoes</td>\n",
       "      <td>11999</td>\n",
       "    </tr>\n",
       "    <tr>\n",
       "      <th>99</th>\n",
       "      <td>Puma</td>\n",
       "      <td>Men ONE 1 IL Football Shoes</td>\n",
       "      <td>14999</td>\n",
       "    </tr>\n",
       "  </tbody>\n",
       "</table>\n",
       "<p>100 rows × 3 columns</p>\n",
       "</div>"
      ],
      "text/plain": [
       "         Brand_Name               Product_Description  Price\n",
       "0              Nike      Men KD13 EP Basketball Shoes  12995\n",
       "1              Nike        Men React Infinity Running  11621\n",
       "2              Puma    Men Deviate Nitro Running Shoe  14999\n",
       "3   PUMA Motorsport     Unisex Mercedes Running Shoes   7999\n",
       "4              Nike       Men JORDAN DELTA Basketball  12495\n",
       "..              ...                               ...    ...\n",
       "95           ADIDAS       Men Supernova Running Shoes   7999\n",
       "96   Onitsuka Tiger             Unisex Solid Sneakers  10999\n",
       "97   ROSSO BRUNELLO  Men Solid Leather Formal Loafers  10799\n",
       "98             ALDO         Men Leather Driving Shoes  11999\n",
       "99             Puma       Men ONE 1 IL Football Shoes  14999\n",
       "\n",
       "[100 rows x 3 columns]"
      ]
     },
     "execution_count": 75,
     "metadata": {},
     "output_type": "execute_result"
    }
   ],
   "source": [
    "Black_Sneakers"
   ]
  },
  {
   "cell_type": "code",
   "execution_count": 76,
   "metadata": {},
   "outputs": [],
   "source": [
    "driver.close()"
   ]
  },
  {
   "cell_type": "markdown",
   "metadata": {},
   "source": [
    "# Assignment Question No 10"
   ]
  },
  {
   "cell_type": "code",
   "execution_count": 77,
   "metadata": {},
   "outputs": [],
   "source": [
    "# importing libraries\n",
    "import selenium\n",
    "import pandas as pd\n",
    "import time\n",
    "\n",
    "#importing selenium webdriver\n",
    "from selenium import webdriver"
   ]
  },
  {
   "cell_type": "code",
   "execution_count": 78,
   "metadata": {},
   "outputs": [],
   "source": [
    "# activating the chrome driver\n",
    "driver=webdriver.Chrome(r'Chromedriver.exe')"
   ]
  },
  {
   "cell_type": "code",
   "execution_count": 81,
   "metadata": {},
   "outputs": [],
   "source": [
    "# loading the website\n",
    "driver.get(' https://www.amazon.in/')"
   ]
  },
  {
   "cell_type": "code",
   "execution_count": 82,
   "metadata": {},
   "outputs": [],
   "source": [
    "# asking the user for the input\n",
    "input1=\"laptops\""
   ]
  },
  {
   "cell_type": "code",
   "execution_count": 83,
   "metadata": {},
   "outputs": [],
   "source": [
    "search_box=driver.find_element_by_id('twotabsearchtextbox')\n",
    "\n",
    "search_box.send_keys(input1)\n"
   ]
  },
  {
   "cell_type": "code",
   "execution_count": 87,
   "metadata": {},
   "outputs": [],
   "source": [
    "# inserting the text in the search box and clicking on the search button\n",
    "search_button=driver.find_element_by_id('nav-search-submit-button')\n",
    "search_button.click()"
   ]
  },
  {
   "cell_type": "code",
   "execution_count": 88,
   "metadata": {},
   "outputs": [],
   "source": [
    "#locating the core i7 filter\n",
    "filter_button=driver.find_elements_by_xpath(\"//a[@class='a-link-normal s-navigation-item']/span\")\n",
    "for i in filter_button:\n",
    "    if i.text=='Intel Core i7':\n",
    "        i.click()\n",
    "        break"
   ]
  },
  {
   "cell_type": "code",
   "execution_count": 89,
   "metadata": {},
   "outputs": [],
   "source": [
    "# now we will extract all the laptop names\n",
    "laptops=[]\n",
    "\n",
    "for i in driver.find_elements_by_xpath('//h2[@class=\"a-size-mini a-spacing-none a-color-base s-line-clamp-2\"]'):\n",
    "    laptops.append(i.text)\n",
    "    "
   ]
  },
  {
   "cell_type": "code",
   "execution_count": 90,
   "metadata": {},
   "outputs": [
    {
     "data": {
      "text/plain": [
       "['Dell G3 3500 Gaming 15.6inch ( 39.62 cms) 120hz FHD Display Laptop (10th Gen i7-10750H / 8 GB / 512 SSD / GTX 1650 4GB / 1Yr Premium Warranty/ Win 10 + MS Office H&S 2019) D560250WIN9BE',\n",
       " 'Lenovo IdeaPad Flex 5 11th Gen Intel Core i7 14-inch FHD IPS 2-in-1 Touchscreen Laptop (16GB/512GB SSD/Win 10/Office 2019/Lenovo Digital Pen Stylus/Fingerprint Reader/Graphite Grey/1.5Kg), 82HS0092IN',\n",
       " 'ASUS VivoBook S S14 Intel Core i7-1165G7 11th Gen, 14-inch FHD Thin and Light Laptop (8GB RAM/512GB SSD + 32GB Optane Memory/Windows 10/Office 2019/Iris X Graphics- Indie Black/1.4 Kg), S433EA-AM701TS',\n",
       " 'HP Pavilion x360 (2021) 14\" (35.56cms) FHD Touchscreen Laptop, 11th Gen Core i7, 8 GB RAM, 512GB SSD, 2-in-1 Convertible, Windows 10, MS Office, Finger Print Reader (14-dw1040TU)',\n",
       " 'Acer Swift 5 14\" (35.56cms) Full HD IPS Display with Touchscreen Ultra Thin and Light Notebook (Intel i7 - 11th Gen/16GB RAM/1TB SSD/Win10/Intel Iris Xe Graphics/1.05 Kg/Mist Green), SF514-55TA',\n",
       " 'Dell Inspiron 5406 14\" FHD Touch Display 2in1 Laptop (11th Gen i7-1165G7 / 8Gb / 512Gb SSD / Integrated Graphics / Win 10 + MSO / Titan Grey Color / FPR/ Active Pen) D560414WIN9S',\n",
       " 'CUK VivoBook K571 by ASUS 15 Inch Gaming Laptop (Intel Core i7, 16GB RAM, 256GB NVMe SSD + 1TB HDD, NVIDIA GeForce GTX 1650 Ti 4GB, 15.6\" FHD, Windows 10 Home) Thin Notebook Computer',\n",
       " 'Lenovo Yoga Slim 7i 11th Gen Intel Core i7 14\" FHD IPS Thin and Light Laptop (16GB/1TB SSD/Win 10/Office/Intel Iris Xe Graphics/Fingerprint/HD IR Camera/Aluminium Surface/Slate Grey/1.36Kg) 82A3009QIN',\n",
       " 'Acer Nitro 5 Intel Core i7-9th Gen 17.3-inch Display 1920 x 1080 Gaming Laptop (8GB Ram/1 TB HDD/256 GB SSD/Window 10 Home/4GB NVIDIA GeForce GTX 1650 Graphics/Black), AN517-51',\n",
       " 'Lenovo IdeaPad Flex 5 11th Gen Intel Core i7 14-inch FHD IPS 2-in-1 Touchscreen Laptop (16GB/512GB SSD/Win 10/Office 2019/Lenovo Digital Pen Stylus/Fingerprint Reader/Graphite Grey/1.5Kg), 82HS0092IN',\n",
       " 'Life Digital Laptop 15.6-inch (39.62 cms) (Intel Core i7, 8GB RAM, 512GB SSD, Windows 10), ZED AIR CX7',\n",
       " 'Mi Notebook Horizon Edition 14 Intel Core i5-10210U 10th Gen 14-inch (35.56 cms) Thin and Light Laptop(8GB/512GB SSD/Windows 10/Nvidia MX350 2GB Graphics/Grey/1.35Kg), XMA1904-AR+Webcam',\n",
       " 'Dell XPS 7390 13.3-inch (33.78 cms) UHD Display Thin & Light Laptop (10th Gen Core i7-10510U/16GB/512GB SSD/Win 10 + MS Office/Integrated Graphics), Silver',\n",
       " 'HP Pavilion Gaming 10th Gen Intel Core i7 Processor 15.6-inch FHD Gaming Laptop (16GB/512GB SSD + 32GB Intel Optane/Windows 10/NVIDIA 1650 4GB/Shadow Black), 15-dk1151TX',\n",
       " 'Lenovo Yoga Slim 7 10th Gen Intel Core i7 14 inch Full HD IPS Thin and Light Laptop (8GB/512GB SSD/Windows 10/MS Office 2019/NVIDIA MX350 2GB GDDR5 Graphics/Slate Grey/1.55Kg), 82A1009KIN',\n",
       " 'Acer Swift 5 14\" (35.56cms) Full HD IPS Display with Touchscreen Ultra Thin and Light Notebook (Intel i7 - 11th Gen/16GB RAM/1TB SSD/Win10/Intel Iris Xe Graphics/1.05 Kg/Mist Green), SF514-55TA',\n",
       " '(Renewed) Dell E7250 Latitude 12.5 Inches Laptop (5th Gen Intel Core i7 - 5600U /8 GB/512 GB SSD/Windows 10 Pro), Black',\n",
       " '(Renewed) Lenovo T430 14-inch Laptop (Core i7/ 16GB RAM /1TB HDD/Windows 10 Pro/MS Office 2019, Intel Integrated Graphics, PAN INDIA WARRANTY) Black',\n",
       " '(Renewed) Dell Latitude E6420 14 Inch Laptop (Core I7 2460M/4GB/320GB/Nvidia Dedicated Graphics/Windows Professional/MS Office), Dark Grey',\n",
       " 'Razer Blade Pro 17 Gaming Laptop 2019',\n",
       " 'Lenovo Legion Y540 Intel Core i7 9th Gen 15.6” FHD Gaming (8GB/256SSD + 1TBHDD/Win10/NVIDIA GeForce GTX 1650 4GB/Raven Black/2.3kg), 81SY00U7IN',\n",
       " '(Renewed) Dell Latitude E6420 14 Inch Laptop (Core I7 2460M/8GB/256GB SSD/Nvidia Dedicated Graphics/Windows Professional/MS Office), Dark Grey',\n",
       " 'HP OMEN X-ap046TX 17\" (43.18 cms) FHD Gaming Laptop (Intel Core i7-7820HK/32GB/1TB HDD + 1TB SSD/GTX 1080 8 GB GDDR5X Graphics/G-SYNC/VR Ready/Windows 10), Shadow Black',\n",
       " 'HP Pavilion Gaming 10th Gen Intel Core i7 Processor 15.6-inch FHD Gaming Laptop (16GB/512GB SSD + 32GB Intel Optane/Windows 10/NVIDIA 1650Ti 4GB/Shadow Black), 15-dk1509TX',\n",
       " 'Dell G3 3500 Gaming 15.6inch ( 39.62 cms) 120hz FHD Display Laptop (10th Gen i7-10750H / 8 GB / 512 SSD / GTX 1650 4GB / 1Yr Premium Warranty/ Win 10 + MS Office H&S 2019) D560250WIN9BE',\n",
       " \"(Renewed) HP EliteBook 840 G3 Laptop (Core i7 6th Gen/8GB/500GB/WEBCAM/14'' Touch/DOS)\",\n",
       " '(Renewed) Dell Intel 4th Gen Core i7 4600U 14-Inch (35.56 cms) 1366x768 Laptop (4 GB/256 GB SSD/Windows 10/MS Office Pro 2019 /Intel HD Graphics 4600/Silver/1.80 kg), Dell Lattitude E7440',\n",
       " 'HP Envy x360 Convertible Touchscreen 13.3-inch FHD Laptop (11th Gen Intel Core i7-1165G7/16GB/512GB SSD/Win 10 Home/Alexa Built-in/Pale Gold/1.32kg), 13-bd0063TU',\n",
       " 'Mi Notebook Horizon Edition 14 Intel Core i5-10210U 10th Gen 14-inch (35.56 cms) Thin and Light Laptop(8GB/512GB SSD/Windows 10/Nvidia MX350 2GB Graphics/Grey/1.35Kg), XMA1904-AR+Webcam',\n",
       " 'Dell Inspiron 7490 i7-10510U, 8GB RAM, 512GB NVMe SSD, 14\" Full HD 1920x1080 Non Touchscreen, Fingerprint Reader, Windows 10 Home, USB C, HDMI, USB 3.1, Silver']"
      ]
     },
     "execution_count": 90,
     "metadata": {},
     "output_type": "execute_result"
    }
   ],
   "source": [
    "laptops"
   ]
  },
  {
   "cell_type": "code",
   "execution_count": 91,
   "metadata": {},
   "outputs": [],
   "source": [
    "# for getting the accurate information we will get the urls of laptop\n",
    "laptops_url=[]\n",
    "for i in driver.find_elements_by_xpath('//h2[@class=\"a-size-mini a-spacing-none a-color-base s-line-clamp-2\"]/a'):\n",
    "    laptops_url.append(i.get_attribute('href'))"
   ]
  },
  {
   "cell_type": "code",
   "execution_count": 92,
   "metadata": {},
   "outputs": [
    {
     "data": {
      "text/plain": [
       "['https://www.amazon.in/gp/slredirect/picassoRedirect.html/ref=pa_sp_atf_computers_sr_pg1_1?ie=UTF8&adId=A022103072HA7E9RR0G0&url=%2FDell-15-6inch-i7-10750H-Warranty-D560250WIN9BE%2Fdp%2FB08HYPRST4%2Fref%3Dsr_1_1_sspa%3Fdchild%3D1%26keywords%3Dlaptops%26qid%3D1621629574%26refinements%3Dp_n_feature_thirteen_browse-bin%253A12598163031%26rnid%3D12598141031%26s%3Dcomputers%26sr%3D1-1-spons%26psc%3D1&qualifier=1621629574&id=3038107126083884&widgetName=sp_atf',\n",
       " 'https://www.amazon.in/gp/slredirect/picassoRedirect.html/ref=pa_sp_atf_computers_sr_pg1_1?ie=UTF8&adId=A04686372EO1LCBF9AV16&url=%2FLenovo-Touchscreen-Fingerprint-Graphite-82HS0092IN%2Fdp%2FB08WRZQBQ6%2Fref%3Dsr_1_2_sspa%3Fdchild%3D1%26keywords%3Dlaptops%26qid%3D1621629574%26refinements%3Dp_n_feature_thirteen_browse-bin%253A12598163031%26rnid%3D12598141031%26s%3Dcomputers%26sr%3D1-2-spons%26psc%3D1&qualifier=1621629574&id=3038107126083884&widgetName=sp_atf',\n",
       " 'https://www.amazon.in/ASUS-VivoBook-i7-1165G7-Graphics-S433EA-AM701TS/dp/B08PQTZB3Z/ref=sr_1_3?dchild=1&keywords=laptops&qid=1621629574&refinements=p_n_feature_thirteen_browse-bin%3A12598163031&rnid=12598141031&s=computers&sr=1-3',\n",
       " 'https://www.amazon.in/HP-Pavilion-Touchscreen-Convertible-14-dw1040TU/dp/B08R843NHL/ref=sr_1_4?dchild=1&keywords=laptops&qid=1621629574&refinements=p_n_feature_thirteen_browse-bin%3A12598163031&rnid=12598141031&s=computers&sr=1-4',\n",
       " 'https://www.amazon.in/Acer-Swift-Display-Touchscreen-Notebook/dp/B08M41DHTV/ref=sr_1_5?dchild=1&keywords=laptops&qid=1621629574&refinements=p_n_feature_thirteen_browse-bin%3A12598163031&rnid=12598141031&s=computers&sr=1-5',\n",
       " 'https://www.amazon.in/Dell-Inspiron-i7-1165G7-Integrated-D560414WIN9S/dp/B0919LL313/ref=sr_1_6?dchild=1&keywords=laptops&qid=1621629574&refinements=p_n_feature_thirteen_browse-bin%3A12598163031&rnid=12598141031&s=computers&sr=1-6',\n",
       " 'https://www.amazon.in/VivoBook-GeForce-Windows-Notebook-Computer/dp/B08CHP2TJC/ref=sr_1_7?dchild=1&keywords=laptops&qid=1621629574&refinements=p_n_feature_thirteen_browse-bin%3A12598163031&rnid=12598141031&s=computers&sr=1-7',\n",
       " 'https://www.amazon.in/Lenovo-Graphics-Fingerprint-Aluminium-82A3009QIN/dp/B08ZNLVSPG/ref=sr_1_8?dchild=1&keywords=laptops&qid=1621629574&refinements=p_n_feature_thirteen_browse-bin%3A12598163031&rnid=12598141031&s=computers&sr=1-8',\n",
       " 'https://www.amazon.in/Acer-17-3-inch-Display-Graphics-AN517-51/dp/B08D1D82YQ/ref=sr_1_9?dchild=1&keywords=laptops&qid=1621629574&refinements=p_n_feature_thirteen_browse-bin%3A12598163031&rnid=12598141031&s=computers&sr=1-9',\n",
       " 'https://www.amazon.in/Lenovo-Touchscreen-Fingerprint-Graphite-82HS0092IN/dp/B08WRZQBQ6/ref=sr_1_10?dchild=1&keywords=laptops&qid=1621629574&refinements=p_n_feature_thirteen_browse-bin%3A12598163031&rnid=12598141031&s=computers&sr=1-10',\n",
       " 'https://www.amazon.in/LifeDigital-Laptop-Intel%C2%AE-Storage-Windows/dp/B08HRHFV23/ref=sr_1_11?dchild=1&keywords=laptops&qid=1621629574&refinements=p_n_feature_thirteen_browse-bin%3A12598163031&rnid=12598141031&s=computers&sr=1-11',\n",
       " 'https://www.amazon.in/Notebook-Horizon-i5-10210U-Graphics-XMA1904-AR/dp/B089F5JGM1/ref=sr_1_12?dchild=1&keywords=laptops&qid=1621629574&refinements=p_n_feature_thirteen_browse-bin%3A12598163031&rnid=12598141031&s=computers&sr=1-12',\n",
       " 'https://www.amazon.in/7390-13-3-inch-i7-10510U-Microsoft-Integrated/dp/B0842ZFT58/ref=sr_1_13?dchild=1&keywords=laptops&qid=1621629574&refinements=p_n_feature_thirteen_browse-bin%3A12598163031&rnid=12598141031&s=computers&sr=1-13',\n",
       " 'https://www.amazon.in/HP-Pavilion-Processor-15-6-inch-15-dk1151TX/dp/B08ZN5S446/ref=sr_1_14?dchild=1&keywords=laptops&qid=1621629574&refinements=p_n_feature_thirteen_browse-bin%3A12598163031&rnid=12598141031&s=computers&sr=1-14',\n",
       " 'https://www.amazon.in/gp/slredirect/picassoRedirect.html/ref=pa_sp_mtf_computers_sr_pg1_1?ie=UTF8&adId=A0372319347VE4FKU20UM&url=%2FLenovo-Laptop-Windows-Graphics-82A1009KIN%2Fdp%2FB087D38ZP4%2Fref%3Dsr_1_15_sspa%3Fdchild%3D1%26keywords%3Dlaptops%26qid%3D1621629574%26refinements%3Dp_n_feature_thirteen_browse-bin%253A12598163031%26rnid%3D12598141031%26s%3Dcomputers%26sr%3D1-15-spons%26psc%3D1&qualifier=1621629574&id=3038107126083884&widgetName=sp_mtf',\n",
       " 'https://www.amazon.in/gp/slredirect/picassoRedirect.html/ref=pa_sp_mtf_computers_sr_pg1_1?ie=UTF8&adId=A0659051I7QS641DEDLG&url=%2FAcer-Swift-Display-Touchscreen-Notebook%2Fdp%2FB08M41DHTV%2Fref%3Dsr_1_16_sspa%3Fdchild%3D1%26keywords%3Dlaptops%26qid%3D1621629574%26refinements%3Dp_n_feature_thirteen_browse-bin%253A12598163031%26rnid%3D12598141031%26s%3Dcomputers%26sr%3D1-16-spons%26psc%3D1&qualifier=1621629574&id=3038107126083884&widgetName=sp_mtf',\n",
       " 'https://www.amazon.in/Renewed-Dell-E7250-Latitude-Inches/dp/B07V4SX92S/ref=sr_1_17?dchild=1&keywords=laptops&qid=1621629574&refinements=p_n_feature_thirteen_browse-bin%3A12598163031&rnid=12598141031&s=computers&sr=1-17',\n",
       " 'https://www.amazon.in/Renewed-Lenovo-Integrated-Graphics-WARRANTY/dp/B092ZBH1K9/ref=sr_1_18?dchild=1&keywords=laptops&qid=1621629574&refinements=p_n_feature_thirteen_browse-bin%3A12598163031&rnid=12598141031&s=computers&sr=1-18',\n",
       " 'https://www.amazon.in/Dell-Latitude-E6420-Dedicated-Professional/dp/B07WWGBK47/ref=sr_1_19?dchild=1&keywords=laptops&qid=1621629574&refinements=p_n_feature_thirteen_browse-bin%3A12598163031&rnid=12598141031&s=computers&sr=1-19',\n",
       " 'https://www.amazon.in/Razer-Blade-Gaming-Laptop-2019/dp/B07X379CZ9/ref=sr_1_20?dchild=1&keywords=laptops&qid=1621629574&refinements=p_n_feature_thirteen_browse-bin%3A12598163031&rnid=12598141031&s=computers&sr=1-20',\n",
       " 'https://www.amazon.in/Lenovo-Legion-Gaming-GeForce-81SY00U7IN/dp/B092MRQCJ6/ref=sr_1_21?dchild=1&keywords=laptops&qid=1621629574&refinements=p_n_feature_thirteen_browse-bin%3A12598163031&rnid=12598141031&s=computers&sr=1-21',\n",
       " 'https://www.amazon.in/Dell-Latitude-E6420-Dedicated-Professional/dp/B07WPDNLFR/ref=sr_1_22?dchild=1&keywords=laptops&qid=1621629574&refinements=p_n_feature_thirteen_browse-bin%3A12598163031&rnid=12598141031&s=computers&sr=1-22',\n",
       " 'https://www.amazon.in/HP-X-ap046TX-17-inch-i7-7820HK-Miracast/dp/B07BN27V7P/ref=sr_1_23?dchild=1&keywords=laptops&qid=1621629574&refinements=p_n_feature_thirteen_browse-bin%3A12598163031&rnid=12598141031&s=computers&sr=1-23',\n",
       " 'https://www.amazon.in/HP-Pavilion-Processor-15-6-inch-15-dk1509TX/dp/B08ZN7GBQ5/ref=sr_1_24?dchild=1&keywords=laptops&qid=1621629574&refinements=p_n_feature_thirteen_browse-bin%3A12598163031&rnid=12598141031&s=computers&sr=1-24',\n",
       " 'https://www.amazon.in/Dell-15-6inch-i7-10750H-Warranty-D560250WIN9BE/dp/B08HYPRST4/ref=sr_1_25?dchild=1&keywords=laptops&qid=1621629574&refinements=p_n_feature_thirteen_browse-bin%3A12598163031&rnid=12598141031&s=computers&sr=1-25',\n",
       " 'https://www.amazon.in/Renewed-HP-EliteBook-840-Laptop/dp/B089GNVMNM/ref=sr_1_26?dchild=1&keywords=laptops&qid=1621629574&refinements=p_n_feature_thirteen_browse-bin%3A12598163031&rnid=12598141031&s=computers&sr=1-26',\n",
       " 'https://www.amazon.in/Renewed-Dell-1366x768-Graphics-Lattitude/dp/B08RS41X61/ref=sr_1_27?dchild=1&keywords=laptops&qid=1621629574&refinements=p_n_feature_thirteen_browse-bin%3A12598163031&rnid=12598141031&s=computers&sr=1-27',\n",
       " 'https://www.amazon.in/HP-Convertible-Touchscreen-13-3-inch-13-bd0063TU/dp/B08NDMSMPS/ref=sr_1_28?dchild=1&keywords=laptops&qid=1621629574&refinements=p_n_feature_thirteen_browse-bin%3A12598163031&rnid=12598141031&s=computers&sr=1-28',\n",
       " 'https://www.amazon.in/gp/slredirect/picassoRedirect.html/ref=pa_sp_btf_computers_sr_pg1_1?ie=UTF8&adId=A086665935KXADPC1VKVC&url=%2FNotebook-Horizon-i5-10210U-Graphics-XMA1904-AR%2Fdp%2FB089F5JGM1%2Fref%3Dsr_1_29_sspa%3Fdchild%3D1%26keywords%3Dlaptops%26qid%3D1621629574%26refinements%3Dp_n_feature_thirteen_browse-bin%253A12598163031%26rnid%3D12598141031%26s%3Dcomputers%26sr%3D1-29-spons%26psc%3D1&qualifier=1621629574&id=3038107126083884&widgetName=sp_btf',\n",
       " 'https://www.amazon.in/gp/slredirect/picassoRedirect.html/ref=pa_sp_btf_computers_sr_pg1_1?ie=UTF8&adId=A10376183MDKE43UKKSIQ&url=%2FDell-7490-i7-10510U-Touchscreen-Fingerprint%2Fdp%2FB088JGMBG6%2Fref%3Dsr_1_30_sspa%3Fdchild%3D1%26keywords%3Dlaptops%26qid%3D1621629574%26refinements%3Dp_n_feature_thirteen_browse-bin%253A12598163031%26rnid%3D12598141031%26s%3Dcomputers%26sr%3D1-30-spons%26psc%3D1&qualifier=1621629574&id=3038107126083884&widgetName=sp_btf']"
      ]
     },
     "execution_count": 92,
     "metadata": {},
     "output_type": "execute_result"
    }
   ],
   "source": [
    "laptops_url"
   ]
  },
  {
   "cell_type": "code",
   "execution_count": 93,
   "metadata": {},
   "outputs": [],
   "source": [
    "from selenium.common.exceptions import NoSuchElementException"
   ]
  },
  {
   "cell_type": "code",
   "execution_count": 94,
   "metadata": {},
   "outputs": [],
   "source": [
    "# for getting the ratings we will iterate to each page\n",
    "\n",
    "Ratings=[]\n",
    "for i in laptops_url:    \n",
    "    driver.get(i)                   # getting on pages through urls\n",
    "    try:                 \n",
    "        rate=driver.find_element_by_xpath(\"//span[@id='acrCustomerReviewText']\")#locating the ratingd link\n",
    "        rate.click()                                                      #click the rating link found\n",
    "        rating=driver.find_element_by_xpath(\"//span[@class='a-size-medium a-color-base']\")#locating the rating\n",
    "        Ratings.append(rating.text)#appending the ratings in Ratings list\n",
    "    except NoSuchElementException   as e:\n",
    "        Ratings.append(\"-\")#appending the No rating if no rating is there\n",
    "\n"
   ]
  },
  {
   "cell_type": "code",
   "execution_count": 95,
   "metadata": {},
   "outputs": [
    {
     "data": {
      "text/plain": [
       "['3.9 out of 5',\n",
       " '4 out of 5',\n",
       " '4.4 out of 5',\n",
       " '3.7 out of 5',\n",
       " '4.1 out of 5',\n",
       " '3.5 out of 5',\n",
       " '4.7 out of 5',\n",
       " '-',\n",
       " '3 out of 5',\n",
       " '4 out of 5',\n",
       " '2.9 out of 5',\n",
       " '4.4 out of 5',\n",
       " '1.2 out of 5',\n",
       " '4.2 out of 5',\n",
       " '3.2 out of 5',\n",
       " '4.1 out of 5',\n",
       " '3.4 out of 5',\n",
       " '-',\n",
       " '-',\n",
       " '4.3 out of 5',\n",
       " '4 out of 5',\n",
       " '-',\n",
       " '3.2 out of 5',\n",
       " '3.3 out of 5',\n",
       " '3.9 out of 5',\n",
       " '-',\n",
       " '-',\n",
       " '4.6 out of 5',\n",
       " '4.4 out of 5',\n",
       " '-']"
      ]
     },
     "execution_count": 95,
     "metadata": {},
     "output_type": "execute_result"
    }
   ],
   "source": [
    "Ratings"
   ]
  },
  {
   "cell_type": "code",
   "execution_count": 97,
   "metadata": {},
   "outputs": [],
   "source": [
    "# for getting the prices we will iterate to each page\n",
    "prices=[]\n",
    "for i in laptops_url:        #loop for every laptop in the list\n",
    "\n",
    "    driver.get(i)\n",
    "\n",
    "    try:          \n",
    "        price=driver.find_element_by_xpath('//span[@class=\"a-size-medium a-color-price priceBlockBuyingPriceString\"]')\n",
    "        prices.append(price.text)\n",
    "    except NoSuchElementException   as e:\n",
    "        prices.append(\"-\")#appending no if no price is there\n",
    "\n"
   ]
  },
  {
   "cell_type": "code",
   "execution_count": 98,
   "metadata": {},
   "outputs": [
    {
     "data": {
      "text/plain": [
       "['-',\n",
       " '₹ 83,990.00',\n",
       " '₹ 81,990.00',\n",
       " '₹ 78,593.00',\n",
       " '₹ 91,999.00',\n",
       " '₹ 89,400.00',\n",
       " '-',\n",
       " '₹ 97,990.00',\n",
       " '₹ 69,990.00',\n",
       " '₹ 83,990.00',\n",
       " '₹ 47,050.00',\n",
       " '-',\n",
       " '₹ 1,64,990.00',\n",
       " '-',\n",
       " '₹ 83,990.00',\n",
       " '₹ 91,999.00',\n",
       " '₹ 54,499.00',\n",
       " '₹ 37,999.00',\n",
       " '₹ 34,000.00',\n",
       " '₹ 3,05,701.00',\n",
       " '-',\n",
       " '₹ 43,000.00',\n",
       " '₹ 2,55,000.00',\n",
       " '₹ 84,990.00',\n",
       " '-',\n",
       " '₹ 49,999.00',\n",
       " '₹ 39,999.00',\n",
       " '₹ 1,02,993.00',\n",
       " '-',\n",
       " '₹ 84,999.00']"
      ]
     },
     "execution_count": 98,
     "metadata": {},
     "output_type": "execute_result"
    }
   ],
   "source": [
    "prices"
   ]
  },
  {
   "cell_type": "code",
   "execution_count": 99,
   "metadata": {},
   "outputs": [
    {
     "name": "stdout",
     "output_type": "stream",
     "text": [
      "30 30 30\n"
     ]
    }
   ],
   "source": [
    "print(len(prices),len(laptops),len(prices))"
   ]
  },
  {
   "cell_type": "code",
   "execution_count": 100,
   "metadata": {},
   "outputs": [],
   "source": [
    "import pandas as pd\n",
    "core_i7_laptops=pd.DataFrame({})\n",
    "core_i7_laptops['Title']=laptops[0:10]\n",
    "core_i7_laptops['Ratings']=Ratings[0:10]\n",
    "core_i7_laptops['Price']=prices[0:10]"
   ]
  },
  {
   "cell_type": "code",
   "execution_count": 101,
   "metadata": {},
   "outputs": [
    {
     "data": {
      "text/html": [
       "<div>\n",
       "<style scoped>\n",
       "    .dataframe tbody tr th:only-of-type {\n",
       "        vertical-align: middle;\n",
       "    }\n",
       "\n",
       "    .dataframe tbody tr th {\n",
       "        vertical-align: top;\n",
       "    }\n",
       "\n",
       "    .dataframe thead th {\n",
       "        text-align: right;\n",
       "    }\n",
       "</style>\n",
       "<table border=\"1\" class=\"dataframe\">\n",
       "  <thead>\n",
       "    <tr style=\"text-align: right;\">\n",
       "      <th></th>\n",
       "      <th>Title</th>\n",
       "      <th>Ratings</th>\n",
       "      <th>Price</th>\n",
       "    </tr>\n",
       "  </thead>\n",
       "  <tbody>\n",
       "    <tr>\n",
       "      <th>0</th>\n",
       "      <td>Dell G3 3500 Gaming 15.6inch ( 39.62 cms) 120h...</td>\n",
       "      <td>3.9 out of 5</td>\n",
       "      <td>-</td>\n",
       "    </tr>\n",
       "    <tr>\n",
       "      <th>1</th>\n",
       "      <td>Lenovo IdeaPad Flex 5 11th Gen Intel Core i7 1...</td>\n",
       "      <td>4 out of 5</td>\n",
       "      <td>₹ 83,990.00</td>\n",
       "    </tr>\n",
       "    <tr>\n",
       "      <th>2</th>\n",
       "      <td>ASUS VivoBook S S14 Intel Core i7-1165G7 11th ...</td>\n",
       "      <td>4.4 out of 5</td>\n",
       "      <td>₹ 81,990.00</td>\n",
       "    </tr>\n",
       "    <tr>\n",
       "      <th>3</th>\n",
       "      <td>HP Pavilion x360 (2021) 14\" (35.56cms) FHD Tou...</td>\n",
       "      <td>3.7 out of 5</td>\n",
       "      <td>₹ 78,593.00</td>\n",
       "    </tr>\n",
       "    <tr>\n",
       "      <th>4</th>\n",
       "      <td>Acer Swift 5 14\" (35.56cms) Full HD IPS Displa...</td>\n",
       "      <td>4.1 out of 5</td>\n",
       "      <td>₹ 91,999.00</td>\n",
       "    </tr>\n",
       "    <tr>\n",
       "      <th>5</th>\n",
       "      <td>Dell Inspiron 5406 14\" FHD Touch Display 2in1 ...</td>\n",
       "      <td>3.5 out of 5</td>\n",
       "      <td>₹ 89,400.00</td>\n",
       "    </tr>\n",
       "    <tr>\n",
       "      <th>6</th>\n",
       "      <td>CUK VivoBook K571 by ASUS 15 Inch Gaming Lapto...</td>\n",
       "      <td>4.7 out of 5</td>\n",
       "      <td>-</td>\n",
       "    </tr>\n",
       "    <tr>\n",
       "      <th>7</th>\n",
       "      <td>Lenovo Yoga Slim 7i 11th Gen Intel Core i7 14\"...</td>\n",
       "      <td>-</td>\n",
       "      <td>₹ 97,990.00</td>\n",
       "    </tr>\n",
       "    <tr>\n",
       "      <th>8</th>\n",
       "      <td>Acer Nitro 5 Intel Core i7-9th Gen 17.3-inch D...</td>\n",
       "      <td>3 out of 5</td>\n",
       "      <td>₹ 69,990.00</td>\n",
       "    </tr>\n",
       "    <tr>\n",
       "      <th>9</th>\n",
       "      <td>Lenovo IdeaPad Flex 5 11th Gen Intel Core i7 1...</td>\n",
       "      <td>4 out of 5</td>\n",
       "      <td>₹ 83,990.00</td>\n",
       "    </tr>\n",
       "  </tbody>\n",
       "</table>\n",
       "</div>"
      ],
      "text/plain": [
       "                                               Title       Ratings  \\\n",
       "0  Dell G3 3500 Gaming 15.6inch ( 39.62 cms) 120h...  3.9 out of 5   \n",
       "1  Lenovo IdeaPad Flex 5 11th Gen Intel Core i7 1...    4 out of 5   \n",
       "2  ASUS VivoBook S S14 Intel Core i7-1165G7 11th ...  4.4 out of 5   \n",
       "3  HP Pavilion x360 (2021) 14\" (35.56cms) FHD Tou...  3.7 out of 5   \n",
       "4  Acer Swift 5 14\" (35.56cms) Full HD IPS Displa...  4.1 out of 5   \n",
       "5  Dell Inspiron 5406 14\" FHD Touch Display 2in1 ...  3.5 out of 5   \n",
       "6  CUK VivoBook K571 by ASUS 15 Inch Gaming Lapto...  4.7 out of 5   \n",
       "7  Lenovo Yoga Slim 7i 11th Gen Intel Core i7 14\"...             -   \n",
       "8  Acer Nitro 5 Intel Core i7-9th Gen 17.3-inch D...    3 out of 5   \n",
       "9  Lenovo IdeaPad Flex 5 11th Gen Intel Core i7 1...    4 out of 5   \n",
       "\n",
       "         Price  \n",
       "0            -  \n",
       "1  ₹ 83,990.00  \n",
       "2  ₹ 81,990.00  \n",
       "3  ₹ 78,593.00  \n",
       "4  ₹ 91,999.00  \n",
       "5  ₹ 89,400.00  \n",
       "6            -  \n",
       "7  ₹ 97,990.00  \n",
       "8  ₹ 69,990.00  \n",
       "9  ₹ 83,990.00  "
      ]
     },
     "execution_count": 101,
     "metadata": {},
     "output_type": "execute_result"
    }
   ],
   "source": [
    "core_i7_laptops"
   ]
  },
  {
   "cell_type": "markdown",
   "metadata": {},
   "source": [
    "### returning to home page for getting details of core_i9_laptops"
   ]
  },
  {
   "cell_type": "code",
   "execution_count": 118,
   "metadata": {},
   "outputs": [],
   "source": [
    "# activating the chrome driver\n",
    "driver=webdriver.Chrome(r'Chromedriver.exe')"
   ]
  },
  {
   "cell_type": "code",
   "execution_count": 119,
   "metadata": {},
   "outputs": [],
   "source": [
    "# loading the website\n",
    "driver.get(' https://www.amazon.in/')"
   ]
  },
  {
   "cell_type": "code",
   "execution_count": 120,
   "metadata": {},
   "outputs": [],
   "source": [
    "# asking the user for the input\n",
    "input1=\"laptops\""
   ]
  },
  {
   "cell_type": "code",
   "execution_count": 121,
   "metadata": {},
   "outputs": [],
   "source": [
    "search_box=driver.find_element_by_id('twotabsearchtextbox')\n",
    "\n",
    "search_box.send_keys(input1)\n"
   ]
  },
  {
   "cell_type": "code",
   "execution_count": 123,
   "metadata": {},
   "outputs": [],
   "source": [
    "search_box=driver.find_element_by_id('twotabsearchtextbox')\n",
    "search_box.clear()\n",
    "search_box.send_keys(input1)\n"
   ]
  },
  {
   "cell_type": "code",
   "execution_count": 124,
   "metadata": {},
   "outputs": [],
   "source": [
    "# inserting the text in the search box and clicking on the search button\n",
    "search_button=driver.find_element_by_id('nav-search-submit-button')\n",
    "search_button.click()"
   ]
  },
  {
   "cell_type": "code",
   "execution_count": 125,
   "metadata": {},
   "outputs": [],
   "source": [
    "#locating the core i9 filter\n",
    "filter_button=driver.find_elements_by_xpath(\"//a[@class='a-link-normal s-navigation-item']/span\")\n",
    "for i in filter_button:\n",
    "    if i.text=='Intel Core i9':\n",
    "        i.click()\n",
    "        break"
   ]
  },
  {
   "cell_type": "code",
   "execution_count": 126,
   "metadata": {},
   "outputs": [],
   "source": [
    "# now we will extract all the laptop names\n",
    "laptops=[]\n",
    "\n",
    "for i in driver.find_elements_by_xpath('//h2[@class=\"a-size-mini a-spacing-none a-color-base s-line-clamp-2\"]'):\n",
    "    laptops.append(i.text)\n",
    "    "
   ]
  },
  {
   "cell_type": "code",
   "execution_count": 127,
   "metadata": {},
   "outputs": [
    {
     "data": {
      "text/plain": [
       "['ASUS ROG G703GI-E5148T 17.3\" (43.94 cms) FHD 144Hz/3ms Gaming Laptop (8th Gen Intel Core i9-8950HK/64GB/2TB SSHD + 1.5TB NVMe SSD/Windows 10/GTX 1080 8GB Graphics/4.70 Kg), Aluminum',\n",
       " 'ASUS ROG Zephyrus Duo 15, 15.6\" FHD 300Hz/3ms, Intel Core i9-10980HK 10th Gen, RTX 2080 SUPER Max-Q 8GB Graphic, Gaming Laptop (32GB/2TB RAID 0 SSD/Office 2019/Windows 10/Gray/2.4 Kg) GX550LXS-HF168TS',\n",
       " 'ASUS ROG Strix Scar 17 (2020), 17.3\" FHD 300Hz/3ms, Intel Core i9-10980HK 10th Gen, RTX 2080 Super GDDR6 8GB Graphics, Gaming Laptop (32GB/2TB RAID 0 SSD/Windows 10/Black/2.99 Kg), G732LXS-HG059T',\n",
       " 'Lenovo Legion 7 10th Gen Intel Core i9 15.6 inch Full HD Gaming Laptop (16GB/1TB SSD/Windows 10/MS Office 2019/144 Hz/NVIDIA RTX 2080 8GB GDDR6 Graphics/Slate Grey/2.25Kg), 81YU006HIN',\n",
       " 'ASUS ZenBook Pro Duo Intel Core i9-10980HK 10th Gen 15.6\" 4K UHD OLED Touchscreen Laptop (32GB RAM/1TB NVMe SSD/Windows 10/6GB NVIDIA GeForce RTX 2060 Graphics/Celestial Blue/2.5 Kg), UX581LV-H2035T',\n",
       " '(Renewed) Dell XPS 9570 Laptop|i9-8950HK|32GB DDR4|1TB SSD|15.6\" 4K Touch|NVIDIA GTX 1050Ti 4GB|Win 10 HSL|Backlit',\n",
       " 'ASUS ZenBook Pro Duo UX581GV-H2041T Intel Core i9 9th Gen 15.6\" 4K UHD OLED Touchscreen Laptop (32GB RAM/1TB NVMe SSD/Windows 10/6GB NVIDIA RTX 2060 Graphics/ScreenPad Plus/2.50 Kg), Celestial Blue',\n",
       " 'ASUS ROG Strix Scar 15 (2020), 15.6\" FHD 300Hz/3ms, Intel Core i9-10980HK 10th Gen, RTX 2070 Super 8GB Graphics, Gaming Laptop (32GB RAM/1TB NVMe SSD/Windows 10/Black/2.35 Kg), G532LWS-HF079T',\n",
       " 'Dell XPS 9570 15.6\" (39.62cms) UHD Laptop (8th Gen i9-8950HK/32GB/1TB SSD/Win 10 + MS Office/Integrated Graphics), Silver',\n",
       " 'HP Omen X 2S Core i9 9th Gen 15.6-inch Dual Screen Gaming Laptop (16GB/2TB SSD/Windows 10/8GB NVIDIA RTX 2080 Graphics/Shadow Black), 15-dg0019TX',\n",
       " 'Apple MacBook Pro (16-inch, 16GB RAM, 1TB Storage, 2.3GHz 9th Gen Intel Core i9) - Silver',\n",
       " 'HP Z4 Workstation, Intel Core i9-7900X, RAM 32GB (4x8GB), 2TB Hard Disk, GFX NVIDIA Quadro P2000 5GB (4) DP, Windows 10 Pro, DVDRW, 3 Yrs Onsite Warranty by HP']"
      ]
     },
     "execution_count": 127,
     "metadata": {},
     "output_type": "execute_result"
    }
   ],
   "source": [
    "laptops"
   ]
  },
  {
   "cell_type": "code",
   "execution_count": 128,
   "metadata": {},
   "outputs": [],
   "source": [
    "# for getting the accurate information we will get the urls of laptop\n",
    "laptops_url=[]\n",
    "for i in driver.find_elements_by_xpath('//h2[@class=\"a-size-mini a-spacing-none a-color-base s-line-clamp-2\"]/a'):\n",
    "    laptops_url.append(i.get_attribute('href'))"
   ]
  },
  {
   "cell_type": "code",
   "execution_count": 129,
   "metadata": {},
   "outputs": [
    {
     "data": {
      "text/plain": [
       "['https://www.amazon.in/Asus-G703GI-E5148T-17-3-inch-i9-8950HK-Processor/dp/B07GRCW51K/ref=sr_1_1?dchild=1&keywords=laptops&qid=1621630371&refinements=p_n_feature_thirteen_browse-bin%3A16757432031&rnid=12598141031&s=computers&sr=1-1',\n",
       " 'https://www.amazon.in/ASUS-Zephyrus-i9-10980HK-RTX-2080-SUPER-Max-Q-GX550LXS-HF168TS/dp/B08PFBB6RG/ref=sr_1_2?dchild=1&keywords=laptops&qid=1621630371&refinements=p_n_feature_thirteen_browse-bin%3A16757432031&rnid=12598141031&s=computers&sr=1-2',\n",
       " 'https://www.amazon.in/ASUS-Strix-Scar-i9-10980HK-RTX-2080-Super-G732LXS-HG059T/dp/B08GQZWVL9/ref=sr_1_3?dchild=1&keywords=laptops&qid=1621630371&refinements=p_n_feature_thirteen_browse-bin%3A16757432031&rnid=12598141031&s=computers&sr=1-3',\n",
       " 'https://www.amazon.in/Lenovo-Legion-Windows-Graphics-81YU006HIN/dp/B08GG9RZJC/ref=sr_1_4?dchild=1&keywords=laptops&qid=1621630371&refinements=p_n_feature_thirteen_browse-bin%3A16757432031&rnid=12598141031&s=computers&sr=1-4',\n",
       " 'https://www.amazon.in/ASUS-i9-10980HK-Touchscreen-Celestial-UX581LV-H2035T/dp/B08CHDLVT1/ref=sr_1_5?dchild=1&keywords=laptops&qid=1621630371&refinements=p_n_feature_thirteen_browse-bin%3A16757432031&rnid=12598141031&s=computers&sr=1-5',\n",
       " 'https://www.amazon.in/Renewed-Dell-XPS-i9-8950HK-Backlit/dp/B08X6DJVYR/ref=sr_1_6?dchild=1&keywords=laptops&qid=1621630371&refinements=p_n_feature_thirteen_browse-bin%3A16757432031&rnid=12598141031&s=computers&sr=1-6',\n",
       " 'https://www.amazon.in/ASUS-UX581GV-H2041T-Touchscreen-ScreenPad-Celestial/dp/B08521KLH6/ref=sr_1_7?dchild=1&keywords=laptops&qid=1621630371&refinements=p_n_feature_thirteen_browse-bin%3A16757432031&rnid=12598141031&s=computers&sr=1-7',\n",
       " 'https://www.amazon.in/ASUS-i9-10980HK-Graphics-Windows-G532LWS-HF079T/dp/B08HX42DGG/ref=sr_1_8?dchild=1&keywords=laptops&qid=1621630371&refinements=p_n_feature_thirteen_browse-bin%3A16757432031&rnid=12598141031&s=computers&sr=1-8',\n",
       " 'https://www.amazon.in/Dell-9570-15-6-inch-i9-8950HK-Integrated/dp/B08C5FMBLB/ref=sr_1_9?dchild=1&keywords=laptops&qid=1621630371&refinements=p_n_feature_thirteen_browse-bin%3A16757432031&rnid=12598141031&s=computers&sr=1-9',\n",
       " 'https://www.amazon.in/HP-15-6-inch-Windows-Graphics-15-dg0019TX/dp/B07TDKNM4W/ref=sr_1_10?dchild=1&keywords=laptops&qid=1621630371&refinements=p_n_feature_thirteen_browse-bin%3A16757432031&rnid=12598141031&s=computers&sr=1-10',\n",
       " 'https://www.amazon.in/Apple-MacBook-16-inch-Storage-2-3GHz/dp/B081JX8QP9/ref=sr_1_11?dchild=1&keywords=laptops&qid=1621630371&refinements=p_n_feature_thirteen_browse-bin%3A16757432031&rnid=12598141031&s=computers&sr=1-11',\n",
       " 'https://www.amazon.in/HP-Workstation-i9-7900X-Windows-Warranty/dp/B078LRG8MX/ref=sr_1_12?dchild=1&keywords=laptops&qid=1621630371&refinements=p_n_feature_thirteen_browse-bin%3A16757432031&rnid=12598141031&s=computers&sr=1-12']"
      ]
     },
     "execution_count": 129,
     "metadata": {},
     "output_type": "execute_result"
    }
   ],
   "source": [
    "laptops_url"
   ]
  },
  {
   "cell_type": "code",
   "execution_count": 130,
   "metadata": {},
   "outputs": [],
   "source": [
    "# for getting the ratings we will iterate to each page\n",
    "\n",
    "Ratings=[]\n",
    "for i in laptops_url:    \n",
    "    driver.get(i)                   # getting on pages through urls\n",
    "    try:                 \n",
    "        rate=driver.find_element_by_xpath(\"//span[@id='acrCustomerReviewText']\")#locating the ratingd link\n",
    "        rate.click()                                                      #click the rating link found\n",
    "        rating=driver.find_element_by_xpath(\"//span[@class='a-size-medium a-color-base']\")#locating the rating\n",
    "        Ratings.append(rating.text)#appending the ratings in Ratings list\n",
    "    except NoSuchElementException   as e:\n",
    "        Ratings.append(\"-\")#appending the No rating if no rating is there\n",
    "\n"
   ]
  },
  {
   "cell_type": "code",
   "execution_count": 131,
   "metadata": {},
   "outputs": [
    {
     "data": {
      "text/plain": [
       "['3.7 out of 5',\n",
       " '-',\n",
       " '4.8 out of 5',\n",
       " '3.7 out of 5',\n",
       " '3.8 out of 5',\n",
       " '-',\n",
       " '3.9 out of 5',\n",
       " '4.2 out of 5',\n",
       " '2.4 out of 5',\n",
       " '4.5 out of 5',\n",
       " '4.2 out of 5',\n",
       " '5 out of 5']"
      ]
     },
     "execution_count": 131,
     "metadata": {},
     "output_type": "execute_result"
    }
   ],
   "source": [
    "Ratings"
   ]
  },
  {
   "cell_type": "code",
   "execution_count": 133,
   "metadata": {},
   "outputs": [],
   "source": [
    "# for getting the prices we will iterate to each page\n",
    "prices=[]\n",
    "for i in laptops_url:        #loop for every laptop in the list\n",
    "\n",
    "    driver.get(i)\n",
    "\n",
    "    try:          \n",
    "        price=driver.find_element_by_xpath('//span[@class=\"a-size-medium a-color-price priceBlockBuyingPriceString\"]')\n",
    "        prices.append(price.text)\n",
    "    except NoSuchElementException   as e:\n",
    "        prices.append(\"-\")#appending no if no rating is there\n",
    "\n"
   ]
  },
  {
   "cell_type": "code",
   "execution_count": 134,
   "metadata": {},
   "outputs": [
    {
     "data": {
      "text/plain": [
       "['-',\n",
       " '₹ 2,66,990.00',\n",
       " '₹ 2,77,639.00',\n",
       " '₹ 2,62,990.00',\n",
       " '₹ 2,99,325.00',\n",
       " '-',\n",
       " '₹ 2,79,990.00',\n",
       " '₹ 2,15,990.00',\n",
       " '₹ 2,48,790.00',\n",
       " '₹ 3,45,800.00',\n",
       " '₹ 2,24,990.00',\n",
       " '₹ 2,69,900.00']"
      ]
     },
     "execution_count": 134,
     "metadata": {},
     "output_type": "execute_result"
    }
   ],
   "source": [
    "prices"
   ]
  },
  {
   "cell_type": "code",
   "execution_count": 135,
   "metadata": {},
   "outputs": [
    {
     "name": "stdout",
     "output_type": "stream",
     "text": [
      "12 12 12\n"
     ]
    }
   ],
   "source": [
    "print(len(prices),len(laptops),len(prices))"
   ]
  },
  {
   "cell_type": "code",
   "execution_count": 137,
   "metadata": {},
   "outputs": [],
   "source": [
    "# creating the DataFrame\n",
    "import pandas as pd\n",
    "core_i9_laptops=pd.DataFrame({})\n",
    "core_i9_laptops['Title']=laptops[0:10]\n",
    "core_i9_laptops['Ratings']=Ratings[0:10]\n",
    "core_i9_laptops['Price']=prices[0:10]"
   ]
  },
  {
   "cell_type": "code",
   "execution_count": 138,
   "metadata": {},
   "outputs": [
    {
     "data": {
      "text/html": [
       "<div>\n",
       "<style scoped>\n",
       "    .dataframe tbody tr th:only-of-type {\n",
       "        vertical-align: middle;\n",
       "    }\n",
       "\n",
       "    .dataframe tbody tr th {\n",
       "        vertical-align: top;\n",
       "    }\n",
       "\n",
       "    .dataframe thead th {\n",
       "        text-align: right;\n",
       "    }\n",
       "</style>\n",
       "<table border=\"1\" class=\"dataframe\">\n",
       "  <thead>\n",
       "    <tr style=\"text-align: right;\">\n",
       "      <th></th>\n",
       "      <th>Title</th>\n",
       "      <th>Ratings</th>\n",
       "      <th>Price</th>\n",
       "    </tr>\n",
       "  </thead>\n",
       "  <tbody>\n",
       "    <tr>\n",
       "      <th>0</th>\n",
       "      <td>ASUS ROG G703GI-E5148T 17.3\" (43.94 cms) FHD 1...</td>\n",
       "      <td>3.7 out of 5</td>\n",
       "      <td>-</td>\n",
       "    </tr>\n",
       "    <tr>\n",
       "      <th>1</th>\n",
       "      <td>ASUS ROG Zephyrus Duo 15, 15.6\" FHD 300Hz/3ms,...</td>\n",
       "      <td>-</td>\n",
       "      <td>₹ 2,66,990.00</td>\n",
       "    </tr>\n",
       "    <tr>\n",
       "      <th>2</th>\n",
       "      <td>ASUS ROG Strix Scar 17 (2020), 17.3\" FHD 300Hz...</td>\n",
       "      <td>4.8 out of 5</td>\n",
       "      <td>₹ 2,77,639.00</td>\n",
       "    </tr>\n",
       "    <tr>\n",
       "      <th>3</th>\n",
       "      <td>Lenovo Legion 7 10th Gen Intel Core i9 15.6 in...</td>\n",
       "      <td>3.7 out of 5</td>\n",
       "      <td>₹ 2,62,990.00</td>\n",
       "    </tr>\n",
       "    <tr>\n",
       "      <th>4</th>\n",
       "      <td>ASUS ZenBook Pro Duo Intel Core i9-10980HK 10t...</td>\n",
       "      <td>3.8 out of 5</td>\n",
       "      <td>₹ 2,99,325.00</td>\n",
       "    </tr>\n",
       "    <tr>\n",
       "      <th>5</th>\n",
       "      <td>(Renewed) Dell XPS 9570 Laptop|i9-8950HK|32GB ...</td>\n",
       "      <td>-</td>\n",
       "      <td>-</td>\n",
       "    </tr>\n",
       "    <tr>\n",
       "      <th>6</th>\n",
       "      <td>ASUS ZenBook Pro Duo UX581GV-H2041T Intel Core...</td>\n",
       "      <td>3.9 out of 5</td>\n",
       "      <td>₹ 2,79,990.00</td>\n",
       "    </tr>\n",
       "    <tr>\n",
       "      <th>7</th>\n",
       "      <td>ASUS ROG Strix Scar 15 (2020), 15.6\" FHD 300Hz...</td>\n",
       "      <td>4.2 out of 5</td>\n",
       "      <td>₹ 2,15,990.00</td>\n",
       "    </tr>\n",
       "    <tr>\n",
       "      <th>8</th>\n",
       "      <td>Dell XPS 9570 15.6\" (39.62cms) UHD Laptop (8th...</td>\n",
       "      <td>2.4 out of 5</td>\n",
       "      <td>₹ 2,48,790.00</td>\n",
       "    </tr>\n",
       "    <tr>\n",
       "      <th>9</th>\n",
       "      <td>HP Omen X 2S Core i9 9th Gen 15.6-inch Dual Sc...</td>\n",
       "      <td>4.5 out of 5</td>\n",
       "      <td>₹ 3,45,800.00</td>\n",
       "    </tr>\n",
       "  </tbody>\n",
       "</table>\n",
       "</div>"
      ],
      "text/plain": [
       "                                               Title       Ratings  \\\n",
       "0  ASUS ROG G703GI-E5148T 17.3\" (43.94 cms) FHD 1...  3.7 out of 5   \n",
       "1  ASUS ROG Zephyrus Duo 15, 15.6\" FHD 300Hz/3ms,...             -   \n",
       "2  ASUS ROG Strix Scar 17 (2020), 17.3\" FHD 300Hz...  4.8 out of 5   \n",
       "3  Lenovo Legion 7 10th Gen Intel Core i9 15.6 in...  3.7 out of 5   \n",
       "4  ASUS ZenBook Pro Duo Intel Core i9-10980HK 10t...  3.8 out of 5   \n",
       "5  (Renewed) Dell XPS 9570 Laptop|i9-8950HK|32GB ...             -   \n",
       "6  ASUS ZenBook Pro Duo UX581GV-H2041T Intel Core...  3.9 out of 5   \n",
       "7  ASUS ROG Strix Scar 15 (2020), 15.6\" FHD 300Hz...  4.2 out of 5   \n",
       "8  Dell XPS 9570 15.6\" (39.62cms) UHD Laptop (8th...  2.4 out of 5   \n",
       "9  HP Omen X 2S Core i9 9th Gen 15.6-inch Dual Sc...  4.5 out of 5   \n",
       "\n",
       "           Price  \n",
       "0              -  \n",
       "1  ₹ 2,66,990.00  \n",
       "2  ₹ 2,77,639.00  \n",
       "3  ₹ 2,62,990.00  \n",
       "4  ₹ 2,99,325.00  \n",
       "5              -  \n",
       "6  ₹ 2,79,990.00  \n",
       "7  ₹ 2,15,990.00  \n",
       "8  ₹ 2,48,790.00  \n",
       "9  ₹ 3,45,800.00  "
      ]
     },
     "execution_count": 138,
     "metadata": {},
     "output_type": "execute_result"
    }
   ],
   "source": [
    "core_i9_laptops"
   ]
  },
  {
   "cell_type": "code",
   "execution_count": 139,
   "metadata": {},
   "outputs": [],
   "source": [
    "# closing the chrome driver\n",
    "driver.close() "
   ]
  },
  {
   "cell_type": "code",
   "execution_count": null,
   "metadata": {},
   "outputs": [],
   "source": []
  },
  {
   "cell_type": "code",
   "execution_count": null,
   "metadata": {},
   "outputs": [],
   "source": []
  },
  {
   "cell_type": "code",
   "execution_count": null,
   "metadata": {},
   "outputs": [],
   "source": []
  },
  {
   "cell_type": "code",
   "execution_count": null,
   "metadata": {},
   "outputs": [],
   "source": []
  },
  {
   "cell_type": "code",
   "execution_count": null,
   "metadata": {},
   "outputs": [],
   "source": []
  },
  {
   "cell_type": "code",
   "execution_count": null,
   "metadata": {},
   "outputs": [],
   "source": []
  }
 ],
 "metadata": {
  "kernelspec": {
   "display_name": "Python 3",
   "language": "python",
   "name": "python3"
  },
  "language_info": {
   "codemirror_mode": {
    "name": "ipython",
    "version": 3
   },
   "file_extension": ".py",
   "mimetype": "text/x-python",
   "name": "python",
   "nbconvert_exporter": "python",
   "pygments_lexer": "ipython3",
   "version": "3.8.5"
  }
 },
 "nbformat": 4,
 "nbformat_minor": 4
}
